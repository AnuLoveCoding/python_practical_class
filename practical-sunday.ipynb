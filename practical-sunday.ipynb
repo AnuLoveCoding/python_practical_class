{
 "cells": [
  {
   "cell_type": "markdown",
   "id": "903567d1",
   "metadata": {},
   "source": [
    "# control flow statements;"
   ]
  },
  {
   "cell_type": "code",
   "execution_count": 8,
   "id": "da3e96d2",
   "metadata": {},
   "outputs": [
    {
     "name": "stdout",
     "output_type": "stream",
     "text": [
      "9\n",
      "Your are baby\n"
     ]
    }
   ],
   "source": [
    "# taking the input from user use input method;\n",
    "age = int(input())\n",
    "#start the if and elif condition beetween the condition;\n",
    "if age > 18:\n",
    "    print(\"Drive the car\")\n",
    "elif age >= 16:\n",
    "    print(\"You dont drive the car\")\n",
    "else:\n",
    "    print(\"Your are baby\")"
   ]
  },
  {
   "cell_type": "code",
   "execution_count": null,
   "id": "b6e96c05",
   "metadata": {},
   "outputs": [],
   "source": [
    "# nested if-else condition control flow;"
   ]
  },
  {
   "cell_type": "code",
   "execution_count": 14,
   "id": "95d0f6b9",
   "metadata": {},
   "outputs": [
    {
     "name": "stdout",
     "output_type": "stream",
     "text": [
      "8\n",
      "wait till you turn 18 you are baby\n"
     ]
    }
   ],
   "source": [
    "age = int(input())\n",
    "if age > 18:\n",
    "    if age >= 65:\n",
    "        print(\"take rest\")\n",
    "    else:\n",
    "        print(\"you are eligible\")\n",
    "        print(\"Drive slow\")\n",
    "else:\n",
    "    print(\"wait till you turn 18 \" + \"you are baby\")"
   ]
  },
  {
   "cell_type": "code",
   "execution_count": 22,
   "id": "c5138ed7",
   "metadata": {},
   "outputs": [
    {
     "name": "stdout",
     "output_type": "stream",
     "text": [
      "71\n",
      "number is not divisible by anyone sorry\n"
     ]
    }
   ],
   "source": [
    "num = int(input())\n",
    "if num % 2 == 0:\n",
    "    print(\"number is divisible by 2\")\n",
    "elif num % 3 == 0:\n",
    "    print(\" number is not divisible by 3\")\n",
    "else:\n",
    "    print(\"number is not divisible by anyone sorry\")"
   ]
  },
  {
   "cell_type": "code",
   "execution_count": 34,
   "id": "8f755024",
   "metadata": {},
   "outputs": [],
   "source": [
    "marks = [90,30,100,50,80,95]\n",
    "marks.insert(1,88)\n",
    "marks.append(504)\n",
    "# max = marks[0]\n",
    "#for i in marks:\n",
    "#    if i > max:\n",
    " #       max = i\n",
    "#print(max)"
   ]
  },
  {
   "cell_type": "code",
   "execution_count": 36,
   "id": "0330457e",
   "metadata": {},
   "outputs": [
    {
     "data": {
      "text/plain": [
       "30"
      ]
     },
     "execution_count": 36,
     "metadata": {},
     "output_type": "execute_result"
    }
   ],
   "source": [
    "min(marks)"
   ]
  },
  {
   "cell_type": "code",
   "execution_count": 40,
   "id": "4b07e646",
   "metadata": {},
   "outputs": [
    {
     "name": "stdout",
     "output_type": "stream",
     "text": [
      "91\n",
      "A\n"
     ]
    }
   ],
   "source": [
    "result = int(input())\n",
    "if result >= 90:\n",
    "    print(\"A\")\n",
    "elif result == 80 and result < 90:\n",
    "     print(\"B\")\n",
    "elif result == 70 and result < 80:\n",
    "     print(\"C\")\n",
    "elif result == 60 and result < 70:\n",
    "     print(\"D\")\n",
    "elif result < 60 or result == 60:\n",
    "    print(\"E\")\n",
    "else:\n",
    "    print(\"You are fail\")"
   ]
  },
  {
   "cell_type": "markdown",
   "id": "2ce3c73e",
   "metadata": {},
   "source": [
    "# Loops in python;"
   ]
  },
  {
   "cell_type": "code",
   "execution_count": null,
   "id": "8f7ccc4c",
   "metadata": {},
   "outputs": [],
   "source": [
    "j = 0\n",
    "while j <= 10:\n",
    "    print(\"Anurag\")\n",
    "    j += 2"
   ]
  },
  {
   "cell_type": "code",
   "execution_count": null,
   "id": "a5762ba2",
   "metadata": {},
   "outputs": [],
   "source": []
  },
  {
   "cell_type": "code",
   "execution_count": null,
   "id": "1648c08c",
   "metadata": {},
   "outputs": [],
   "source": []
  },
  {
   "cell_type": "code",
   "execution_count": null,
   "id": "17066ad8",
   "metadata": {},
   "outputs": [],
   "source": []
  },
  {
   "cell_type": "code",
   "execution_count": null,
   "id": "598fcd31",
   "metadata": {},
   "outputs": [],
   "source": []
  }
 ],
 "metadata": {
  "kernelspec": {
   "display_name": "Python 3 (ipykernel)",
   "language": "python",
   "name": "python3"
  },
  "language_info": {
   "codemirror_mode": {
    "name": "ipython",
    "version": 3
   },
   "file_extension": ".py",
   "mimetype": "text/x-python",
   "name": "python",
   "nbconvert_exporter": "python",
   "pygments_lexer": "ipython3",
   "version": "3.9.13"
  }
 },
 "nbformat": 4,
 "nbformat_minor": 5
}
