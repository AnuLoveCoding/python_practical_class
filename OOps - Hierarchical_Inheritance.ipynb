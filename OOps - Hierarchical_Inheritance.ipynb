{
 "cells": [
  {
   "cell_type": "code",
   "execution_count": 1,
   "id": "f2c90602",
   "metadata": {},
   "outputs": [],
   "source": [
    "class car:\n",
    "    def __init__(self, name, model, bullet_p, speed):\n",
    "        self.name = name\n",
    "        self.model = model\n",
    "        self.bullet_p = bullet_p\n",
    "        self.speed = speed\n",
    "        \n",
    "    def __repr__(self):\n",
    "        return(f'{self.name} , {self.model} , {self.bullet_p} , {self.speed}')\n",
    "    \n",
    "    def len_name(self):\n",
    "        return ('This is favorite car of year 2024')\n",
    "\n",
    "#     def __len__(self):\n",
    "#         return len(self.name)\n",
    "    \n",
    "#     def __add__(self, obj):\n",
    "#         return lambergini(self.name + obj.name , self.model + obj.model , True , self.speed + obj.speed)\n",
    "    \n",
    "        "
   ]
  },
  {
   "cell_type": "code",
   "execution_count": 2,
   "id": "eb877988",
   "metadata": {},
   "outputs": [],
   "source": [
    "car1 = car('lamber666',  '666lam' , True, 120)\n",
    "car2 = car('lamber568', '568lam1', False, 190)\n",
    "car3  = car('marr', 'hghghg', True, 100)"
   ]
  },
  {
   "cell_type": "code",
   "execution_count": 3,
   "id": "4943d642",
   "metadata": {},
   "outputs": [],
   "source": [
    "def car_name(car1):\n",
    "    return car1.name"
   ]
  },
  {
   "cell_type": "code",
   "execution_count": 4,
   "id": "106b8081",
   "metadata": {},
   "outputs": [
    {
     "name": "stdout",
     "output_type": "stream",
     "text": [
      "lamber666\n"
     ]
    }
   ],
   "source": [
    "print(car_name(car1))"
   ]
  },
  {
   "cell_type": "code",
   "execution_count": 5,
   "id": "f80ebac2",
   "metadata": {},
   "outputs": [],
   "source": [
    "name = [car1, car2 ,car3]"
   ]
  },
  {
   "cell_type": "code",
   "execution_count": 6,
   "id": "98e95492",
   "metadata": {},
   "outputs": [
    {
     "name": "stdout",
     "output_type": "stream",
     "text": [
      "['lamber666', 'lamber568', 'marr']\n"
     ]
    }
   ],
   "source": [
    "print(list(map(car_name,name)))"
   ]
  },
  {
   "cell_type": "code",
   "execution_count": 7,
   "id": "404523b7",
   "metadata": {},
   "outputs": [],
   "source": [
    "class maruti(car):\n",
    "    def __init__(self, name, model, speed):\n",
    "        self.name = name\n",
    "        self.model = model\n",
    "        self.speed = speed\n",
    "        \n",
    "    def __repr__(self):\n",
    "        return (f'{self.name},{self.model},{self.speed}')"
   ]
  },
  {
   "cell_type": "code",
   "execution_count": 8,
   "id": "ac17ec7e",
   "metadata": {},
   "outputs": [],
   "source": [
    "car5 = maruti('maru','mar15',90)"
   ]
  },
  {
   "cell_type": "code",
   "execution_count": 9,
   "id": "a9b28b5c",
   "metadata": {},
   "outputs": [
    {
     "name": "stdout",
     "output_type": "stream",
     "text": [
      "maru,mar15,90\n"
     ]
    }
   ],
   "source": [
    "print(car5)"
   ]
  },
  {
   "cell_type": "code",
   "execution_count": 10,
   "id": "7ea0da20",
   "metadata": {},
   "outputs": [
    {
     "name": "stdout",
     "output_type": "stream",
     "text": [
      "This is favorite car of year 2024\n"
     ]
    }
   ],
   "source": [
    "print(car5.len_name())"
   ]
  },
  {
   "cell_type": "code",
   "execution_count": 11,
   "id": "b370b7e1",
   "metadata": {},
   "outputs": [
    {
     "name": "stdout",
     "output_type": "stream",
     "text": [
      "maru,mar15,90\n"
     ]
    }
   ],
   "source": [
    "print(car5)"
   ]
  },
  {
   "cell_type": "code",
   "execution_count": 12,
   "id": "3dacd173",
   "metadata": {},
   "outputs": [],
   "source": [
    "class lambergini(car):\n",
    "    def __init__(self,name, model, bullet_p, speed, nitro):\n",
    "        car.__init__(self,name, model, bullet_p, speed)\n",
    "        self.nitro = nitro\n",
    "        \n",
    "    def __repr__(self):\n",
    "        return car.__repr__(self) + \" , \" + self.nitro\n",
    "    \n",
    "    def switch_nitro(self):\n",
    "        if self.nitro == 'Yes':\n",
    "            self.nitro = 'No'\n",
    "        else:\n",
    "            self.nitro = 'Yes'"
   ]
  },
  {
   "cell_type": "code",
   "execution_count": 13,
   "id": "5fc358f8",
   "metadata": {},
   "outputs": [],
   "source": [
    "def nitro_check(car11):\n",
    "    if car11.nitro == 'Yes':\n",
    "        return True\n",
    "    else:\n",
    "        return False"
   ]
  },
  {
   "cell_type": "code",
   "execution_count": 14,
   "id": "78cd21f1",
   "metadata": {},
   "outputs": [],
   "source": [
    "car6  = lambergini(\"lamber555\" , 'lam555', True, 120, 'Yes')\n",
    "car7 = lambergini(\"lamber666\", 'lam666', True, 190, 'No')\n",
    "car8 = lambergini(\"lamber777\",\"lam777\",True, 210, \"Yes\")"
   ]
  },
  {
   "cell_type": "code",
   "execution_count": 15,
   "id": "a465e043",
   "metadata": {},
   "outputs": [],
   "source": [
    "ans = [car6,car7,car8]"
   ]
  },
  {
   "cell_type": "code",
   "execution_count": 16,
   "id": "7c60222f",
   "metadata": {},
   "outputs": [
    {
     "name": "stdout",
     "output_type": "stream",
     "text": [
      "[lamber555 , lam555 , True , 120 , Yes, lamber777 , lam777 , True , 210 , Yes]\n"
     ]
    }
   ],
   "source": [
    "print(list(filter(nitro_check,ans)))"
   ]
  },
  {
   "cell_type": "code",
   "execution_count": 17,
   "id": "4bfe399a",
   "metadata": {},
   "outputs": [],
   "source": [
    "def switch(car22):\n",
    "    car22.switch_nitro()\n",
    "    return car22.nitro"
   ]
  },
  {
   "cell_type": "code",
   "execution_count": 18,
   "id": "4068faec",
   "metadata": {},
   "outputs": [
    {
     "name": "stdout",
     "output_type": "stream",
     "text": [
      "['No', 'No']\n"
     ]
    }
   ],
   "source": [
    "print(list(map(switch, list(filter(nitro_check,ans)))))"
   ]
  },
  {
   "cell_type": "code",
   "execution_count": 19,
   "id": "ba7b5ea5",
   "metadata": {},
   "outputs": [
    {
     "name": "stdout",
     "output_type": "stream",
     "text": [
      "lamber555 , lam555 , True , 120 , No\n",
      "lamber666 , lam666 , True , 190 , No\n",
      "lamber777 , lam777 , True , 210 , No\n"
     ]
    }
   ],
   "source": [
    "print(car6)\n",
    "print(car7)\n",
    "print(car8)"
   ]
  },
  {
   "cell_type": "code",
   "execution_count": null,
   "id": "6889770e",
   "metadata": {},
   "outputs": [],
   "source": []
  },
  {
   "cell_type": "code",
   "execution_count": null,
   "id": "993e91ef",
   "metadata": {},
   "outputs": [],
   "source": []
  },
  {
   "cell_type": "code",
   "execution_count": null,
   "id": "53172315",
   "metadata": {},
   "outputs": [],
   "source": []
  },
  {
   "cell_type": "code",
   "execution_count": 20,
   "id": "40173c03",
   "metadata": {},
   "outputs": [],
   "source": [
    "class father:\n",
    "    def money(self):\n",
    "        return (\"this is your property\")\n",
    "    \n",
    "#    this is overloading function \n",
    "    def money(self,name):\n",
    "        return (f\"This is {name} proprty\")\n",
    "    "
   ]
  },
  {
   "cell_type": "code",
   "execution_count": 21,
   "id": "35d379ce",
   "metadata": {},
   "outputs": [
    {
     "name": "stdout",
     "output_type": "stream",
     "text": [
      "This is Anurag proprty\n"
     ]
    }
   ],
   "source": [
    "a = father()\n",
    "print(a.money('Anurag'))"
   ]
  },
  {
   "cell_type": "code",
   "execution_count": 22,
   "id": "d4c40b54",
   "metadata": {},
   "outputs": [],
   "source": [
    "class child(father):\n",
    "    def money(self):\n",
    "        return (\"I don't need your property\")\n",
    "    \n",
    "    def money(self, age):\n",
    "        return (\"I my age is \" , age)"
   ]
  },
  {
   "cell_type": "code",
   "execution_count": 23,
   "id": "4040e0eb",
   "metadata": {},
   "outputs": [
    {
     "name": "stdout",
     "output_type": "stream",
     "text": [
      "('I my age is ', 21)\n"
     ]
    }
   ],
   "source": [
    "b = child()\n",
    "print(b.money(21))"
   ]
  },
  {
   "cell_type": "code",
   "execution_count": 24,
   "id": "9d8feb55",
   "metadata": {},
   "outputs": [],
   "source": [
    "def itself():\n",
    "    print(\"Anurag\")"
   ]
  },
  {
   "cell_type": "code",
   "execution_count": 25,
   "id": "30f501c0",
   "metadata": {},
   "outputs": [],
   "source": [
    "def itself2():\n",
    "    def name():\n",
    "        print('Anurag')\n",
    "        print(\"Pulkit\")\n",
    "        \n",
    "    return name"
   ]
  },
  {
   "cell_type": "code",
   "execution_count": 26,
   "id": "186d49cf",
   "metadata": {},
   "outputs": [],
   "source": [
    "itself = itself2()"
   ]
  },
  {
   "cell_type": "code",
   "execution_count": 27,
   "id": "4f7ab6de",
   "metadata": {},
   "outputs": [
    {
     "name": "stdout",
     "output_type": "stream",
     "text": [
      "Anurag\n",
      "Pulkit\n"
     ]
    }
   ],
   "source": [
    "itself()"
   ]
  },
  {
   "cell_type": "code",
   "execution_count": 28,
   "id": "3b600a7e",
   "metadata": {},
   "outputs": [],
   "source": [
    "from abc import ABC,abstractmethod"
   ]
  },
  {
   "cell_type": "code",
   "execution_count": 29,
   "id": "bf8f0840",
   "metadata": {},
   "outputs": [],
   "source": [
    "class Aeroplane(ABC):\n",
    "    @abstractmethod\n",
    "    def fly(self):\n",
    "        pass\n",
    "    \n",
    "    @abstractmethod\n",
    "    def show(self):\n",
    "        pass\n",
    "    \n",
    "    @abstractmethod\n",
    "    def land(self):\n",
    "        pass"
   ]
  },
  {
   "cell_type": "code",
   "execution_count": 30,
   "id": "f2a177af",
   "metadata": {},
   "outputs": [],
   "source": [
    "class indigo(Aeroplane):\n",
    "    def __init__(self,name):\n",
    "        self.name = name\n",
    "        \n",
    "    def __repr__(self):\n",
    "        return (f\"{self.name}\")\n",
    "    \n",
    "#     @abstractmethod\n",
    "#     def fly(self):\n",
    "#         pass\n",
    "        \n",
    "    def fly(self):\n",
    "        return (\"Indigo inherit Aeroplane\")\n",
    "    \n",
    "#     this concepts is over-loading\n",
    "    def fly(self, name):\n",
    "        return (f\"I awesome {name}\")\n",
    "     \n",
    "    def show(self):\n",
    "        return (\"okk i will come.. don't worrrry\")\n",
    "        \n",
    "    def land(self):\n",
    "        return \"I am safely landing\""
   ]
  },
  {
   "cell_type": "code",
   "execution_count": 31,
   "id": "6a33dc87",
   "metadata": {},
   "outputs": [],
   "source": [
    "class air(indigo):\n",
    "    def __init__(self, name):\n",
    "        indigo.__init__(self, name)\n",
    "        \n",
    "    def __repr__(self):\n",
    "        return indigo.__repr__(self)\n",
    "    \n",
    "#    overriding\n",
    "    def fly(self):\n",
    "        return (\"I am safelt flying\")"
   ]
  },
  {
   "cell_type": "code",
   "execution_count": 32,
   "id": "66c7aa61",
   "metadata": {},
   "outputs": [
    {
     "name": "stdout",
     "output_type": "stream",
     "text": [
      "I awesome Titu\n",
      "I am safely landing\n",
      "Anurag\n"
     ]
    }
   ],
   "source": [
    "obj = indigo('Anurag')\n",
    "print(obj.fly('Titu'))\n",
    "print(obj.land())\n",
    "print(obj)"
   ]
  },
  {
   "cell_type": "code",
   "execution_count": 33,
   "id": "d7858782",
   "metadata": {},
   "outputs": [
    {
     "data": {
      "text/plain": [
       "'I am safely landing'"
      ]
     },
     "execution_count": 33,
     "metadata": {},
     "output_type": "execute_result"
    }
   ],
   "source": [
    "air1 = air('Anu')\n",
    "air1.show()\n",
    "air1.land()"
   ]
  }
 ],
 "metadata": {
  "kernelspec": {
   "display_name": "Python 3 (ipykernel)",
   "language": "python",
   "name": "python3"
  },
  "language_info": {
   "codemirror_mode": {
    "name": "ipython",
    "version": 3
   },
   "file_extension": ".py",
   "mimetype": "text/x-python",
   "name": "python",
   "nbconvert_exporter": "python",
   "pygments_lexer": "ipython3",
   "version": "3.9.13"
  }
 },
 "nbformat": 4,
 "nbformat_minor": 5
}
