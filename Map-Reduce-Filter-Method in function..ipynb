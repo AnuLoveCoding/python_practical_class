{
 "cells": [
  {
   "cell_type": "code",
   "execution_count": 1,
   "id": "7ae2630a",
   "metadata": {},
   "outputs": [],
   "source": [
    "from functools import reduce"
   ]
  },
  {
   "cell_type": "markdown",
   "id": "53c79516",
   "metadata": {},
   "source": [
    "# Map method in function."
   ]
  },
  {
   "cell_type": "code",
   "execution_count": 14,
   "id": "c5dd9377",
   "metadata": {},
   "outputs": [],
   "source": [
    "def add(a):\n",
    "    return a + a"
   ]
  },
  {
   "cell_type": "code",
   "execution_count": 15,
   "id": "7a3c1f56",
   "metadata": {},
   "outputs": [],
   "source": [
    "numbers = [4,6,7,8,9]"
   ]
  },
  {
   "cell_type": "code",
   "execution_count": 16,
   "id": "ea7ffb4f",
   "metadata": {},
   "outputs": [],
   "source": [
    "out = map(add, numbers)"
   ]
  },
  {
   "cell_type": "code",
   "execution_count": 17,
   "id": "6920c668",
   "metadata": {},
   "outputs": [],
   "source": [
    "add = list(out)"
   ]
  },
  {
   "cell_type": "code",
   "execution_count": 67,
   "id": "aee6a361",
   "metadata": {},
   "outputs": [
    {
     "name": "stdout",
     "output_type": "stream",
     "text": [
      "[8, 12, 14, 16, 18]\n"
     ]
    }
   ],
   "source": [
    "print(add)"
   ]
  },
  {
   "cell_type": "code",
   "execution_count": 44,
   "id": "41cd73a3",
   "metadata": {},
   "outputs": [],
   "source": [
    "di = map(lambda aa : (aa * aa),(45,6,4,5,1,2,3,5,6))"
   ]
  },
  {
   "cell_type": "code",
   "execution_count": 45,
   "id": "9ecbcc24",
   "metadata": {},
   "outputs": [
    {
     "name": "stdout",
     "output_type": "stream",
     "text": [
      "[2025, 36, 16, 25, 1, 4, 9, 25, 36]\n"
     ]
    }
   ],
   "source": [
    "print(list(di))"
   ]
  },
  {
   "cell_type": "code",
   "execution_count": 49,
   "id": "9dafed05",
   "metadata": {},
   "outputs": [],
   "source": [
    "dii = map(lambda oo,pp : (oo * pp), (54,12),(14,16))"
   ]
  },
  {
   "cell_type": "code",
   "execution_count": 50,
   "id": "b7a8275a",
   "metadata": {},
   "outputs": [
    {
     "name": "stdout",
     "output_type": "stream",
     "text": [
      "[756, 192]\n"
     ]
    }
   ],
   "source": [
    "print(list(dii))"
   ]
  },
  {
   "cell_type": "code",
   "execution_count": 70,
   "id": "76d03104",
   "metadata": {},
   "outputs": [],
   "source": [
    "kk = map(lambda o,p,q :(o + p + q),(5,6,7),(9,6,7),(10,6,7))"
   ]
  },
  {
   "cell_type": "code",
   "execution_count": 71,
   "id": "18a15ffa",
   "metadata": {},
   "outputs": [
    {
     "name": "stdout",
     "output_type": "stream",
     "text": [
      "[24, 18, 21]\n"
     ]
    }
   ],
   "source": [
    "print(list(kk))"
   ]
  },
  {
   "cell_type": "markdown",
   "id": "1d085d2f",
   "metadata": {},
   "source": [
    "# Filter method in function;"
   ]
  },
  {
   "cell_type": "code",
   "execution_count": null,
   "id": "89727008",
   "metadata": {},
   "outputs": [],
   "source": [
    "def fill(a):\n",
    "    if a >= 9:\n",
    "        return a"
   ]
  },
  {
   "cell_type": "code",
   "execution_count": 29,
   "id": "92e2bdb8",
   "metadata": {},
   "outputs": [],
   "source": [
    "out1 = filter(fill,[2,5,6,4,7,8,9,7,8,9])"
   ]
  },
  {
   "cell_type": "code",
   "execution_count": 30,
   "id": "f4e99304",
   "metadata": {},
   "outputs": [
    {
     "name": "stdout",
     "output_type": "stream",
     "text": [
      "[9, 9]\n"
     ]
    }
   ],
   "source": [
    "print(list(out1))"
   ]
  },
  {
   "cell_type": "code",
   "execution_count": 36,
   "id": "5f828a24",
   "metadata": {},
   "outputs": [],
   "source": [
    "out2 = filter(lambda a : (a >= 5),(2,5,64,7,8,9,8,7,4,5,6))"
   ]
  },
  {
   "cell_type": "code",
   "execution_count": 37,
   "id": "3e711fe0",
   "metadata": {},
   "outputs": [
    {
     "name": "stdout",
     "output_type": "stream",
     "text": [
      "[5, 64, 7, 8, 9, 8, 7, 5, 6]\n"
     ]
    }
   ],
   "source": [
    "print(list(out2))"
   ]
  },
  {
   "cell_type": "code",
   "execution_count": 42,
   "id": "a14e1cd5",
   "metadata": {},
   "outputs": [],
   "source": [
    "out3 = filter(lambda b : (b <= 5),(4,2,1,5,4,6,7,1,2,0,1,4,5))"
   ]
  },
  {
   "cell_type": "code",
   "execution_count": 43,
   "id": "bee57287",
   "metadata": {},
   "outputs": [
    {
     "name": "stdout",
     "output_type": "stream",
     "text": [
      "(4, 2, 1, 5, 4, 1, 2, 0, 1, 4, 5)\n"
     ]
    }
   ],
   "source": [
    "print(tuple(out3))"
   ]
  },
  {
   "cell_type": "code",
   "execution_count": 54,
   "id": "a059c517",
   "metadata": {},
   "outputs": [],
   "source": [
    "n = filter(lambda b : (b % 2 == 0),(4,5,6,7,8,9,14,12,35))"
   ]
  },
  {
   "cell_type": "code",
   "execution_count": 55,
   "id": "608bb39a",
   "metadata": {},
   "outputs": [
    {
     "name": "stdout",
     "output_type": "stream",
     "text": [
      "[4, 6, 8, 14, 12]\n"
     ]
    }
   ],
   "source": [
    "print(list(n))"
   ]
  },
  {
   "cell_type": "code",
   "execution_count": 60,
   "id": "46950f83",
   "metadata": {},
   "outputs": [],
   "source": [
    "n1 = filter(lambda c : (c % 2 == 1),(4,5,6,7,8,9,4,1,2,3,15))"
   ]
  },
  {
   "cell_type": "code",
   "execution_count": 61,
   "id": "b856d8f1",
   "metadata": {},
   "outputs": [
    {
     "name": "stdout",
     "output_type": "stream",
     "text": [
      "(5, 7, 9, 1, 3, 15)\n"
     ]
    }
   ],
   "source": [
    "print(tuple(n1))"
   ]
  },
  {
   "cell_type": "code",
   "execution_count": 69,
   "id": "9a4cbca5",
   "metadata": {},
   "outputs": [
    {
     "ename": "ModuleNotFoundError",
     "evalue": "No module named 'reduce'",
     "output_type": "error",
     "traceback": [
      "\u001b[1;31m---------------------------------------------------------------------------\u001b[0m",
      "\u001b[1;31mModuleNotFoundError\u001b[0m                       Traceback (most recent call last)",
      "\u001b[1;32m~\\AppData\\Local\\Temp\\ipykernel_14756\\3271559822.py\u001b[0m in \u001b[0;36m<module>\u001b[1;34m\u001b[0m\n\u001b[1;32m----> 1\u001b[1;33m \u001b[1;32mimport\u001b[0m \u001b[0mreduce\u001b[0m\u001b[1;33m;\u001b[0m\u001b[1;33m\u001b[0m\u001b[1;33m\u001b[0m\u001b[0m\n\u001b[0m",
      "\u001b[1;31mModuleNotFoundError\u001b[0m: No module named 'reduce'"
     ]
    }
   ],
   "source": [
    "import reduce;"
   ]
  },
  {
   "cell_type": "markdown",
   "id": "1c5c2974",
   "metadata": {},
   "source": [
    "# Reduce method in function;"
   ]
  },
  {
   "cell_type": "code",
   "execution_count": 66,
   "id": "fa0923ab",
   "metadata": {},
   "outputs": [
    {
     "ename": "NameError",
     "evalue": "name 'reduce' is not defined",
     "output_type": "error",
     "traceback": [
      "\u001b[1;31m---------------------------------------------------------------------------\u001b[0m",
      "\u001b[1;31mNameError\u001b[0m                                 Traceback (most recent call last)",
      "\u001b[1;32m~\\AppData\\Local\\Temp\\ipykernel_14756\\3032980478.py\u001b[0m in \u001b[0;36m<module>\u001b[1;34m\u001b[0m\n\u001b[1;32m----> 1\u001b[1;33m \u001b[0mreduce\u001b[0m\u001b[1;33m(\u001b[0m\u001b[1;32mlambda\u001b[0m \u001b[0ma\u001b[0m \u001b[1;33m:\u001b[0m \u001b[0ma\u001b[0m \u001b[1;33m+\u001b[0m \u001b[0ma\u001b[0m\u001b[1;33m,\u001b[0m\u001b[1;33m(\u001b[0m\u001b[1;36m10\u001b[0m\u001b[1;33m,\u001b[0m\u001b[1;36m20\u001b[0m\u001b[1;33m,\u001b[0m\u001b[1;36m25\u001b[0m\u001b[1;33m,\u001b[0m\u001b[1;36m45\u001b[0m\u001b[1;33m,\u001b[0m\u001b[1;36m16\u001b[0m\u001b[1;33m)\u001b[0m\u001b[1;33m)\u001b[0m\u001b[1;33m\u001b[0m\u001b[1;33m\u001b[0m\u001b[0m\n\u001b[0m",
      "\u001b[1;31mNameError\u001b[0m: name 'reduce' is not defined"
     ]
    }
   ],
   "source": [
    "reduce(lambda a : a + a,(10, 20, 25, 45, 16))"
   ]
  },
  {
   "cell_type": "code",
   "execution_count": null,
   "id": "657e48ad",
   "metadata": {},
   "outputs": [],
   "source": []
  },
  {
   "cell_type": "code",
   "execution_count": null,
   "id": "0fc95363",
   "metadata": {},
   "outputs": [],
   "source": []
  },
  {
   "cell_type": "code",
   "execution_count": null,
   "id": "41337220",
   "metadata": {},
   "outputs": [],
   "source": []
  },
  {
   "cell_type": "code",
   "execution_count": null,
   "id": "a8c0ea84",
   "metadata": {},
   "outputs": [],
   "source": []
  },
  {
   "cell_type": "code",
   "execution_count": null,
   "id": "338e595b",
   "metadata": {},
   "outputs": [],
   "source": []
  },
  {
   "cell_type": "code",
   "execution_count": null,
   "id": "ec3a21ac",
   "metadata": {},
   "outputs": [],
   "source": []
  },
  {
   "cell_type": "code",
   "execution_count": null,
   "id": "20bba7c5",
   "metadata": {},
   "outputs": [],
   "source": []
  }
 ],
 "metadata": {
  "kernelspec": {
   "display_name": "Python 3 (ipykernel)",
   "language": "python",
   "name": "python3"
  },
  "language_info": {
   "codemirror_mode": {
    "name": "ipython",
    "version": 3
   },
   "file_extension": ".py",
   "mimetype": "text/x-python",
   "name": "python",
   "nbconvert_exporter": "python",
   "pygments_lexer": "ipython3",
   "version": "3.9.13"
  }
 },
 "nbformat": 4,
 "nbformat_minor": 5
}
