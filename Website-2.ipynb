{
 "cells": [
  {
   "cell_type": "code",
   "execution_count": 1,
   "id": "fa1a8d90",
   "metadata": {},
   "outputs": [],
   "source": [
    "# create a login function for Netfilx website;"
   ]
  },
  {
   "cell_type": "code",
   "execution_count": 2,
   "id": "b1db7eb8",
   "metadata": {},
   "outputs": [],
   "source": [
    "user = {\n",
    "    \"Anurag\" : \"Anur124567\",\n",
    "    \"Rohit\"  : \"ROH0202\",\n",
    "    \"Virat\"  : \"VIR@546\"\n",
    "}"
   ]
  },
  {
   "cell_type": "code",
   "execution_count": 6,
   "id": "c2769b4b",
   "metadata": {},
   "outputs": [],
   "source": [
    "def login(username, password, user):\n",
    "    if username not in user:\n",
    "         return (\"Sorry.. you username are invaild try again\")\n",
    "    elif user[username] == password:\n",
    "        return (\"Welcome to the Netflix-Faimly\")\n",
    "    else:\n",
    "        return (\"Your password in not-correct \")"
   ]
  },
  {
   "cell_type": "code",
   "execution_count": 9,
   "id": "078fbddb",
   "metadata": {},
   "outputs": [],
   "source": [
    "user.update({\"rahul\" : \"Raghu8790\"})"
   ]
  },
  {
   "cell_type": "code",
   "execution_count": 10,
   "id": "42ac79ee",
   "metadata": {},
   "outputs": [
    {
     "data": {
      "text/plain": [
       "dict_keys(['Anurag', 'Rohit', 'Virat', 'rahul'])"
      ]
     },
     "execution_count": 10,
     "metadata": {},
     "output_type": "execute_result"
    }
   ],
   "source": [
    "user.keys()"
   ]
  },
  {
   "cell_type": "code",
   "execution_count": 12,
   "id": "9132e6c8",
   "metadata": {},
   "outputs": [
    {
     "data": {
      "text/plain": [
       "'Your password in not-correct '"
      ]
     },
     "execution_count": 12,
     "metadata": {},
     "output_type": "execute_result"
    }
   ],
   "source": [
    "login(\"Anurag\", \"Anur4567\", user)"
   ]
  }
 ],
 "metadata": {
  "kernelspec": {
   "display_name": "Python 3 (ipykernel)",
   "language": "python",
   "name": "python3"
  },
  "language_info": {
   "codemirror_mode": {
    "name": "ipython",
    "version": 3
   },
   "file_extension": ".py",
   "mimetype": "text/x-python",
   "name": "python",
   "nbconvert_exporter": "python",
   "pygments_lexer": "ipython3",
   "version": "3.9.13"
  }
 },
 "nbformat": 4,
 "nbformat_minor": 5
}
