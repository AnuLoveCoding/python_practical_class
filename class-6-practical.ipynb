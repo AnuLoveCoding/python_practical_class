{
 "cells": [
  {
   "cell_type": "markdown",
   "id": "138edfe5",
   "metadata": {},
   "source": [
    "# append function in python;"
   ]
  },
  {
   "cell_type": "code",
   "execution_count": 4,
   "id": "99022da4",
   "metadata": {},
   "outputs": [
    {
     "name": "stdout",
     "output_type": "stream",
     "text": [
      "['apple', 'mango', 'guava', 'lemon', 'pine-apple']\n"
     ]
    }
   ],
   "source": [
    "x= [\"apple\",'mango',\"guava\",'lemon',]\n",
    "x.append(\"pine-apple\")"
   ]
  },
  {
   "cell_type": "code",
   "execution_count": 24,
   "id": "744f26dd",
   "metadata": {},
   "outputs": [
    {
     "name": "stdout",
     "output_type": "stream",
     "text": [
      "[['cheery', 'pizza', 'burger', 'cheery', 'pizza', 'cheery', 'samosa'], ['cheery', 'pizza', 'burger', 'cheery', 'pizza', 'cheery', 'samosa']]\n"
     ]
    }
   ],
   "source": [
    "k = [\"cheery\", \"pizza\",\"pizza\",\"cheery\",\"samosa\"]"
   ]
  },
  {
   "cell_type": "code",
   "execution_count": 30,
   "id": "20845328",
   "metadata": {},
   "outputs": [
    {
     "data": {
      "text/plain": [
       "[1, 5, 6, 9, 8, 7, [0, 2, 6, 4]]"
      ]
     },
     "execution_count": 30,
     "metadata": {},
     "output_type": "execute_result"
    }
   ],
   "source": [
    "hj = [1,5,6,9,8,7]\n",
    "jh = [0,2,6,4]\n",
    "hj.append(jh)\n",
    "hj"
   ]
  },
  {
   "cell_type": "markdown",
   "id": "cf21d477",
   "metadata": {},
   "source": [
    "# remove function in python;"
   ]
  },
  {
   "cell_type": "code",
   "execution_count": 12,
   "id": "f7f4881b",
   "metadata": {},
   "outputs": [
    {
     "name": "stdout",
     "output_type": "stream",
     "text": [
      "['mango', 'lemon']\n"
     ]
    }
   ],
   "source": [
    "x.remove(\"pine-apple\")\n",
    "print(x)"
   ]
  },
  {
   "cell_type": "markdown",
   "id": "2c2d265d",
   "metadata": {},
   "source": [
    "# clear function in python;"
   ]
  },
  {
   "cell_type": "code",
   "execution_count": 13,
   "id": "63232a2b",
   "metadata": {},
   "outputs": [
    {
     "name": "stdout",
     "output_type": "stream",
     "text": [
      "[]\n"
     ]
    }
   ],
   "source": [
    "x.clear()\n",
    "print(x)"
   ]
  },
  {
   "cell_type": "markdown",
   "id": "5b6a10fb",
   "metadata": {},
   "source": [
    "# copy() function in python;"
   ]
  },
  {
   "cell_type": "code",
   "execution_count": null,
   "id": "61ae8d7d",
   "metadata": {},
   "outputs": [],
   "source": [
    "m = [\"anurag\",\"is\", \"the\", \"good\", \"boy\"]"
   ]
  },
  {
   "cell_type": "code",
   "execution_count": 18,
   "id": "b96ba449",
   "metadata": {},
   "outputs": [
    {
     "name": "stdout",
     "output_type": "stream",
     "text": [
      "['anurag', 'is', 'the', 'good', 'boy']\n"
     ]
    }
   ],
   "source": [
    "c = m.copy()\n",
    "print(c)"
   ]
  },
  {
   "cell_type": "markdown",
   "id": "62d8cf6e",
   "metadata": {},
   "source": [
    "# count function in python;"
   ]
  },
  {
   "cell_type": "code",
   "execution_count": 21,
   "id": "9504ac24",
   "metadata": {},
   "outputs": [
    {
     "name": "stdout",
     "output_type": "stream",
     "text": [
      "3\n"
     ]
    }
   ],
   "source": [
    "cooount = [\"cheery\", \"pizza\",\"burger\",\"cheery\",\"pizza\",\"cheery\"]\n",
    "y = cooount.count(\"cheery\")\n",
    "print(y)"
   ]
  },
  {
   "cell_type": "markdown",
   "id": "6bfadde8",
   "metadata": {},
   "source": [
    "# extend function in python;"
   ]
  },
  {
   "cell_type": "code",
   "execution_count": 34,
   "id": "d26eefc6",
   "metadata": {},
   "outputs": [
    {
     "name": "stdout",
     "output_type": "stream",
     "text": [
      "[7, 8, 9, 7, 8, 9, 4, 5, 4, 6, 5, 6, 4, 7, 89, 1, 2, 3, 4, 5, 6, 7]\n"
     ]
    }
   ],
   "source": [
    "mn  = [7,8,9,7,8,9,4,5,4,6]\n",
    "nm = [5,6,4,7,89,1,2,3,4,5,6,7]\n",
    "mn.extend(nm)\n",
    "print(mn)"
   ]
  },
  {
   "cell_type": "code",
   "execution_count": null,
   "id": "d618c6d3",
   "metadata": {},
   "outputs": [],
   "source": []
  },
  {
   "cell_type": "code",
   "execution_count": null,
   "id": "5852081e",
   "metadata": {},
   "outputs": [],
   "source": []
  },
  {
   "cell_type": "markdown",
   "id": "c31a3e19",
   "metadata": {},
   "source": [
    "# use reverse function in python;"
   ]
  },
  {
   "cell_type": "code",
   "execution_count": 43,
   "id": "e45e4b9c",
   "metadata": {},
   "outputs": [],
   "source": [
    "uy = [\"list\",\"flattening\",\"Remove\",\"duplicate\",\"capitalize\",\"lower\"]\n",
    "uy.reverse()"
   ]
  },
  {
   "cell_type": "markdown",
   "id": "65b1aa01",
   "metadata": {},
   "source": [
    "# use insert function in python;"
   ]
  },
  {
   "cell_type": "code",
   "execution_count": 40,
   "id": "5de9f113",
   "metadata": {},
   "outputs": [
    {
     "name": "stdout",
     "output_type": "stream",
     "text": [
      "['lower', 'lemon', 'lemon', 'lemon', 'capitalize', 'duplicate', 'Remove', 'flattening', 'list']\n"
     ]
    }
   ],
   "source": [
    "uy.insert(1,\"lemon\")\n",
    "print(uy)"
   ]
  },
  {
   "cell_type": "markdown",
   "id": "02f2295d",
   "metadata": {},
   "source": [
    "# use index function in python"
   ]
  },
  {
   "cell_type": "code",
   "execution_count": 62,
   "id": "3ad8cabd",
   "metadata": {},
   "outputs": [
    {
     "data": {
      "text/plain": [
       "4"
      ]
     },
     "execution_count": 62,
     "metadata": {},
     "output_type": "execute_result"
    }
   ],
   "source": [
    "iu = [52,6,4,7,8,9,4,5,1,2,3,6,4,7]\n",
    "v = iu.index(8)\n",
    "v"
   ]
  },
  {
   "cell_type": "markdown",
   "id": "56e19a2f",
   "metadata": {},
   "source": [
    "# use sort function in python"
   ]
  },
  {
   "cell_type": "code",
   "execution_count": 64,
   "id": "c570a0bc",
   "metadata": {},
   "outputs": [
    {
     "data": {
      "text/plain": [
       "[1, 2, 3, 4, 4, 4, 5, 6, 6, 7, 7, 8, 9, 52]"
      ]
     },
     "execution_count": 64,
     "metadata": {},
     "output_type": "execute_result"
    }
   ],
   "source": [
    "iu.sort()\n",
    "iu"
   ]
  },
  {
   "cell_type": "markdown",
   "id": "4660a310",
   "metadata": {},
   "source": [
    "# use sort(reverse = True) function in python"
   ]
  },
  {
   "cell_type": "code",
   "execution_count": 65,
   "id": "319883e8",
   "metadata": {},
   "outputs": [
    {
     "data": {
      "text/plain": [
       "[52, 9, 8, 7, 7, 6, 6, 5, 4, 4, 4, 3, 2, 1]"
      ]
     },
     "execution_count": 65,
     "metadata": {},
     "output_type": "execute_result"
    }
   ],
   "source": [
    "iu.sort(reverse=True)\n",
    "iu"
   ]
  },
  {
   "cell_type": "code",
   "execution_count": null,
   "id": "24d5e753",
   "metadata": {},
   "outputs": [],
   "source": []
  },
  {
   "cell_type": "markdown",
   "id": "cb2c5886",
   "metadata": {},
   "source": [
    "# swapping the elements;"
   ]
  },
  {
   "cell_type": "code",
   "execution_count": 5,
   "id": "0aedfe7e",
   "metadata": {},
   "outputs": [
    {
     "data": {
      "text/plain": [
       "[4, 9, 7, 5, 8, 6, 1, 2, 3, 4, 7, 8]"
      ]
     },
     "execution_count": 5,
     "metadata": {},
     "output_type": "execute_result"
    }
   ],
   "source": [
    "p = [8,9,7,5,4,6,1,2,3,4,7,8]\n",
    "p[0],p[4]=p[4],p[0]\n",
    "p"
   ]
  },
  {
   "cell_type": "code",
   "execution_count": 6,
   "id": "c743d8f6",
   "metadata": {},
   "outputs": [
    {
     "data": {
      "text/plain": [
       "[7, 6, 9, 4, 5, 8, 7, 8, 9, 1, 5, 4, 6]"
      ]
     },
     "execution_count": 6,
     "metadata": {},
     "output_type": "execute_result"
    }
   ],
   "source": [
    "pi =[7,8,9,4,5,6,7,8,9,1,5,4,6]\n",
    "pi[1],pi[5] = pi[5],pi[1]\n",
    "pi"
   ]
  },
  {
   "cell_type": "markdown",
   "id": "da905286",
   "metadata": {},
   "source": [
    "# sort with out list method********"
   ]
  },
  {
   "cell_type": "code",
   "execution_count": 7,
   "id": "9dd8a6f0",
   "metadata": {},
   "outputs": [
    {
     "data": {
      "text/plain": [
       "[1, 4, 4, 5, 5, 6, 6, 7, 7, 8, 8, 9, 9]"
      ]
     },
     "execution_count": 7,
     "metadata": {},
     "output_type": "execute_result"
    }
   ],
   "source": [
    "xl = [7,8,9,4,5,6,7,8,9,1,5,4,6]\n",
    "for i in range(len(xl)):\n",
    "    for j in range (i + 1, len(xl)):\n",
    "        if xl[i] > xl[j]:\n",
    "            xl[i],xl[j] = xl[j],xl[i];\n",
    "xl"
   ]
  },
  {
   "cell_type": "code",
   "execution_count": 9,
   "id": "82b869dd",
   "metadata": {},
   "outputs": [
    {
     "data": {
      "text/plain": [
       "[1, 2, 2, 3, 5, 8, 8, 4, 4]"
      ]
     },
     "execution_count": 9,
     "metadata": {},
     "output_type": "execute_result"
    }
   ],
   "source": [
    "#count the unique value inside a list - how many elements with out duplicates\n",
    "z=[1,2,2,3,5,8,8,4,4]\n",
    "z"
   ]
  },
  {
   "cell_type": "code",
   "execution_count": 12,
   "id": "a90909e9",
   "metadata": {},
   "outputs": [
    {
     "data": {
      "text/plain": [
       "[1, 2, 3, 5, 8, 4]"
      ]
     },
     "execution_count": 12,
     "metadata": {},
     "output_type": "execute_result"
    }
   ],
   "source": [
    "w = []\n",
    "for i in z:\n",
    "    if i not in w:\n",
    "        w.append(i)\n",
    "w"
   ]
  },
  {
   "cell_type": "code",
   "execution_count": 13,
   "id": "48a386e7",
   "metadata": {},
   "outputs": [
    {
     "data": {
      "text/plain": [
       "6"
      ]
     },
     "execution_count": 13,
     "metadata": {},
     "output_type": "execute_result"
    }
   ],
   "source": [
    "len(w)"
   ]
  },
  {
   "cell_type": "code",
   "execution_count": null,
   "id": "ccb2d62b",
   "metadata": {},
   "outputs": [],
   "source": []
  },
  {
   "cell_type": "code",
   "execution_count": 5,
   "id": "c71aea8a",
   "metadata": {},
   "outputs": [
    {
     "data": {
      "text/plain": [
       "['apple', 'banana']"
      ]
     },
     "execution_count": 5,
     "metadata": {},
     "output_type": "execute_result"
    }
   ],
   "source": [
    "fruits = [\"apple\",\"banana\",\"water-milion\"]\n",
    "fruits.remove(\"water-milion\")\n",
    "fruits"
   ]
  },
  {
   "cell_type": "code",
   "execution_count": 19,
   "id": "1bd19398",
   "metadata": {},
   "outputs": [
    {
     "data": {
      "text/plain": [
       "3"
      ]
     },
     "execution_count": 19,
     "metadata": {},
     "output_type": "execute_result"
    }
   ],
   "source": [
    "y = [4,3,2,11,16]\n",
    "b = y.index(11)\n",
    "b"
   ]
  },
  {
   "cell_type": "code",
   "execution_count": 8,
   "id": "3ca2cd11",
   "metadata": {},
   "outputs": [
    {
     "data": {
      "text/plain": [
       "'banana'"
      ]
     },
     "execution_count": 8,
     "metadata": {},
     "output_type": "execute_result"
    }
   ],
   "source": [
    "fruits.pop(1)"
   ]
  },
  {
   "cell_type": "code",
   "execution_count": 9,
   "id": "773aae46",
   "metadata": {},
   "outputs": [
    {
     "name": "stdout",
     "output_type": "stream",
     "text": [
      "['apple']\n"
     ]
    }
   ],
   "source": [
    "print(fruits)"
   ]
  }
 ],
 "metadata": {
  "kernelspec": {
   "display_name": "Python 3 (ipykernel)",
   "language": "python",
   "name": "python3"
  },
  "language_info": {
   "codemirror_mode": {
    "name": "ipython",
    "version": 3
   },
   "file_extension": ".py",
   "mimetype": "text/x-python",
   "name": "python",
   "nbconvert_exporter": "python",
   "pygments_lexer": "ipython3",
   "version": "3.9.13"
  }
 },
 "nbformat": 4,
 "nbformat_minor": 5
}
