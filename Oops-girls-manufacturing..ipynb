{
 "cells": [
  {
   "cell_type": "code",
   "execution_count": null,
   "id": "c0955d84",
   "metadata": {},
   "outputs": [],
   "source": [
    "# Girl manufac"
   ]
  },
  {
   "cell_type": "code",
   "execution_count": 14,
   "id": "f10a9d6d",
   "metadata": {},
   "outputs": [],
   "source": [
    "class girl:\n",
    "    def __init__(self, eye, nose, long_hair, legs, name, sound):\n",
    "        self.eye = eye\n",
    "        self.nose = nose\n",
    "        self.long_hair = long_hair\n",
    "        self.legs = legs\n",
    "        self.name = name\n",
    "        self.sound = sound\n",
    "        \n",
    "    def __repr__(self):\n",
    "        return f\"{self.eye},{self.nose},{self.long_hair},{self.legs},{self.name},{self.sound}\"\n",
    "        "
   ]
  },
  {
   "cell_type": "code",
   "execution_count": 17,
   "id": "28b1ad28",
   "metadata": {},
   "outputs": [],
   "source": [
    "girl1 = girl(2, 2, 'yes', 2,'margelin','cook')\n",
    "girl2 = girl(1, 1 , 'No', 1, 'kite','mee - mee')\n",
    "girl3 = girl(1,1,'no',1,'neelam','meu-meu')"
   ]
  },
  {
   "cell_type": "code",
   "execution_count": 4,
   "id": "37fcae36",
   "metadata": {},
   "outputs": [
    {
     "name": "stdout",
     "output_type": "stream",
     "text": [
      "2,2,yes,2,margelin\n"
     ]
    }
   ],
   "source": [
    "print(girl1)"
   ]
  },
  {
   "cell_type": "code",
   "execution_count": 16,
   "id": "27d4746f",
   "metadata": {},
   "outputs": [
    {
     "name": "stdout",
     "output_type": "stream",
     "text": [
      "1,1,No,1,kite,mee - mee\n"
     ]
    }
   ],
   "source": [
    "print(girl2)"
   ]
  },
  {
   "cell_type": "code",
   "execution_count": null,
   "id": "76198876",
   "metadata": {},
   "outputs": [],
   "source": []
  },
  {
   "cell_type": "code",
   "execution_count": 18,
   "id": "59d89b3b",
   "metadata": {},
   "outputs": [
    {
     "name": "stdout",
     "output_type": "stream",
     "text": [
      "1,1,no,1,neelam,meu-meu\n"
     ]
    }
   ],
   "source": [
    "print(girl3)"
   ]
  },
  {
   "cell_type": "code",
   "execution_count": 12,
   "id": "58e21e03",
   "metadata": {},
   "outputs": [],
   "source": [
    "gg = [girl1 , \" \", girl2]"
   ]
  },
  {
   "cell_type": "code",
   "execution_count": 13,
   "id": "5716f01a",
   "metadata": {},
   "outputs": [
    {
     "name": "stdout",
     "output_type": "stream",
     "text": [
      "[2,2,yes,2,margelin, ' ', 1,1,No,1,kite]\n"
     ]
    }
   ],
   "source": [
    "print(gg)"
   ]
  },
  {
   "cell_type": "code",
   "execution_count": 19,
   "id": "e074083b",
   "metadata": {},
   "outputs": [
    {
     "data": {
      "text/plain": [
       "'neelam'"
      ]
     },
     "execution_count": 19,
     "metadata": {},
     "output_type": "execute_result"
    }
   ],
   "source": [
    "girl3.name"
   ]
  },
  {
   "cell_type": "code",
   "execution_count": 21,
   "id": "094e6840",
   "metadata": {},
   "outputs": [
    {
     "data": {
      "text/plain": [
       "2"
      ]
     },
     "execution_count": 21,
     "metadata": {},
     "output_type": "execute_result"
    }
   ],
   "source": [
    "girl1.eye"
   ]
  },
  {
   "cell_type": "code",
   "execution_count": null,
   "id": "33f89579",
   "metadata": {},
   "outputs": [],
   "source": []
  },
  {
   "cell_type": "code",
   "execution_count": null,
   "id": "943bb71a",
   "metadata": {},
   "outputs": [],
   "source": []
  },
  {
   "cell_type": "code",
   "execution_count": null,
   "id": "6825d217",
   "metadata": {},
   "outputs": [],
   "source": []
  },
  {
   "cell_type": "code",
   "execution_count": null,
   "id": "dc74bc80",
   "metadata": {},
   "outputs": [],
   "source": []
  },
  {
   "cell_type": "code",
   "execution_count": null,
   "id": "78f3f486",
   "metadata": {},
   "outputs": [],
   "source": []
  },
  {
   "cell_type": "code",
   "execution_count": null,
   "id": "784bd311",
   "metadata": {},
   "outputs": [],
   "source": []
  },
  {
   "cell_type": "code",
   "execution_count": null,
   "id": "fc038073",
   "metadata": {},
   "outputs": [],
   "source": []
  },
  {
   "cell_type": "code",
   "execution_count": null,
   "id": "766e05f2",
   "metadata": {},
   "outputs": [],
   "source": []
  },
  {
   "cell_type": "code",
   "execution_count": null,
   "id": "bffc989f",
   "metadata": {},
   "outputs": [],
   "source": []
  }
 ],
 "metadata": {
  "kernelspec": {
   "display_name": "Python 3 (ipykernel)",
   "language": "python",
   "name": "python3"
  },
  "language_info": {
   "codemirror_mode": {
    "name": "ipython",
    "version": 3
   },
   "file_extension": ".py",
   "mimetype": "text/x-python",
   "name": "python",
   "nbconvert_exporter": "python",
   "pygments_lexer": "ipython3",
   "version": "3.9.13"
  }
 },
 "nbformat": 4,
 "nbformat_minor": 5
}
