{
 "cells": [
  {
   "cell_type": "code",
   "execution_count": 2,
   "id": "f942f184",
   "metadata": {},
   "outputs": [],
   "source": [
    "# postional function;\n",
    "def sub(A, B):\n",
    "    return A - B"
   ]
  },
  {
   "cell_type": "code",
   "execution_count": 4,
   "id": "eb736125",
   "metadata": {},
   "outputs": [
    {
     "name": "stdout",
     "output_type": "stream",
     "text": [
      "1\n"
     ]
    }
   ],
   "source": [
    "print(sub(9,8))"
   ]
  },
  {
   "cell_type": "code",
   "execution_count": null,
   "id": "c0f0693c",
   "metadata": {},
   "outputs": [],
   "source": [
    "# keyword functon;"
   ]
  },
  {
   "cell_type": "code",
   "execution_count": 7,
   "id": "e30086c3",
   "metadata": {},
   "outputs": [
    {
     "name": "stdout",
     "output_type": "stream",
     "text": [
      "-1\n"
     ]
    }
   ],
   "source": [
    "print(sub(B = 9, A = 8))"
   ]
  },
  {
   "cell_type": "code",
   "execution_count": 9,
   "id": "4ebca952",
   "metadata": {},
   "outputs": [
    {
     "name": "stdout",
     "output_type": "stream",
     "text": [
      "-76\n"
     ]
    }
   ],
   "source": [
    "print(sub(B = 88, A = 12))"
   ]
  },
  {
   "cell_type": "code",
   "execution_count": 11,
   "id": "ea1aa3a1",
   "metadata": {},
   "outputs": [],
   "source": [
    "# arbitarity function; (* args)\n",
    "\n",
    "def sum1(*args):\n",
    "    ans = 0\n",
    "    for i in args:\n",
    "        ans += i\n",
    "        \n",
    "    return ans"
   ]
  },
  {
   "cell_type": "code",
   "execution_count": 12,
   "id": "0f3cfa9f",
   "metadata": {},
   "outputs": [
    {
     "name": "stdout",
     "output_type": "stream",
     "text": [
      "21\n"
     ]
    }
   ],
   "source": [
    "print(sum1(1,2,3,4,5,6))"
   ]
  },
  {
   "cell_type": "code",
   "execution_count": 14,
   "id": "43420f8f",
   "metadata": {},
   "outputs": [],
   "source": [
    "def myfav(*color):\n",
    "    return(f\"This is my favorite color\",color[3])"
   ]
  },
  {
   "cell_type": "code",
   "execution_count": 15,
   "id": "bccd2e81",
   "metadata": {},
   "outputs": [
    {
     "name": "stdout",
     "output_type": "stream",
     "text": [
      "('This is my favorite color', 8)\n"
     ]
    }
   ],
   "source": [
    "print(myfav('bule','red','pink',8))"
   ]
  },
  {
   "cell_type": "code",
   "execution_count": 18,
   "id": "5ce6779b",
   "metadata": {},
   "outputs": [],
   "source": [
    "# arbitary keywords;\n",
    "def kids(**kid):\n",
    "    return(f\"This is features of kids\", kid['location'])"
   ]
  },
  {
   "cell_type": "code",
   "execution_count": 19,
   "id": "04e74f44",
   "metadata": {},
   "outputs": [
    {
     "data": {
      "text/plain": [
       "('This is features of kids', 'Delhi')"
      ]
     },
     "execution_count": 19,
     "metadata": {},
     "output_type": "execute_result"
    }
   ],
   "source": [
    "kids(name = 'Anu',age = 18, location = 'Delhi')"
   ]
  },
  {
   "cell_type": "code",
   "execution_count": 20,
   "id": "bfd46efa",
   "metadata": {},
   "outputs": [],
   "source": [
    "def mybooks(*details):\n",
    "    return(f\"This is your choice to choose\", details[2])"
   ]
  },
  {
   "cell_type": "code",
   "execution_count": 21,
   "id": "a32e5e2b",
   "metadata": {},
   "outputs": [
    {
     "data": {
      "text/plain": [
       "('This is your choice to choose', 'Habbits')"
      ]
     },
     "execution_count": 21,
     "metadata": {},
     "output_type": "execute_result"
    }
   ],
   "source": [
    "mybooks('The-End','Inttigent-Investor','Habbits','Nuture')"
   ]
  },
  {
   "cell_type": "code",
   "execution_count": 37,
   "id": "d37bc8ea",
   "metadata": {},
   "outputs": [],
   "source": [
    "def preson(**details):\n",
    "    return(f\"This is your personal details \" , details['book'])"
   ]
  },
  {
   "cell_type": "code",
   "execution_count": 38,
   "id": "1e7125b4",
   "metadata": {},
   "outputs": [
    {
     "data": {
      "text/plain": [
       "('This is your personal details ', 'You can win')"
      ]
     },
     "execution_count": 38,
     "metadata": {},
     "output_type": "execute_result"
    }
   ],
   "source": [
    "preson(name='Anurag', age = 22 , location = 'Chapra',book = 'You can win')"
   ]
  }
 ],
 "metadata": {
  "kernelspec": {
   "display_name": "Python 3 (ipykernel)",
   "language": "python",
   "name": "python3"
  },
  "language_info": {
   "codemirror_mode": {
    "name": "ipython",
    "version": 3
   },
   "file_extension": ".py",
   "mimetype": "text/x-python",
   "name": "python",
   "nbconvert_exporter": "python",
   "pygments_lexer": "ipython3",
   "version": "3.9.13"
  }
 },
 "nbformat": 4,
 "nbformat_minor": 5
}
