{
 "cells": [
  {
   "cell_type": "code",
   "execution_count": 1,
   "id": "9fd3b942",
   "metadata": {},
   "outputs": [],
   "source": [
    "from functools import reduce"
   ]
  },
  {
   "cell_type": "code",
   "execution_count": 2,
   "id": "60d091a3",
   "metadata": {},
   "outputs": [],
   "source": [
    "class Aero_plane:\n",
    "    def __init__(self, name, fuel_capacity, no_Airhostess, captain, land):\n",
    "        self.name = name\n",
    "        self.fuel_capacity = fuel_capacity\n",
    "        self.no_Airhostess = no_Airhostess\n",
    "        self.captain = captain\n",
    "        self.land = land\n",
    "        \n",
    "    def __repr__(self):\n",
    "        return (f\"@{self.name} , {self.fuel_capacity} , {self.no_Airhostess} , {self.captain} , {self.land}\") \n",
    "    \n",
    "    def check_land(self):\n",
    "        if self.land == 'Yes':\n",
    "            self.land = 'No'\n",
    "        else:\n",
    "            self.land = 'Yes'"
   ]
  },
  {
   "cell_type": "code",
   "execution_count": null,
   "id": "d939d3cd",
   "metadata": {},
   "outputs": [],
   "source": []
  },
  {
   "cell_type": "code",
   "execution_count": 3,
   "id": "bdcfea03",
   "metadata": {},
   "outputs": [],
   "source": [
    "plane1 = Aero_plane('Air-India', '300-gallon' , 7 , 'captain - 3' , 'Yes')\n",
    "plane2 = Aero_plane('Indigo', '275-gallon' , 11 , 'captain - 2' , 'No')\n",
    "plane3 = Aero_plane('safari' , '400-gallon' , 9 , 'captain - 5', 'Yes')"
   ]
  },
  {
   "cell_type": "code",
   "execution_count": null,
   "id": "e9ad0ca0",
   "metadata": {},
   "outputs": [],
   "source": []
  },
  {
   "cell_type": "code",
   "execution_count": 4,
   "id": "4031dfe5",
   "metadata": {},
   "outputs": [],
   "source": [
    "def check(plane1):\n",
    "    if plane1.land == 'Yes':\n",
    "        return True\n",
    "    else:\n",
    "        return False"
   ]
  },
  {
   "cell_type": "code",
   "execution_count": 5,
   "id": "e192d29b",
   "metadata": {},
   "outputs": [],
   "source": [
    "arr = [plane1, plane2, plane3]"
   ]
  },
  {
   "cell_type": "code",
   "execution_count": 6,
   "id": "c0e3e4fc",
   "metadata": {},
   "outputs": [
    {
     "name": "stdout",
     "output_type": "stream",
     "text": [
      "[@Air-India , 300-gallon , 7 , captain - 3 , Yes, @safari , 400-gallon , 9 , captain - 5 , Yes]\n"
     ]
    }
   ],
   "source": [
    "print(list(filter(check,arr)))"
   ]
  },
  {
   "cell_type": "code",
   "execution_count": 7,
   "id": "e78e5e3d",
   "metadata": {},
   "outputs": [],
   "source": [
    "def switch(plane1):\n",
    "    plane1.check_land()\n",
    "    return plane1.land"
   ]
  },
  {
   "cell_type": "code",
   "execution_count": 8,
   "id": "c24771d9",
   "metadata": {},
   "outputs": [
    {
     "name": "stdout",
     "output_type": "stream",
     "text": [
      "['No', 'No']\n"
     ]
    }
   ],
   "source": [
    "print(list(map(switch,list(filter(check,arr)))))"
   ]
  },
  {
   "cell_type": "code",
   "execution_count": 9,
   "id": "18600684",
   "metadata": {},
   "outputs": [],
   "source": [
    "def pri(plane1):\n",
    "    if plane1.land == 'No':\n",
    "        return True\n",
    "    else:\n",
    "        return False"
   ]
  },
  {
   "cell_type": "code",
   "execution_count": 10,
   "id": "7b2a5741",
   "metadata": {},
   "outputs": [
    {
     "name": "stdout",
     "output_type": "stream",
     "text": [
      "[@Air-India , 300-gallon , 7 , captain - 3 , No, @Indigo , 275-gallon , 11 , captain - 2 , No, @safari , 400-gallon , 9 , captain - 5 , No]\n"
     ]
    }
   ],
   "source": [
    "print(list(filter(pri,arr)))"
   ]
  },
  {
   "cell_type": "code",
   "execution_count": 11,
   "id": "7f656e48",
   "metadata": {},
   "outputs": [],
   "source": [
    "class jet_Helicopter(Aero_plane):\n",
    "    def __init__(self, name , fuel_capacity, no_Airhostess, captain, land ,chopper):\n",
    "        Aero_plane.__init__(self,name , fuel_capacity,no_Airhostess, captain, land)\n",
    "        self.chopper = chopper\n",
    "        \n",
    "        \n",
    "    def __repr__(self):\n",
    "        return Aero_plane.__repr__(self) + \" , \" + str(self.chopper)\n",
    "              "
   ]
  },
  {
   "cell_type": "code",
   "execution_count": 12,
   "id": "c0ab22db",
   "metadata": {},
   "outputs": [],
   "source": [
    "jet1 = jet_Helicopter('j11', '150 - gallon', 15, \"3\", 'Yes', 2)"
   ]
  },
  {
   "cell_type": "code",
   "execution_count": 14,
   "id": "abf456a6",
   "metadata": {},
   "outputs": [],
   "source": [
    "class Helicopter(jet_Helicopter):\n",
    "    pass\n",
    "    "
   ]
  },
  {
   "cell_type": "code",
   "execution_count": null,
   "id": "512109d0",
   "metadata": {},
   "outputs": [],
   "source": []
  }
 ],
 "metadata": {
  "kernelspec": {
   "display_name": "Python 3 (ipykernel)",
   "language": "python",
   "name": "python3"
  },
  "language_info": {
   "codemirror_mode": {
    "name": "ipython",
    "version": 3
   },
   "file_extension": ".py",
   "mimetype": "text/x-python",
   "name": "python",
   "nbconvert_exporter": "python",
   "pygments_lexer": "ipython3",
   "version": "3.9.13"
  }
 },
 "nbformat": 4,
 "nbformat_minor": 5
}
