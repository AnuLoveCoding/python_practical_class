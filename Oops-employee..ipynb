{
 "cells": [
  {
   "cell_type": "code",
   "execution_count": 1,
   "id": "c1267061",
   "metadata": {},
   "outputs": [],
   "source": [
    "# make employess class;"
   ]
  },
  {
   "cell_type": "code",
   "execution_count": 81,
   "id": "58de2b42",
   "metadata": {},
   "outputs": [],
   "source": [
    "class Employee:\n",
    "    pass\n",
    "    \n",
    "    def __init__(self, f_name, l_name, salary):\n",
    "        self.f_name = f_name\n",
    "        self.l_name = l_name\n",
    "        self.salary = salary\n",
    "        self.increment = 1.4\n",
    "        \n",
    "    def increase(self):\n",
    "        self.salary = int(self.salary * Employee.increment)\n",
    "        \n",
    "    #def __repr__(self):\n",
    "        #return(f\"{self.f_name},{self.l_name},{self.salary}\")"
   ]
  },
  {
   "cell_type": "code",
   "execution_count": 87,
   "id": "41297c9e",
   "metadata": {},
   "outputs": [
    {
     "name": "stdout",
     "output_type": "stream",
     "text": [
      "{'f_name': 'Abhishek', 'l_name': 'Das', 'salary': 164000, 'increment': 1.4}\n",
      "<__main__.Employee object at 0x000001F4E1F3FD30>\n"
     ]
    }
   ],
   "source": [
    "name1 = Employee(\"Anurag\",\" Mundra\",75000)\n",
    "name2 = Employee(\"Abhishek\", \"Das\",164000)\n",
    "name3 = Employee(\"Rajan\",\"Raghu\",45000)\n",
    "\n",
    "print(name2.__dict__)"
   ]
  },
  {
   "cell_type": "code",
   "execution_count": null,
   "id": "fbdd8fa0",
   "metadata": {},
   "outputs": [],
   "source": []
  },
  {
   "cell_type": "code",
   "execution_count": null,
   "id": "abfd66f4",
   "metadata": {},
   "outputs": [],
   "source": []
  }
 ],
 "metadata": {
  "kernelspec": {
   "display_name": "Python 3 (ipykernel)",
   "language": "python",
   "name": "python3"
  },
  "language_info": {
   "codemirror_mode": {
    "name": "ipython",
    "version": 3
   },
   "file_extension": ".py",
   "mimetype": "text/x-python",
   "name": "python",
   "nbconvert_exporter": "python",
   "pygments_lexer": "ipython3",
   "version": "3.9.13"
  }
 },
 "nbformat": 4,
 "nbformat_minor": 5
}
