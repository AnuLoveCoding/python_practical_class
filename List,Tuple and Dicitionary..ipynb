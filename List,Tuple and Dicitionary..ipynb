{
 "cells": [
  {
   "cell_type": "code",
   "execution_count": 229,
   "id": "a4260cc7",
   "metadata": {},
   "outputs": [],
   "source": [
    "import sys"
   ]
  },
  {
   "cell_type": "code",
   "execution_count": 230,
   "id": "6752d6d0",
   "metadata": {},
   "outputs": [
    {
     "data": {
      "text/plain": [
       "'nr'"
      ]
     },
     "execution_count": 230,
     "metadata": {},
     "output_type": "execute_result"
    }
   ],
   "source": [
    "# 1 .What is slicing?\n",
    "# Slicing is giving the chunks of  items and jumps also;\n",
    "A = \"Anurag\"\n",
    "A[1:4:2]"
   ]
  },
  {
   "cell_type": "code",
   "execution_count": 231,
   "id": "8dddbf5f",
   "metadata": {},
   "outputs": [],
   "source": [
    "# 2. How can we distinguish between tuples and lists?\n",
    "# list are mutable and tuple is imutable;"
   ]
  },
  {
   "cell_type": "code",
   "execution_count": 232,
   "id": "1dd4fa0b",
   "metadata": {},
   "outputs": [
    {
     "name": "stdout",
     "output_type": "stream",
     "text": [
      "list[slice(8, None, None)]\n"
     ]
    }
   ],
   "source": [
    "# 3. What will be the output of the given code?\n",
    "List = ['p','r','i','n','t']\n",
    "print(list[8:])"
   ]
  },
  {
   "cell_type": "code",
   "execution_count": 233,
   "id": "cb034b3d",
   "metadata": {},
   "outputs": [
    {
     "name": "stdout",
     "output_type": "stream",
     "text": [
      "26\n",
      "<class 'str'>\n"
     ]
    }
   ],
   "source": [
    "# 4. Give the syntax required to convert an integer number into string?\n",
    "# use str();\n",
    "a = 26\n",
    "b = str(a)\n",
    "print(b)\n",
    "print(type(b))"
   ]
  },
  {
   "cell_type": "code",
   "execution_count": 234,
   "id": "5bcbd23f",
   "metadata": {},
   "outputs": [],
   "source": [
    "# 5. List is mutable. Justify?\n",
    "# list ie iterable and cahnge the data in existing list so we can say list it mutable."
   ]
  },
  {
   "cell_type": "code",
   "execution_count": 235,
   "id": "d4e0e6da",
   "metadata": {},
   "outputs": [],
   "source": [
    "# 6. Difference between del and remove methods in List?\n",
    "fruits = ['apple','banana','pineapple']\n",
    "fruits.remove('pineapple')\n",
    "del fruits"
   ]
  },
  {
   "cell_type": "code",
   "execution_count": 236,
   "id": "6adf71b3",
   "metadata": {},
   "outputs": [],
   "source": [
    "# 7. Difference between pop and remove in list?\n",
    "fruit = ['mango','pine-apple','grapes','orange','mango']\n",
    "#fruit.pop(2)\n",
    "#fruit.remove('mango')\n",
    "#fruit\n",
    "#fruit.remove(fruit[1])\n",
    "#fruit"
   ]
  },
  {
   "cell_type": "code",
   "execution_count": 237,
   "id": "beb25e10",
   "metadata": {},
   "outputs": [
    {
     "name": "stdout",
     "output_type": "stream",
     "text": [
      "5\n",
      "<class 'tuple'>\n"
     ]
    }
   ],
   "source": [
    "# 8. How are the values in a tuple accessed?\n",
    "y = 5,8,7,5,4,1,2\n",
    "print(y[0])\n",
    "print(type(y))"
   ]
  },
  {
   "cell_type": "code",
   "execution_count": 238,
   "id": "6fd25afa",
   "metadata": {},
   "outputs": [],
   "source": [
    "# 9. What is a Dictionary in Python\n",
    "# Dictionary is data-structure in python which is store key-value pair;"
   ]
  },
  {
   "cell_type": "code",
   "execution_count": 239,
   "id": "f79abbb1",
   "metadata": {},
   "outputs": [
    {
     "name": "stdout",
     "output_type": "stream",
     "text": [
      "[1, 3, 5, 7, 9, 11]\n"
     ]
    }
   ],
   "source": [
    "# 10. Define list comprehension\n",
    "list1 = [i for i in range(12) if i % 2 == 1]\n",
    "print(list1)"
   ]
  },
  {
   "cell_type": "code",
   "execution_count": 240,
   "id": "819ec11b",
   "metadata": {},
   "outputs": [],
   "source": [
    "# 11. Write a python program using list looping\n",
    "list2 = [5,6,7,8,9,4,5]\n",
    "list3 = []\n",
    "\n",
    "def prime(list2):\n",
    "    for i in list2:\n",
    "        count = 0\n",
    "        for j in range(1, i + 1):\n",
    "            if (i % j) == 0:\n",
    "                count += 1\n",
    "                \n",
    "        if(count == 2):\n",
    "            list3.append(i)             "
   ]
  },
  {
   "cell_type": "code",
   "execution_count": 241,
   "id": "96db914f",
   "metadata": {},
   "outputs": [],
   "source": [
    "prime(list2)"
   ]
  },
  {
   "cell_type": "code",
   "execution_count": 242,
   "id": "f5ca4ae0",
   "metadata": {},
   "outputs": [
    {
     "name": "stdout",
     "output_type": "stream",
     "text": [
      "[5, 7, 5]\n"
     ]
    }
   ],
   "source": [
    "print(list3)"
   ]
  },
  {
   "cell_type": "code",
   "execution_count": 243,
   "id": "f2877583",
   "metadata": {},
   "outputs": [
    {
     "name": "stdout",
     "output_type": "stream",
     "text": [
      "[5, 6, 7, 8, 9, 4, 5]\n"
     ]
    }
   ],
   "source": [
    "print(list2)"
   ]
  },
  {
   "cell_type": "code",
   "execution_count": 244,
   "id": "24ca95ca",
   "metadata": {},
   "outputs": [],
   "source": [
    "# 12. What do you meant by mutability and immutability?\n",
    "# mutability is means we can chane the data but immutability we cannot change the data;"
   ]
  },
  {
   "cell_type": "code",
   "execution_count": 245,
   "id": "14008954",
   "metadata": {},
   "outputs": [],
   "source": [
    "# 13. Define Histogram ********"
   ]
  },
  {
   "cell_type": "code",
   "execution_count": 246,
   "id": "13421895",
   "metadata": {},
   "outputs": [],
   "source": [
    "# 14. Define Tuple and show it is immutable with an example.\n",
    "oo = (4,5,6,55,7,9,56,4)"
   ]
  },
  {
   "cell_type": "code",
   "execution_count": 247,
   "id": "7c5e4f2d",
   "metadata": {},
   "outputs": [],
   "source": [
    "# compare  the size of list and tuple; tuple consume les memory rather tha lsit;"
   ]
  },
  {
   "cell_type": "code",
   "execution_count": 248,
   "id": "cf49fcdc",
   "metadata": {},
   "outputs": [
    {
     "name": "stdout",
     "output_type": "stream",
     "text": [
      "104\n"
     ]
    }
   ],
   "source": [
    "print(sys.getsizeof(oo))"
   ]
  },
  {
   "cell_type": "code",
   "execution_count": 249,
   "id": "569e21c7",
   "metadata": {},
   "outputs": [],
   "source": [
    "oo = [4,5,6,55,7,9,56,4]"
   ]
  },
  {
   "cell_type": "code",
   "execution_count": 250,
   "id": "d96662d3",
   "metadata": {},
   "outputs": [
    {
     "name": "stdout",
     "output_type": "stream",
     "text": [
      "120\n"
     ]
    }
   ],
   "source": [
    "print(sys.getsizeof(oo))"
   ]
  },
  {
   "cell_type": "code",
   "execution_count": 251,
   "id": "cc05555b",
   "metadata": {},
   "outputs": [
    {
     "name": "stdout",
     "output_type": "stream",
     "text": [
      "[1, 5, 6, 4, 8, 7, 9]\n"
     ]
    }
   ],
   "source": [
    "# 15. state the difference between aliasing and cloning in list\n",
    "j1 = [1,5,6,4,8,7,9]\n",
    "j2 = j1.copy()\n",
    "print(j2)"
   ]
  },
  {
   "cell_type": "code",
   "execution_count": 252,
   "id": "dd8b0aaa",
   "metadata": {},
   "outputs": [],
   "source": [
    "# 16. what is list cloning\n",
    "# List cloning is such as copy a list into the another list."
   ]
  },
  {
   "cell_type": "code",
   "execution_count": 253,
   "id": "2c046854",
   "metadata": {},
   "outputs": [
    {
     "name": "stdout",
     "output_type": "stream",
     "text": [
      "[99, 9, 8, 9, 6]\n"
     ]
    }
   ],
   "source": [
    "# 17. what is deep cloning\n",
    "l = [0,9,8,9,6]\n",
    "l2 = l.copy()\n",
    "l[0] = 99\n",
    "print(l)\n",
    "l2 = l.copy()"
   ]
  },
  {
   "cell_type": "code",
   "execution_count": 254,
   "id": "fbd64f6b",
   "metadata": {},
   "outputs": [],
   "source": [
    "# 18. state the difference between pop and remove method in list\n",
    "# when we use pop method in there the elments is deleted in last postion.\n",
    "# when we use remove method in there the passing the arugemts to delete the elements;"
   ]
  },
  {
   "cell_type": "code",
   "execution_count": 255,
   "id": "7a974b93",
   "metadata": {},
   "outputs": [
    {
     "name": "stdout",
     "output_type": "stream",
     "text": [
      "<class 'tuple'>\n"
     ]
    }
   ],
   "source": [
    "# 19. create tuple with single element\n",
    "k = (5,)\n",
    "print(type(k))"
   ]
  },
  {
   "cell_type": "code",
   "execution_count": 256,
   "id": "a66e723b",
   "metadata": {},
   "outputs": [
    {
     "name": "stdout",
     "output_type": "stream",
     "text": [
      "[9, 7, 5, 70, 3, 6, 7]\n"
     ]
    }
   ],
   "source": [
    "# 20. swap two numbers without using third variable\n",
    "jo = [9,7,70,5,3,6,7,]\n",
    "jo[2],jo[3] = jo[3],jo[2]\n",
    "print(jo)"
   ]
  },
  {
   "cell_type": "code",
   "execution_count": 257,
   "id": "c01d3e6f",
   "metadata": {},
   "outputs": [
    {
     "name": "stdout",
     "output_type": "stream",
     "text": [
      "dict_keys(['name', 'age', 'location', 'Pin-code'])\n",
      "dict_values(['Anurag', 22, 'New-Delhi', 110043])\n",
      "dict_items([('name', 'Anurag'), ('age', 22), ('location', 'New-Delhi'), ('Pin-code', 110043)])\n"
     ]
    }
   ],
   "source": [
    "# 21. define properties of key in dictionary\n",
    "k = {\n",
    "    'name' : \"Anurag\",\n",
    "    'age' : 22,\n",
    "    'location' : \"New-Delhi\",\n",
    "    'Pin-code' : 110043\n",
    "}\n",
    "print(k.keys())\n",
    "print(k.values())\n",
    "print(k.items())"
   ]
  },
  {
   "cell_type": "code",
   "execution_count": 258,
   "id": "7f9cd652",
   "metadata": {},
   "outputs": [],
   "source": [
    "# 22. how can you access elements from the dictionary\n",
    "# In deic we use .values() to know the elements;"
   ]
  },
  {
   "cell_type": "code",
   "execution_count": 259,
   "id": "cf632dd5",
   "metadata": {},
   "outputs": [],
   "source": [
    "# 23. difference between delete and clear method in dictionary\n",
    "# del k['name'] is use to del the key;\n",
    "# clear method use for del whole keys and make empty dictionary;"
   ]
  },
  {
   "cell_type": "code",
   "execution_count": 260,
   "id": "a98916c6",
   "metadata": {},
   "outputs": [],
   "source": [
    "name = ['anurag','age','live']\n",
    "values = [\"Anurag\",22,\"patna\"]"
   ]
  },
  {
   "cell_type": "code",
   "execution_count": 261,
   "id": "ecacf391",
   "metadata": {},
   "outputs": [
    {
     "name": "stdout",
     "output_type": "stream",
     "text": [
      "{'anurag': 'Anurag', 'age': 22, 'live': 'patna'}\n"
     ]
    }
   ],
   "source": [
    "dic = dict(zip(name,values))\n",
    "print(dic)"
   ]
  },
  {
   "cell_type": "code",
   "execution_count": 262,
   "id": "1d2fc052",
   "metadata": {},
   "outputs": [],
   "source": [
    "# 24. What is squeezing in list? give an example."
   ]
  },
  {
   "cell_type": "code",
   "execution_count": null,
   "id": "27c3afc6",
   "metadata": {},
   "outputs": [],
   "source": []
  },
  {
   "cell_type": "code",
   "execution_count": 263,
   "id": "bb55134c",
   "metadata": {},
   "outputs": [
    {
     "name": "stdout",
     "output_type": "stream",
     "text": [
      "[5, 9, 9, 0, 8, 9]\n"
     ]
    }
   ],
   "source": [
    "# 25. How to convert a tuple in to list\n",
    "kj = (5,9,9,0,8,9)\n",
    "jk = list(kj)\n",
    "print(jk)"
   ]
  },
  {
   "cell_type": "code",
   "execution_count": 264,
   "id": "dac02dc9",
   "metadata": {},
   "outputs": [
    {
     "name": "stdout",
     "output_type": "stream",
     "text": [
      "(2, 3, 4, 5, 6, 78, 9)\n"
     ]
    }
   ],
   "source": [
    "# 26. How to convert a list in to tuple\n",
    "ml = [2,3,4,5,6,78,9]\n",
    "lm = tuple(ml)\n",
    "print(lm)"
   ]
  },
  {
   "cell_type": "code",
   "execution_count": 265,
   "id": "f1bba118",
   "metadata": {},
   "outputs": [],
   "source": [
    "# 27. Create a list using list comprehension"
   ]
  },
  {
   "cell_type": "code",
   "execution_count": 266,
   "id": "59473998",
   "metadata": {},
   "outputs": [],
   "source": [
    "# 28. Advantage of list comprehension"
   ]
  },
  {
   "cell_type": "code",
   "execution_count": 1,
   "id": "a5129756",
   "metadata": {},
   "outputs": [
    {
     "name": "stdout",
     "output_type": "stream",
     "text": [
      "[1, 2, 3, 4, 5, 6]\n"
     ]
    }
   ],
   "source": [
    "x = [i for i in range(1, 6 + 1)]\n",
    "print(x)"
   ]
  },
  {
   "cell_type": "code",
   "execution_count": 2,
   "id": "122c0bba",
   "metadata": {},
   "outputs": [
    {
     "name": "stdout",
     "output_type": "stream",
     "text": [
      "[1, 2, 3, 4, 5, 6]\n"
     ]
    }
   ],
   "source": [
    "print(x)"
   ]
  },
  {
   "cell_type": "code",
   "execution_count": 267,
   "id": "14ed5f55",
   "metadata": {},
   "outputs": [
    {
     "name": "stdout",
     "output_type": "stream",
     "text": [
      "[False, True, 5, 4, 3, 2, 1, 'ramesh', 'Anurag']\n"
     ]
    }
   ],
   "source": [
    "# 41. Revers the give list\n",
    "lm = ['Anurag','ramesh',1,2,3,4,5,True,False]\n",
    "lm.reverse()\n",
    "print(lm)"
   ]
  },
  {
   "cell_type": "code",
   "execution_count": 268,
   "id": "d9edea0c",
   "metadata": {},
   "outputs": [
    {
     "name": "stdout",
     "output_type": "stream",
     "text": [
      "[78, 67, 22, 11, 10, 7, 6, 5, 2]\n"
     ]
    }
   ],
   "source": [
    "# 42. Sort for ascending and descending order\n",
    "Y = [ 2,5,6,7,78,67,22,11,10]\n",
    "#Y.sort()\n",
    "Y.sort(reverse=True)\n",
    "print(Y)"
   ]
  },
  {
   "cell_type": "code",
   "execution_count": 269,
   "id": "9a688555",
   "metadata": {},
   "outputs": [],
   "source": [
    "# 43. Flatten the given nested list\n",
    "z = [1,2,3,4,[5,6,7,[4,11,7]]]"
   ]
  },
  {
   "cell_type": "code",
   "execution_count": 270,
   "id": "9cbca6d0",
   "metadata": {},
   "outputs": [],
   "source": [
    "z1 = []\n",
    "for i in z:\n",
    "    if type(i) == list:\n",
    "        for j in i:\n",
    "            if type(j) == list:\n",
    "                for k in j:\n",
    "                    if type(k) == list:\n",
    "                        for l in k:\n",
    "                            z1.append(l)\n",
    "                    else:\n",
    "                        z1.append(k)\n",
    "            else:\n",
    "                z1.append(j)\n",
    "    else:\n",
    "        z1.append(i)"
   ]
  },
  {
   "cell_type": "code",
   "execution_count": 271,
   "id": "4640832f",
   "metadata": {},
   "outputs": [
    {
     "name": "stdout",
     "output_type": "stream",
     "text": [
      "[1, 2, 3, 4, 5, 6, 7, 4, 11, 7]\n"
     ]
    }
   ],
   "source": [
    "print(z1)"
   ]
  },
  {
   "cell_type": "code",
   "execution_count": 272,
   "id": "2535a3a8",
   "metadata": {},
   "outputs": [],
   "source": [
    "# 44. Using list comprehension pick the odd numbers\n",
    "J = [ 1,2,3,4,5,6,7,8,9]"
   ]
  },
  {
   "cell_type": "code",
   "execution_count": 273,
   "id": "17a85f84",
   "metadata": {},
   "outputs": [],
   "source": [
    "k = [i for i in J if i % 2 == 1]\n",
    "k1 = [i for i in J if i % 2 == 0]"
   ]
  },
  {
   "cell_type": "code",
   "execution_count": 274,
   "id": "f66d3269",
   "metadata": {},
   "outputs": [
    {
     "name": "stdout",
     "output_type": "stream",
     "text": [
      "[1, 3, 5, 7, 9] [2, 4, 6, 8]\n"
     ]
    }
   ],
   "source": [
    "print(k, end = \" \")\n",
    "print(k1)"
   ]
  },
  {
   "cell_type": "code",
   "execution_count": 275,
   "id": "5257927e",
   "metadata": {},
   "outputs": [],
   "source": [
    "# 45. Unpack the given nested list to find : will be asked randomly\n",
    "m =[1,4,5,8,[2,6,7,10,9,[3,11,78,88,77,[ 66,55,44]]]]"
   ]
  },
  {
   "cell_type": "code",
   "execution_count": 276,
   "id": "15631a7e",
   "metadata": {},
   "outputs": [],
   "source": [
    "m1 = []\n",
    "for i in m:\n",
    "    if type(i) == list:\n",
    "        for j in i:\n",
    "            if type(j) == list:\n",
    "                for k in j:\n",
    "                    if type(k) == list:\n",
    "                        for a in k:\n",
    "                            m1.append(a)\n",
    "                    else:\n",
    "                        m1.append(k)\n",
    "            else:\n",
    "                m1.append(j)\n",
    "    else:\n",
    "        m1.append(i)"
   ]
  },
  {
   "cell_type": "code",
   "execution_count": 277,
   "id": "bf669bfb",
   "metadata": {},
   "outputs": [
    {
     "name": "stdout",
     "output_type": "stream",
     "text": [
      "[1, 4, 5, 8, 2, 6, 7, 10, 9, 3, 11, 78, 88, 77, 66, 55, 44]\n"
     ]
    }
   ],
   "source": [
    "print(m1)"
   ]
  },
  {
   "cell_type": "code",
   "execution_count": 278,
   "id": "30524fa5",
   "metadata": {},
   "outputs": [
    {
     "name": "stdout",
     "output_type": "stream",
     "text": [
      "<class 'set'>\n"
     ]
    }
   ],
   "source": [
    "# 46. Convert a List to Set and Set to List.\n",
    "mn = [1,2,5,4,6,7,8,9]\n",
    "nm = set(mn)\n",
    "print(type(nm))"
   ]
  },
  {
   "cell_type": "code",
   "execution_count": 279,
   "id": "c9708b0c",
   "metadata": {},
   "outputs": [],
   "source": [
    "# 47. Remove duplicates using list comprehension.\n",
    "# hj = [4,5,4,7,8,5,1,2,8]\n",
    "# jh = [i for i in hj if i not in jh ]\n",
    "\n",
    "#for i in hj:\n",
    "    # if i not in jh:\n",
    "        #jh.append(i)"
   ]
  },
  {
   "cell_type": "code",
   "execution_count": 280,
   "id": "6da675a2",
   "metadata": {},
   "outputs": [],
   "source": [
    "# print(jh)"
   ]
  },
  {
   "cell_type": "code",
   "execution_count": 281,
   "id": "128d61ad",
   "metadata": {},
   "outputs": [],
   "source": [
    "# 48. Sort data using list comprehension.\n",
    "jn = [1,5,7,1,2,9,4,3,0]\n",
    "\n",
    "#for i in range(len(jn)):\n",
    "    #for j in range(i + 1, len(jn)):\n",
    "        #if jn[i] > jn[j]:\n",
    "            #jn[i],jn[j] = jn[j],jn[i]"
   ]
  },
  {
   "cell_type": "code",
   "execution_count": 282,
   "id": "352c6857",
   "metadata": {},
   "outputs": [],
   "source": [
    "# 49. Count the number of occurrences in the list using dictionary comprehension.\n",
    "ko = [1,1,2,4,5,4,2,1,5,6,7,7,8,55]"
   ]
  },
  {
   "cell_type": "code",
   "execution_count": 283,
   "id": "8c34782c",
   "metadata": {},
   "outputs": [],
   "source": [
    "ok = {}\n",
    "for i in ko:\n",
    "    if i not in ok:\n",
    "        ok[i] = 1\n",
    "    else:\n",
    "        ok[i] += 1"
   ]
  },
  {
   "cell_type": "code",
   "execution_count": 284,
   "id": "7a8b5498",
   "metadata": {},
   "outputs": [
    {
     "name": "stdout",
     "output_type": "stream",
     "text": [
      "{1: 3, 2: 2, 4: 2, 5: 2, 6: 1, 7: 2, 8: 1, 55: 1}\n"
     ]
    }
   ],
   "source": [
    "print(ok)"
   ]
  },
  {
   "cell_type": "code",
   "execution_count": 285,
   "id": "2decf3b8",
   "metadata": {},
   "outputs": [],
   "source": [
    "# 50. Count the number of occurrences in a list."
   ]
  },
  {
   "cell_type": "code",
   "execution_count": 286,
   "id": "639fb44f",
   "metadata": {},
   "outputs": [
    {
     "data": {
      "text/plain": [
       "2"
      ]
     },
     "execution_count": 286,
     "metadata": {},
     "output_type": "execute_result"
    }
   ],
   "source": [
    "km = ['apple','apple','banaa']\n",
    "km.count('apple')"
   ]
  },
  {
   "cell_type": "code",
   "execution_count": 287,
   "id": "a4fb7b89",
   "metadata": {},
   "outputs": [],
   "source": [
    "# 51. Swap first and last elements in the list.\n",
    "kn = ['apple','grapes','mango','pine-apple','cheery',25]\n",
    "kn[0],kn[5] = kn[5],kn[0]"
   ]
  },
  {
   "cell_type": "code",
   "execution_count": 288,
   "id": "1b50aa02",
   "metadata": {},
   "outputs": [
    {
     "name": "stdout",
     "output_type": "stream",
     "text": [
      "[25, 'grapes', 'mango', 'pine-apple', 'cheery', 'apple']\n"
     ]
    }
   ],
   "source": [
    "print(kn)"
   ]
  },
  {
   "cell_type": "code",
   "execution_count": 289,
   "id": "c397c290",
   "metadata": {},
   "outputs": [],
   "source": [
    "# 52. Count the unique values inside a list - how many elements without duplicates,\n",
    "x = [1,2,2,3,5,8,8,4,4]"
   ]
  },
  {
   "cell_type": "code",
   "execution_count": 290,
   "id": "a8145bef",
   "metadata": {},
   "outputs": [],
   "source": [
    "# 53. Remove duplicates without using for loops\n",
    "x = [1,2,2,3,5,8,8,4,4]\n",
    "x2 = set(x)"
   ]
  },
  {
   "cell_type": "code",
   "execution_count": 291,
   "id": "af60dab2",
   "metadata": {},
   "outputs": [
    {
     "name": "stdout",
     "output_type": "stream",
     "text": [
      "[2, 3, 4, 6, 8, 35, 82]\n"
     ]
    }
   ],
   "source": [
    "# 54. SORT A LIST WITHOUT USING SORT FUNCTION\\n\",\n",
    "x = [3,2,35,4,82,6,8]\n",
    "\n",
    "for i in range(len(x)):\n",
    "    for j in range(i + 1, len(x)):\n",
    "        if x[i] > x[j]:\n",
    "            x[i],x[j] = x[j],x[i]\n",
    "            \n",
    "print(x)"
   ]
  },
  {
   "cell_type": "code",
   "execution_count": 292,
   "id": "95976a48",
   "metadata": {},
   "outputs": [],
   "source": [
    "# 55. GIVE ME CUBE OF EVERY NUMBER IN A LIST USING LIST COMPREHENSION.\\n\",\n",
    "x = [3,2,35,4,82,6,8]\n",
    "x5 = []\n",
    "for i in x:\n",
    "    if i not in x5:\n",
    "        x5.append(i ** 3)"
   ]
  },
  {
   "cell_type": "code",
   "execution_count": 293,
   "id": "9251e132",
   "metadata": {},
   "outputs": [
    {
     "name": "stdout",
     "output_type": "stream",
     "text": [
      "[27, 8, 42875, 64, 551368, 216]\n"
     ]
    }
   ],
   "source": [
    "print(x5)"
   ]
  },
  {
   "cell_type": "code",
   "execution_count": 294,
   "id": "64259381",
   "metadata": {},
   "outputs": [],
   "source": [
    "A = 'Abc'\n",
    "B = 'bAcd'"
   ]
  },
  {
   "cell_type": "code",
   "execution_count": 295,
   "id": "2913fbdc",
   "metadata": {},
   "outputs": [],
   "source": [
    "def check_anagrams(A, B):\n",
    "    if sorted(A) == sorted(B):\n",
    "        return True\n",
    "    else:\n",
    "        return False"
   ]
  },
  {
   "cell_type": "code",
   "execution_count": 296,
   "id": "910bc370",
   "metadata": {},
   "outputs": [
    {
     "data": {
      "text/plain": [
       "False"
      ]
     },
     "execution_count": 296,
     "metadata": {},
     "output_type": "execute_result"
    }
   ],
   "source": [
    "check_anagrams(A, B)"
   ]
  }
 ],
 "metadata": {
  "kernelspec": {
   "display_name": "Python 3 (ipykernel)",
   "language": "python",
   "name": "python3"
  },
  "language_info": {
   "codemirror_mode": {
    "name": "ipython",
    "version": 3
   },
   "file_extension": ".py",
   "mimetype": "text/x-python",
   "name": "python",
   "nbconvert_exporter": "python",
   "pygments_lexer": "ipython3",
   "version": "3.10.10"
  }
 },
 "nbformat": 4,
 "nbformat_minor": 5
}
