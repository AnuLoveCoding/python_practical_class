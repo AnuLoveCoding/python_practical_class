{
 "cells": [
  {
   "cell_type": "code",
   "execution_count": null,
   "id": "ca6ac921",
   "metadata": {},
   "outputs": [],
   "source": [
    "# loop in sum;"
   ]
  },
  {
   "cell_type": "code",
   "execution_count": 4,
   "id": "be844325",
   "metadata": {},
   "outputs": [
    {
     "name": "stdout",
     "output_type": "stream",
     "text": [
      "1\n",
      "\t\n",
      "3\n",
      "\t\n",
      "6\n",
      "\t\n",
      "10\n",
      "\t\n",
      "15\n",
      "\t\n",
      "15\n"
     ]
    }
   ],
   "source": [
    "i = 1\n",
    "add = 0\n",
    "while i <= 5:\n",
    "    add += i\n",
    "    print(add)\n",
    "    i += 1\n",
    "    print(\"\\t\")\n",
    "print(add)"
   ]
  },
  {
   "cell_type": "markdown",
   "id": "9fafdf63",
   "metadata": {},
   "source": [
    "# Range in function;"
   ]
  },
  {
   "cell_type": "code",
   "execution_count": 1,
   "id": "40d5a265",
   "metadata": {},
   "outputs": [
    {
     "data": {
      "text/plain": [
       "[55, 56, 57, 58, 59, 60, 61, 62, 63, 64, 65, 66, 67, 68, 69, 70]"
      ]
     },
     "execution_count": 1,
     "metadata": {},
     "output_type": "execute_result"
    }
   ],
   "source": [
    "# in range function start is included but end is excluded;\n",
    "list(range(55,70 + 1))"
   ]
  },
  {
   "cell_type": "code",
   "execution_count": null,
   "id": "67459b95",
   "metadata": {},
   "outputs": [],
   "source": []
  },
  {
   "cell_type": "code",
   "execution_count": 11,
   "id": "87251ec1",
   "metadata": {},
   "outputs": [
    {
     "data": {
      "text/plain": [
       "[5, 8, 11, 14, 17, 20, 23]"
      ]
     },
     "execution_count": 11,
     "metadata": {},
     "output_type": "execute_result"
    }
   ],
   "source": [
    "list(range(5, 25, 3))"
   ]
  },
  {
   "cell_type": "code",
   "execution_count": null,
   "id": "759a244d",
   "metadata": {},
   "outputs": [],
   "source": [
    "# range in reverse condition;"
   ]
  },
  {
   "cell_type": "code",
   "execution_count": 16,
   "id": "31681ea2",
   "metadata": {},
   "outputs": [
    {
     "data": {
      "text/plain": [
       "[10, 9, 8, 7, 6, 5, 4, 3, 2]"
      ]
     },
     "execution_count": 16,
     "metadata": {},
     "output_type": "execute_result"
    }
   ],
   "source": [
    "list(range(10, 1, -1))"
   ]
  },
  {
   "cell_type": "code",
   "execution_count": 17,
   "id": "f45d0a01",
   "metadata": {},
   "outputs": [
    {
     "data": {
      "text/plain": [
       "[-5, -4, -3, -2, -1, 0, 1, 2, 3, 4, 5, 6, 7, 8, 9]"
      ]
     },
     "execution_count": 17,
     "metadata": {},
     "output_type": "execute_result"
    }
   ],
   "source": [
    "list(range(-5, 10, 1))"
   ]
  },
  {
   "cell_type": "markdown",
   "id": "fcb77f59",
   "metadata": {},
   "source": [
    "# Iterator, iterable and iteration;"
   ]
  },
  {
   "cell_type": "code",
   "execution_count": null,
   "id": "471e2ab5",
   "metadata": {},
   "outputs": [],
   "source": []
  },
  {
   "cell_type": "markdown",
   "id": "8a8b889c",
   "metadata": {},
   "source": [
    "# For loop;"
   ]
  },
  {
   "cell_type": "code",
   "execution_count": 2,
   "id": "fa7ff123",
   "metadata": {
    "scrolled": false
   },
   "outputs": [
    {
     "name": "stdout",
     "output_type": "stream",
     "text": [
      "1\n",
      "3\n",
      "5\n",
      "7\n",
      "9\n"
     ]
    }
   ],
   "source": [
    "# i = iterator;\n",
    "# range = iterable;\n",
    "for i in range(1, 10, 2):\n",
    "    print(i)"
   ]
  },
  {
   "cell_type": "code",
   "execution_count": 3,
   "id": "1de1aeae",
   "metadata": {
    "scrolled": true
   },
   "outputs": [
    {
     "name": "stdout",
     "output_type": "stream",
     "text": [
      "1\n",
      "4\n",
      "7\n",
      "10\n",
      "13\n"
     ]
    }
   ],
   "source": [
    "for i in range(1, 15, 3):\n",
    "    print(i)"
   ]
  },
  {
   "cell_type": "code",
   "execution_count": 14,
   "id": "c3130be7",
   "metadata": {},
   "outputs": [
    {
     "name": "stdout",
     "output_type": "stream",
     "text": [
      "7 8 9 10 11 12 13 14 "
     ]
    }
   ],
   "source": [
    "for i in range(7, 15, 1):\n",
    "    print(i, end = \" \")"
   ]
  },
  {
   "cell_type": "code",
   "execution_count": 13,
   "id": "bb9b2824",
   "metadata": {},
   "outputs": [
    {
     "name": "stdout",
     "output_type": "stream",
     "text": [
      "99\n",
      "102\n",
      "105\n",
      "108\n",
      "111\n",
      "114\n",
      "117\n",
      "120\n",
      "123\n",
      "126\n",
      "129\n",
      "132\n",
      "135\n",
      "138\n",
      "141\n",
      "144\n",
      "147\n",
      "150\n",
      "153\n",
      "156\n",
      "159\n",
      "162\n",
      "165\n",
      "168\n",
      "171\n",
      "174\n",
      "177\n",
      "180\n",
      "183\n",
      "186\n",
      "189\n",
      "192\n",
      "195\n",
      "198\n"
     ]
    }
   ],
   "source": [
    "for i in range(99, 200, 3):\n",
    "    print(i)"
   ]
  },
  {
   "cell_type": "code",
   "execution_count": null,
   "id": "978be1bb",
   "metadata": {},
   "outputs": [],
   "source": []
  },
  {
   "cell_type": "markdown",
   "id": "dec7d19e",
   "metadata": {},
   "source": [
    "# Print multiplication table;\n",
    "n = int(input())\n",
    "i = 1\n",
    "while i <= 10:\n",
    "    print(i * n, end = \", \")\n",
    "    i += 1"
   ]
  },
  {
   "cell_type": "code",
   "execution_count": 2,
   "id": "2aeaf579",
   "metadata": {},
   "outputs": [
    {
     "name": "stdout",
     "output_type": "stream",
     "text": [
      "2 4 6 8 10 12 14 16 18 20 "
     ]
    }
   ],
   "source": [
    "i = 1\n",
    "while i <= 10:\n",
    "    print(i  * 2 , end = \" \")\n",
    "    i += 1"
   ]
  },
  {
   "cell_type": "code",
   "execution_count": 9,
   "id": "5d39b053",
   "metadata": {},
   "outputs": [
    {
     "name": "stdout",
     "output_type": "stream",
     "text": [
      "30 27 24 21 18 15 12 9 6 3 "
     ]
    }
   ],
   "source": [
    "for i in range(30, 2 , -3):\n",
    "    print(i, end = \" \")"
   ]
  },
  {
   "cell_type": "code",
   "execution_count": 11,
   "id": "fb659ebd",
   "metadata": {},
   "outputs": [
    {
     "name": "stdout",
     "output_type": "stream",
     "text": [
      "50 45 40 35 30 25 20 15 10 5 "
     ]
    }
   ],
   "source": [
    "for i in range(50, 4 , -5):\n",
    "    print(i, end = \" \")"
   ]
  },
  {
   "cell_type": "markdown",
   "id": "31ce574d",
   "metadata": {},
   "source": [
    "# Print pattern-printing;"
   ]
  },
  {
   "cell_type": "code",
   "execution_count": 33,
   "id": "8616c161",
   "metadata": {},
   "outputs": [
    {
     "name": "stdout",
     "output_type": "stream",
     "text": [
      "6\n",
      "\n",
      "# # # # # # \n",
      "# # # # # # \n",
      "# # # # # # \n",
      "# # # # # # \n",
      "# # # # # # \n",
      "# # # # # # "
     ]
    }
   ],
   "source": [
    "n = int(input())\n",
    "for i in range(n):\n",
    "    print()\n",
    "    for j in range(n):\n",
    "         print(\"#\", end = \" \")"
   ]
  },
  {
   "cell_type": "markdown",
   "id": "f49583d3",
   "metadata": {},
   "source": [
    "# Pattern-2"
   ]
  },
  {
   "cell_type": "code",
   "execution_count": 35,
   "id": "79697ec6",
   "metadata": {},
   "outputs": [
    {
     "name": "stdout",
     "output_type": "stream",
     "text": [
      "9\n",
      "# \n",
      "# # \n",
      "# # # \n",
      "# # # # \n",
      "# # # # # \n",
      "# # # # # # \n",
      "# # # # # # # \n",
      "# # # # # # # # \n",
      "# # # # # # # # # \n"
     ]
    }
   ],
   "source": [
    "n = int(input())\n",
    "for i in range(1, n + 1):\n",
    "    for j in range(i):\n",
    "        print(\"#\", end = \" \")\n",
    "    print()"
   ]
  },
  {
   "cell_type": "code",
   "execution_count": null,
   "id": "5551e3f9",
   "metadata": {},
   "outputs": [],
   "source": []
  },
  {
   "cell_type": "code",
   "execution_count": null,
   "id": "a2164326",
   "metadata": {},
   "outputs": [],
   "source": []
  },
  {
   "cell_type": "code",
   "execution_count": 36,
   "id": "568d94f6",
   "metadata": {},
   "outputs": [
    {
     "name": "stdout",
     "output_type": "stream",
     "text": [
      "69\n"
     ]
    }
   ],
   "source": [
    "for x in range(10):\n",
    "       if x == 6:\n",
    "        print(x,end=\"\")\n",
    "print(x)"
   ]
  },
  {
   "cell_type": "code",
   "execution_count": null,
   "id": "dd4ba9ae",
   "metadata": {},
   "outputs": [],
   "source": []
  },
  {
   "cell_type": "code",
   "execution_count": 38,
   "id": "4da35ab7",
   "metadata": {},
   "outputs": [
    {
     "name": "stdout",
     "output_type": "stream",
     "text": [
      "2\n"
     ]
    }
   ],
   "source": [
    "\n",
    "\n",
    "for i in range(4):\n",
    "    if i==2:\n",
    "        print(i)\n",
    "    i=10"
   ]
  },
  {
   "cell_type": "code",
   "execution_count": null,
   "id": "63f926e6",
   "metadata": {},
   "outputs": [],
   "source": []
  },
  {
   "cell_type": "code",
   "execution_count": 7,
   "id": "337e4edb",
   "metadata": {},
   "outputs": [
    {
     "name": "stdout",
     "output_type": "stream",
     "text": [
      "1, 2, 3, 4, 5, 6, 7, 8, 9, 10, 11, 12, 13, 14, 15, 16, 17, 18, 19, "
     ]
    }
   ],
   "source": [
    "l = 1\n",
    "while l < 20:\n",
    "    print(l, end = \", \")\n",
    "    l += 1"
   ]
  },
  {
   "cell_type": "markdown",
   "id": "2e8a29f3",
   "metadata": {},
   "source": [
    "# Strings"
   ]
  },
  {
   "cell_type": "code",
   "execution_count": 9,
   "id": "7ffa41f2",
   "metadata": {},
   "outputs": [
    {
     "data": {
      "text/plain": [
       "True"
      ]
     },
     "execution_count": 9,
     "metadata": {},
     "output_type": "execute_result"
    }
   ],
   "source": [
    "\"Anurag\" == \"Anurag\""
   ]
  },
  {
   "cell_type": "code",
   "execution_count": 11,
   "id": "c75aed65",
   "metadata": {},
   "outputs": [
    {
     "data": {
      "text/plain": [
       "str"
      ]
     },
     "execution_count": 11,
     "metadata": {},
     "output_type": "execute_result"
    }
   ],
   "source": [
    "a= \"Anurag\"\n",
    "type(a)"
   ]
  },
  {
   "cell_type": "code",
   "execution_count": 13,
   "id": "45ad0fcf",
   "metadata": {},
   "outputs": [
    {
     "name": "stdout",
     "output_type": "stream",
     "text": [
      "\n",
      "this is my notebook to use  can you buy another\n",
      "\n"
     ]
    }
   ],
   "source": [
    "s = \"\"\"\n",
    "this is my notebook to use  can you buy another\n",
    "\"\"\"\n",
    "\n",
    "print(s)"
   ]
  },
  {
   "cell_type": "markdown",
   "id": "24262ada",
   "metadata": {},
   "source": [
    "# Ord & Chr in python;"
   ]
  },
  {
   "cell_type": "code",
   "execution_count": 14,
   "id": "784f4fb8",
   "metadata": {},
   "outputs": [
    {
     "data": {
      "text/plain": [
       "65"
      ]
     },
     "execution_count": 14,
     "metadata": {},
     "output_type": "execute_result"
    }
   ],
   "source": [
    "ord(\"A\")"
   ]
  },
  {
   "cell_type": "code",
   "execution_count": 15,
   "id": "bd9a7482",
   "metadata": {},
   "outputs": [
    {
     "data": {
      "text/plain": [
       "116"
      ]
     },
     "execution_count": 15,
     "metadata": {},
     "output_type": "execute_result"
    }
   ],
   "source": [
    "ord(\"t\")"
   ]
  },
  {
   "cell_type": "code",
   "execution_count": 17,
   "id": "9b85ba86",
   "metadata": {},
   "outputs": [
    {
     "data": {
      "text/plain": [
       "107"
      ]
     },
     "execution_count": 17,
     "metadata": {},
     "output_type": "execute_result"
    }
   ],
   "source": [
    "ord(\"k\")"
   ]
  },
  {
   "cell_type": "code",
   "execution_count": null,
   "id": "da9d2bd0",
   "metadata": {},
   "outputs": [],
   "source": []
  },
  {
   "cell_type": "code",
   "execution_count": 25,
   "id": "964217d6",
   "metadata": {},
   "outputs": [
    {
     "data": {
      "text/plain": [
       "'😀'"
      ]
     },
     "execution_count": 25,
     "metadata": {},
     "output_type": "execute_result"
    }
   ],
   "source": [
    "chr(128512)"
   ]
  },
  {
   "cell_type": "code",
   "execution_count": 26,
   "id": "d3ef9e99",
   "metadata": {},
   "outputs": [
    {
     "data": {
      "text/plain": [
       "'z'"
      ]
     },
     "execution_count": 26,
     "metadata": {},
     "output_type": "execute_result"
    }
   ],
   "source": [
    "chr(122)"
   ]
  },
  {
   "cell_type": "code",
   "execution_count": 27,
   "id": "b0006e3a",
   "metadata": {},
   "outputs": [
    {
     "data": {
      "text/plain": [
       "'X'"
      ]
     },
     "execution_count": 27,
     "metadata": {},
     "output_type": "execute_result"
    }
   ],
   "source": [
    "chr(88)"
   ]
  },
  {
   "cell_type": "code",
   "execution_count": 28,
   "id": "f6e73504",
   "metadata": {},
   "outputs": [
    {
     "data": {
      "text/plain": [
       "'b'"
      ]
     },
     "execution_count": 28,
     "metadata": {},
     "output_type": "execute_result"
    }
   ],
   "source": [
    "chr(98)"
   ]
  },
  {
   "cell_type": "code",
   "execution_count": 29,
   "id": "5d8b7a5e",
   "metadata": {},
   "outputs": [
    {
     "data": {
      "text/plain": [
       "'क'"
      ]
     },
     "execution_count": 29,
     "metadata": {},
     "output_type": "execute_result"
    }
   ],
   "source": [
    "chr(2325)"
   ]
  },
  {
   "cell_type": "markdown",
   "id": "396eaec1",
   "metadata": {},
   "source": [
    "# Ascending a character in string;"
   ]
  },
  {
   "cell_type": "code",
   "execution_count": 31,
   "id": "86758c8e",
   "metadata": {},
   "outputs": [],
   "source": [
    "name = \"Anurag is a good boy;\""
   ]
  },
  {
   "cell_type": "code",
   "execution_count": 32,
   "id": "3ae9cc95",
   "metadata": {},
   "outputs": [
    {
     "data": {
      "text/plain": [
       "'Anurag is a good boy;'"
      ]
     },
     "execution_count": 32,
     "metadata": {},
     "output_type": "execute_result"
    }
   ],
   "source": [
    "name"
   ]
  },
  {
   "cell_type": "code",
   "execution_count": 33,
   "id": "10d19364",
   "metadata": {},
   "outputs": [
    {
     "data": {
      "text/plain": [
       "'u'"
      ]
     },
     "execution_count": 33,
     "metadata": {},
     "output_type": "execute_result"
    }
   ],
   "source": [
    "name[2]"
   ]
  },
  {
   "cell_type": "code",
   "execution_count": 34,
   "id": "6d11a2c1",
   "metadata": {},
   "outputs": [
    {
     "data": {
      "text/plain": [
       "21"
      ]
     },
     "execution_count": 34,
     "metadata": {},
     "output_type": "execute_result"
    }
   ],
   "source": [
    "len(name)"
   ]
  },
  {
   "cell_type": "code",
   "execution_count": 37,
   "id": "8f43b6a7",
   "metadata": {},
   "outputs": [
    {
     "data": {
      "text/plain": [
       "'g'"
      ]
     },
     "execution_count": 37,
     "metadata": {},
     "output_type": "execute_result"
    }
   ],
   "source": [
    "name[-9]"
   ]
  },
  {
   "cell_type": "code",
   "execution_count": 38,
   "id": "ebc442cb",
   "metadata": {},
   "outputs": [
    {
     "data": {
      "text/plain": [
       "6"
      ]
     },
     "execution_count": 38,
     "metadata": {},
     "output_type": "execute_result"
    }
   ],
   "source": [
    "len(\"Anurag\")"
   ]
  },
  {
   "cell_type": "code",
   "execution_count": null,
   "id": "234db2c6",
   "metadata": {},
   "outputs": [],
   "source": []
  },
  {
   "cell_type": "markdown",
   "id": "78034693",
   "metadata": {},
   "source": [
    "# String slicing;"
   ]
  },
  {
   "cell_type": "code",
   "execution_count": null,
   "id": "9489b0db",
   "metadata": {},
   "outputs": [],
   "source": [
    "name = \"Anurag Mundra\"\n",
    "name[0][3]"
   ]
  },
  {
   "cell_type": "code",
   "execution_count": 46,
   "id": "3553dd46",
   "metadata": {},
   "outputs": [
    {
     "data": {
      "text/plain": [
       "13"
      ]
     },
     "execution_count": 46,
     "metadata": {},
     "output_type": "execute_result"
    }
   ],
   "source": [
    "len(name)"
   ]
  },
  {
   "cell_type": "code",
   "execution_count": 48,
   "id": "13bb9e52",
   "metadata": {},
   "outputs": [
    {
     "data": {
      "text/plain": [
       "'u'"
      ]
     },
     "execution_count": 48,
     "metadata": {},
     "output_type": "execute_result"
    }
   ],
   "source": [
    "name[8]"
   ]
  },
  {
   "cell_type": "code",
   "execution_count": 49,
   "id": "6b5e5b84",
   "metadata": {},
   "outputs": [
    {
     "data": {
      "text/plain": [
       "'Anurag M'"
      ]
     },
     "execution_count": 49,
     "metadata": {},
     "output_type": "execute_result"
    }
   ],
   "source": [
    "m = \"Anurag Mundra\"\n",
    "m[0:8]"
   ]
  },
  {
   "cell_type": "code",
   "execution_count": 69,
   "id": "098770dd",
   "metadata": {},
   "outputs": [
    {
     "name": "stdout",
     "output_type": "stream",
     "text": [
      "ANURAG MUNDRA\n"
     ]
    }
   ],
   "source": [
    "k = m.upper()\n",
    "print(k)"
   ]
  },
  {
   "cell_type": "code",
   "execution_count": 79,
   "id": "8b440441",
   "metadata": {},
   "outputs": [
    {
     "data": {
      "text/plain": [
       "'Anurag Mundra'"
      ]
     },
     "execution_count": 79,
     "metadata": {},
     "output_type": "execute_result"
    }
   ],
   "source": [
    "s = m.title()\n",
    "s"
   ]
  },
  {
   "cell_type": "code",
   "execution_count": 80,
   "id": "0ae98f53",
   "metadata": {},
   "outputs": [
    {
     "data": {
      "text/plain": [
       "4"
      ]
     },
     "execution_count": 80,
     "metadata": {},
     "output_type": "execute_result"
    }
   ],
   "source": [
    "m.find(\"a\")"
   ]
  },
  {
   "cell_type": "code",
   "execution_count": 81,
   "id": "7e3955f0",
   "metadata": {},
   "outputs": [
    {
     "data": {
      "text/plain": [
       "1"
      ]
     },
     "execution_count": 81,
     "metadata": {},
     "output_type": "execute_result"
    }
   ],
   "source": [
    "m.count(\"Anu\")"
   ]
  },
  {
   "cell_type": "code",
   "execution_count": null,
   "id": "b36d4898",
   "metadata": {},
   "outputs": [],
   "source": []
  },
  {
   "cell_type": "code",
   "execution_count": 50,
   "id": "039bd813",
   "metadata": {},
   "outputs": [
    {
     "data": {
      "text/plain": [
       "'ua'"
      ]
     },
     "execution_count": 50,
     "metadata": {},
     "output_type": "execute_result"
    }
   ],
   "source": [
    "m[2:6:2]"
   ]
  },
  {
   "cell_type": "code",
   "execution_count": 56,
   "id": "cf25ec63",
   "metadata": {},
   "outputs": [
    {
     "data": {
      "text/plain": [
       "'ardnuM garunA'"
      ]
     },
     "execution_count": 56,
     "metadata": {},
     "output_type": "execute_result"
    }
   ],
   "source": [
    "m[::-1]"
   ]
  },
  {
   "cell_type": "code",
   "execution_count": 62,
   "id": "79288f99",
   "metadata": {},
   "outputs": [
    {
     "name": "stdout",
     "output_type": "stream",
     "text": [
      "rrk\n",
      "krr\n"
     ]
    },
    {
     "data": {
      "text/plain": [
       "3"
      ]
     },
     "execution_count": 62,
     "metadata": {},
     "output_type": "execute_result"
    }
   ],
   "source": [
    "s = str(input())\n",
    "h = s[::-1]\n",
    "print(h)\n",
    "len(s)"
   ]
  },
  {
   "cell_type": "code",
   "execution_count": 83,
   "id": "01b3c987",
   "metadata": {},
   "outputs": [
    {
     "name": "stdout",
     "output_type": "stream",
     "text": [
      "AnurAg MundrA\n"
     ]
    }
   ],
   "source": [
    "ll = m.replace(\"a\",\"A\")\n",
    "print(ll)"
   ]
  },
  {
   "cell_type": "code",
   "execution_count": 90,
   "id": "d2839e58",
   "metadata": {},
   "outputs": [
    {
     "data": {
      "text/plain": [
       "True"
      ]
     },
     "execution_count": 90,
     "metadata": {},
     "output_type": "execute_result"
    }
   ],
   "source": [
    "i = \"89898\"\n",
    "i.isnumeric()\n"
   ]
  },
  {
   "cell_type": "code",
   "execution_count": null,
   "id": "d2d67e3e",
   "metadata": {},
   "outputs": [],
   "source": []
  },
  {
   "cell_type": "markdown",
   "id": "9f941cbb",
   "metadata": {},
   "source": [
    "# String formatting:"
   ]
  },
  {
   "cell_type": "code",
   "execution_count": 3,
   "id": "a82c4127",
   "metadata": {},
   "outputs": [
    {
     "name": "stdout",
     "output_type": "stream",
     "text": [
      "Anurag\n",
      "21\n",
      "Hey my name is : Anurag  and my age is =  21\n"
     ]
    }
   ],
   "source": [
    "name = input()\n",
    "age = input()\n",
    "print(\"Hey my name is :\", name ,\".And my age is = \", age)"
   ]
  },
  {
   "cell_type": "code",
   "execution_count": null,
   "id": "bc4bf130",
   "metadata": {},
   "outputs": [],
   "source": [
    "name = \"Anurag\"\n",
    "age = 21\n",
    "print(f\"hey my name is {name} . And my age {age}\")"
   ]
  },
  {
   "cell_type": "code",
   "execution_count": null,
   "id": "82c7e593",
   "metadata": {},
   "outputs": [],
   "source": []
  },
  {
   "cell_type": "markdown",
   "id": "822d55a7",
   "metadata": {},
   "source": [
    "# String concatenation;"
   ]
  },
  {
   "cell_type": "code",
   "execution_count": null,
   "id": "d55a0901",
   "metadata": {},
   "outputs": [],
   "source": []
  },
  {
   "cell_type": "markdown",
   "id": "f9af1249",
   "metadata": {},
   "source": [
    "# Data Structure :- Data structure is specializing format for processing, retrieving and organizing and storeing data;"
   ]
  },
  {
   "cell_type": "code",
   "execution_count": 2,
   "id": "30cae830",
   "metadata": {},
   "outputs": [],
   "source": [
    "l = [1,2,3,4,5,6,4,5,4,7,8,9]"
   ]
  },
  {
   "cell_type": "code",
   "execution_count": 4,
   "id": "ece4e919",
   "metadata": {},
   "outputs": [
    {
     "name": "stdout",
     "output_type": "stream",
     "text": [
      "[1, 2, 3, 4, 4, 4, 5, 5, 6, 7, 8, 9]\n"
     ]
    }
   ],
   "source": [
    "for i in range(len(l)):\n",
    "    for j in range(i + 1, len(l)):\n",
    "        if l[i] > l[j]:\n",
    "            l[i],l[j] = l[j],l[i]\n",
    "print(l)"
   ]
  },
  {
   "cell_type": "code",
   "execution_count": 5,
   "id": "4f79b611",
   "metadata": {},
   "outputs": [],
   "source": [
    "k = [4,5,6,7,8,9,4,5,6,1,2,36,6,4,]"
   ]
  },
  {
   "cell_type": "code",
   "execution_count": 6,
   "id": "47475758",
   "metadata": {},
   "outputs": [
    {
     "name": "stdout",
     "output_type": "stream",
     "text": [
      "[1, 2, 4, 4, 4, 5, 5, 6, 6, 6, 7, 8, 9, 36]\n"
     ]
    }
   ],
   "source": [
    "for i in range(len(k)):\n",
    "    for j in range(i + 1, len(k)):\n",
    "        if k[i] > k[j]:\n",
    "            k[i],k[j] = k[j],k[i]\n",
    "print(k)"
   ]
  },
  {
   "cell_type": "code",
   "execution_count": 7,
   "id": "751925d7",
   "metadata": {},
   "outputs": [
    {
     "name": "stdout",
     "output_type": "stream",
     "text": [
      "[36, 9, 8, 7, 6, 6, 6, 5, 5, 4, 4, 4, 2, 1]\n"
     ]
    }
   ],
   "source": [
    "k.sort(reverse=True)\n",
    "print(k)"
   ]
  },
  {
   "cell_type": "code",
   "execution_count": 8,
   "id": "1d13f0ac",
   "metadata": {},
   "outputs": [
    {
     "name": "stdout",
     "output_type": "stream",
     "text": [
      "2703232931648\n"
     ]
    }
   ],
   "source": [
    "print(id(k))"
   ]
  },
  {
   "cell_type": "code",
   "execution_count": 9,
   "id": "0a41cf1e",
   "metadata": {},
   "outputs": [
    {
     "name": "stdout",
     "output_type": "stream",
     "text": [
      "<class 'list'>\n"
     ]
    }
   ],
   "source": [
    "print(type(k))"
   ]
  },
  {
   "cell_type": "code",
   "execution_count": 13,
   "id": "48c884ad",
   "metadata": {},
   "outputs": [
    {
     "name": "stdout",
     "output_type": "stream",
     "text": [
      "(36, 9, 8, 7, 6, 6, 6, 5, 5, 4, 4, 4, 2, 1)\n"
     ]
    },
    {
     "data": {
      "text/plain": [
       "tuple"
      ]
     },
     "execution_count": 13,
     "metadata": {},
     "output_type": "execute_result"
    }
   ],
   "source": [
    "k = tuple(k)\n",
    "print(k)\n",
    "type(k)"
   ]
  },
  {
   "cell_type": "code",
   "execution_count": 12,
   "id": "cfc036a2",
   "metadata": {},
   "outputs": [
    {
     "name": "stdout",
     "output_type": "stream",
     "text": [
      "[36, 9, 8, 7, 6, 6, 6, 5, 5, 4, 4, 4, 2, 1]\n"
     ]
    },
    {
     "data": {
      "text/plain": [
       "list"
      ]
     },
     "execution_count": 12,
     "metadata": {},
     "output_type": "execute_result"
    }
   ],
   "source": [
    "m = list(k)\n",
    "print(m)\n",
    "type(m)"
   ]
  },
  {
   "cell_type": "code",
   "execution_count": 14,
   "id": "611751ce",
   "metadata": {},
   "outputs": [
    {
     "data": {
      "text/plain": [
       "36"
      ]
     },
     "execution_count": 14,
     "metadata": {},
     "output_type": "execute_result"
    }
   ],
   "source": [
    "max(m)"
   ]
  },
  {
   "cell_type": "code",
   "execution_count": 15,
   "id": "daa74ab7",
   "metadata": {},
   "outputs": [
    {
     "data": {
      "text/plain": [
       "1"
      ]
     },
     "execution_count": 15,
     "metadata": {},
     "output_type": "execute_result"
    }
   ],
   "source": [
    "min(m)"
   ]
  },
  {
   "cell_type": "code",
   "execution_count": 17,
   "id": "a87127b1",
   "metadata": {},
   "outputs": [],
   "source": [
    "n = (25,56,45,6,4,56,6)"
   ]
  },
  {
   "cell_type": "code",
   "execution_count": 21,
   "id": "d6fcc45d",
   "metadata": {},
   "outputs": [
    {
     "name": "stdout",
     "output_type": "stream",
     "text": [
      "(36, 9, 8, 7, 6, 6, 6, 5, 5, 4, 4, 4, 2, 1, 25, 56, 45, 6, 4, 56, 6)\n"
     ]
    }
   ],
   "source": [
    "p = k + n\n",
    "\n",
    "print(p)"
   ]
  },
  {
   "cell_type": "code",
   "execution_count": 23,
   "id": "b19f4d23",
   "metadata": {},
   "outputs": [
    {
     "data": {
      "text/plain": [
       "[36, 9, 8, 7, 6, 6, 6, 5, 5, 4, 4, 4, 2, 1, 25, 56, 45, 6, 4, 56, 6]"
      ]
     },
     "execution_count": 23,
     "metadata": {},
     "output_type": "execute_result"
    }
   ],
   "source": [
    "o = list(p)\n",
    "o"
   ]
  },
  {
   "cell_type": "code",
   "execution_count": 25,
   "id": "fb031db2",
   "metadata": {},
   "outputs": [
    {
     "data": {
      "text/plain": [
       "[1, 2, 4, 4, 4, 4, 5, 5, 6, 6, 6, 6, 6, 7, 8, 9, 25, 36, 45, 56, 56]"
      ]
     },
     "execution_count": 25,
     "metadata": {},
     "output_type": "execute_result"
    }
   ],
   "source": [
    "o.sort()\n",
    "o"
   ]
  },
  {
   "cell_type": "code",
   "execution_count": 28,
   "id": "9e212d2c",
   "metadata": {},
   "outputs": [
    {
     "name": "stdout",
     "output_type": "stream",
     "text": [
      "<class 'tuple'>\n"
     ]
    }
   ],
   "source": [
    "o = tuple(o)\n",
    "print(type(o))"
   ]
  },
  {
   "cell_type": "code",
   "execution_count": null,
   "id": "a9ca4a67",
   "metadata": {},
   "outputs": [],
   "source": [
    "# Hetrogenoious datatype :- it means store the data in deifferent data types;"
   ]
  },
  {
   "cell_type": "code",
   "execution_count": null,
   "id": "d2f5c03b",
   "metadata": {},
   "outputs": [],
   "source": []
  }
 ],
 "metadata": {
  "kernelspec": {
   "display_name": "Python 3 (ipykernel)",
   "language": "python",
   "name": "python3"
  },
  "language_info": {
   "codemirror_mode": {
    "name": "ipython",
    "version": 3
   },
   "file_extension": ".py",
   "mimetype": "text/x-python",
   "name": "python",
   "nbconvert_exporter": "python",
   "pygments_lexer": "ipython3",
   "version": "3.10.10"
  }
 },
 "nbformat": 4,
 "nbformat_minor": 5
}
