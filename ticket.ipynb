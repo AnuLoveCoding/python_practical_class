{
 "cells": [
  {
   "cell_type": "code",
   "execution_count": 21,
   "metadata": {},
   "outputs": [],
   "source": [
    "import pickle # use pickle library for store the variable in text file."
   ]
  },
  {
   "cell_type": "code",
   "execution_count": 22,
   "metadata": {},
   "outputs": [],
   "source": [
    "def start_up():\n",
    "    h = open('ticket.txt', 'rb')\n",
    "    global store\n",
    "    obj = pickle.load(h)\n",
    "    store = obj['store']\n",
    "    global pnr_no\n",
    "    pnr_no = obj['pnr_no']\n",
    "    h.close()\n"
   ]
  },
  {
   "cell_type": "code",
   "execution_count": 23,
   "metadata": {},
   "outputs": [],
   "source": [
    "pnr_no = 2578978945\n",
    "store = {}"
   ]
  },
  {
   "cell_type": "code",
   "execution_count": 24,
   "metadata": {},
   "outputs": [],
   "source": [
    "class ticket:\n",
    "    def __init__(self,name, seat_no, pnr_no):\n",
    "        self.name = name\n",
    "        self.seat_no = seat_no\n",
    "        self.pnr_no = pnr_no\n",
    "\n",
    "    def __repr__(self):\n",
    "        return(f\"{self.name},{ self.seat_no}\")"
   ]
  },
  {
   "cell_type": "code",
   "execution_count": 25,
   "metadata": {},
   "outputs": [],
   "source": [
    "class ticket_CRUD:\n",
    "    @staticmethod\n",
    "    def create(name, seat_no):\n",
    "        global pnr_no\n",
    "        global store\n",
    "        passenger1 = ticket(name, seat_no, pnr_no)\n",
    "        store[pnr_no] = passenger1\n",
    "        pnr_no += 109\n",
    "\n",
    "    @staticmethod\n",
    "    def read(pnr_no):\n",
    "        if pnr_no in store:\n",
    "            print(store[passenger])\n",
    "        else:\n",
    "            print('Passenger does not exist')\n",
    "\n",
    "    @staticmethod\n",
    "    def update(name, seat_no, pnr_no):\n",
    "        if pnr_no in store:\n",
    "            store[pnr_no] = ticket(name, seat_no, pnr_no)   \n",
    "        else:\n",
    "            print(\"I can't update your information\")\n",
    "\n",
    "    @staticmethod\n",
    "    def delete(pnr_no):\n",
    "        if pnr_no not in store:\n",
    "            print(\"I can't do operation\")\n",
    "        else:\n",
    "            del(store[pnr_no])\n",
    "        \n",
    "\n"
   ]
  },
  {
   "cell_type": "code",
   "execution_count": 26,
   "metadata": {},
   "outputs": [],
   "source": [
    "ticket_CRUD.create('Manish','G-6, 88')"
   ]
  },
  {
   "cell_type": "code",
   "execution_count": 27,
   "metadata": {},
   "outputs": [
    {
     "name": "stdout",
     "output_type": "stream",
     "text": [
      "{2578978945: Manish,G-6, 88}\n"
     ]
    }
   ],
   "source": [
    "print(store)"
   ]
  },
  {
   "cell_type": "code",
   "execution_count": 20,
   "metadata": {},
   "outputs": [],
   "source": [
    "def close_up():\n",
    "    o = open('ticket.txt', 'wb')\n",
    "    global store\n",
    "    global pnr_no\n",
    "    obj = {}\n",
    "    obj['store'] = store\n",
    "    obj['pnr_no'] = pnr_no\n",
    "    pickle.dump(obj, o)\n",
    "    o.close()"
   ]
  }
 ],
 "metadata": {
  "kernelspec": {
   "display_name": "Python 3",
   "language": "python",
   "name": "python3"
  },
  "language_info": {
   "codemirror_mode": {
    "name": "ipython",
    "version": 3
   },
   "file_extension": ".py",
   "mimetype": "text/x-python",
   "name": "python",
   "nbconvert_exporter": "python",
   "pygments_lexer": "ipython3",
   "version": "3.10.10"
  },
  "orig_nbformat": 4
 },
 "nbformat": 4,
 "nbformat_minor": 2
}
