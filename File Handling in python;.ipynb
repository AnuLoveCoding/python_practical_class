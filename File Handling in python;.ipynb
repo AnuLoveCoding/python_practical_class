{
 "cells": [
  {
   "cell_type": "markdown",
   "id": "6181faa2",
   "metadata": {},
   "source": [
    "# File Handling is a container in computer System for storing in data\n",
    "# Data is permanentely stored;"
   ]
  },
  {
   "cell_type": "markdown",
   "id": "e3805da8",
   "metadata": {},
   "source": [
    "# Types of files;\n",
    "# Text.\n",
    "# Binary."
   ]
  },
  {
   "cell_type": "markdown",
   "id": "0b2994dd",
   "metadata": {},
   "source": [
    "# Modes of opening of file:\n",
    "# 'r'  : read-only\n",
    "# 'w'  : write-only\n",
    "# 'a'  : appending the data when opening the file\n",
    "# 'wt' : write-text\n",
    "# 'wb' : write-binary\n",
    "# 'rb' : read-binary\n",
    "# 'rt' : read-text"
   ]
  },
  {
   "cell_type": "markdown",
   "id": "0accf83a",
   "metadata": {},
   "source": [
    "# with open:-\n",
    "# most common way to perform operaton on file;\n",
    "# it's close the file after performing operation."
   ]
  },
  {
   "cell_type": "markdown",
   "id": "6163caa8",
   "metadata": {},
   "source": [
    "# writing a file;\n",
    "# you can write both text and binary;\n",
    "# you can either write or append in a file."
   ]
  },
  {
   "cell_type": "markdown",
   "id": "01b8f6c2",
   "metadata": {},
   "source": [
    "# Reading :- # 1. using read() method we can read the file.\n",
    "# 2. it opens in read only format."
   ]
  },
  {
   "cell_type": "code",
   "execution_count": null,
   "id": "0c9f6e0a",
   "metadata": {},
   "outputs": [],
   "source": []
  },
  {
   "cell_type": "code",
   "execution_count": null,
   "id": "5d9a403e",
   "metadata": {},
   "outputs": [],
   "source": []
  },
  {
   "cell_type": "code",
   "execution_count": null,
   "id": "fb6f0057",
   "metadata": {},
   "outputs": [],
   "source": []
  },
  {
   "cell_type": "code",
   "execution_count": null,
   "id": "208771c3",
   "metadata": {},
   "outputs": [],
   "source": []
  },
  {
   "cell_type": "code",
   "execution_count": null,
   "id": "6cea1325",
   "metadata": {},
   "outputs": [],
   "source": []
  },
  {
   "cell_type": "code",
   "execution_count": null,
   "id": "ae34fc47",
   "metadata": {},
   "outputs": [],
   "source": []
  },
  {
   "cell_type": "code",
   "execution_count": null,
   "id": "70e95be2",
   "metadata": {},
   "outputs": [],
   "source": []
  },
  {
   "cell_type": "code",
   "execution_count": null,
   "id": "5d4c9a5c",
   "metadata": {},
   "outputs": [],
   "source": []
  },
  {
   "cell_type": "code",
   "execution_count": null,
   "id": "5a69f812",
   "metadata": {},
   "outputs": [],
   "source": []
  },
  {
   "cell_type": "code",
   "execution_count": null,
   "id": "598563a6",
   "metadata": {},
   "outputs": [],
   "source": []
  },
  {
   "cell_type": "code",
   "execution_count": null,
   "id": "297a4db8",
   "metadata": {},
   "outputs": [],
   "source": []
  },
  {
   "cell_type": "code",
   "execution_count": null,
   "id": "0539541e",
   "metadata": {},
   "outputs": [],
   "source": []
  },
  {
   "cell_type": "code",
   "execution_count": null,
   "id": "6dddaf63",
   "metadata": {},
   "outputs": [],
   "source": []
  },
  {
   "cell_type": "code",
   "execution_count": null,
   "id": "59e2d83b",
   "metadata": {},
   "outputs": [],
   "source": []
  }
 ],
 "metadata": {
  "kernelspec": {
   "display_name": "Python 3 (ipykernel)",
   "language": "python",
   "name": "python3"
  },
  "language_info": {
   "codemirror_mode": {
    "name": "ipython",
    "version": 3
   },
   "file_extension": ".py",
   "mimetype": "text/x-python",
   "name": "python",
   "nbconvert_exporter": "python",
   "pygments_lexer": "ipython3",
   "version": "3.9.13"
  }
 },
 "nbformat": 4,
 "nbformat_minor": 5
}
