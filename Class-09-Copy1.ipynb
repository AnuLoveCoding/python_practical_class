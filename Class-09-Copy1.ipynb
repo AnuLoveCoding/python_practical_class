{
 "cells": [
  {
   "cell_type": "markdown",
   "id": "5f067c36",
   "metadata": {},
   "source": [
    "# Tuples :- semi-flexible:- Immutable, ordered, Hetrogenous, Allow Duplicates,\n",
    "# use case : where we canno't change the data;\n",
    "# denoation :- ();\n"
   ]
  },
  {
   "cell_type": "code",
   "execution_count": 35,
   "id": "c4a27076",
   "metadata": {},
   "outputs": [],
   "source": [
    "import sys"
   ]
  },
  {
   "cell_type": "code",
   "execution_count": 36,
   "id": "ccebf452",
   "metadata": {},
   "outputs": [],
   "source": [
    "tl = (1,2,3,4,5,6,7,8,9)"
   ]
  },
  {
   "cell_type": "code",
   "execution_count": 37,
   "id": "d64eecdd",
   "metadata": {},
   "outputs": [
    {
     "name": "stdout",
     "output_type": "stream",
     "text": [
      "112\n",
      "<class 'tuple'>\n"
     ]
    }
   ],
   "source": [
    "print(sys.getsizeof(tl))\n",
    "print(type(tl))"
   ]
  },
  {
   "cell_type": "code",
   "execution_count": 38,
   "id": "6167bd2f",
   "metadata": {},
   "outputs": [
    {
     "data": {
      "text/plain": [
       "tuple"
      ]
     },
     "execution_count": 38,
     "metadata": {},
     "output_type": "execute_result"
    }
   ],
   "source": [
    "type(tl)"
   ]
  },
  {
   "cell_type": "code",
   "execution_count": null,
   "id": "05a0d0d9",
   "metadata": {},
   "outputs": [],
   "source": []
  },
  {
   "cell_type": "code",
   "execution_count": 39,
   "id": "6a710716",
   "metadata": {},
   "outputs": [],
   "source": [
    "lt = {1,2,3,4,5,6,7,8,9}"
   ]
  },
  {
   "cell_type": "code",
   "execution_count": 40,
   "id": "b22f5307",
   "metadata": {},
   "outputs": [
    {
     "name": "stdout",
     "output_type": "stream",
     "text": [
      "728\n",
      "<class 'set'>\n"
     ]
    }
   ],
   "source": [
    "print(sys.getsizeof(lt))\n",
    "print(type(lt))"
   ]
  },
  {
   "cell_type": "code",
   "execution_count": 41,
   "id": "eed1a8ca",
   "metadata": {},
   "outputs": [],
   "source": [
    "p = 4,5,4,6,7,8,9,7"
   ]
  },
  {
   "cell_type": "code",
   "execution_count": 42,
   "id": "1812e2bf",
   "metadata": {},
   "outputs": [
    {
     "data": {
      "text/plain": [
       "tuple"
      ]
     },
     "execution_count": 42,
     "metadata": {},
     "output_type": "execute_result"
    }
   ],
   "source": [
    "p\n",
    "type(p)"
   ]
  },
  {
   "cell_type": "code",
   "execution_count": 43,
   "id": "bf48d41e",
   "metadata": {},
   "outputs": [],
   "source": [
    "tl=(1,2,5,4,6,7,8,9,7,4,4)"
   ]
  },
  {
   "cell_type": "code",
   "execution_count": 44,
   "id": "a91edb80",
   "metadata": {
    "scrolled": true
   },
   "outputs": [],
   "source": [
    "# tl.sort()\n",
    "# tl.append(66)"
   ]
  },
  {
   "cell_type": "code",
   "execution_count": 45,
   "id": "18cfaf56",
   "metadata": {},
   "outputs": [],
   "source": [
    "k={}\n",
    "for i in tl:\n",
    "    if i not in k:\n",
    "        k[i] = 1\n",
    "    else:\n",
    "        k[i] += 1"
   ]
  },
  {
   "cell_type": "code",
   "execution_count": 46,
   "id": "0a20a101",
   "metadata": {},
   "outputs": [
    {
     "name": "stdout",
     "output_type": "stream",
     "text": [
      "{1: 1, 2: 1, 5: 1, 4: 3, 6: 1, 7: 2, 8: 1, 9: 1}\n",
      "<class 'dict'>\n"
     ]
    }
   ],
   "source": [
    "print(k)\n",
    "print(type(k))"
   ]
  },
  {
   "cell_type": "code",
   "execution_count": 47,
   "id": "705405fc",
   "metadata": {},
   "outputs": [
    {
     "name": "stdout",
     "output_type": "stream",
     "text": [
      "3\n",
      "1340495186880\n"
     ]
    }
   ],
   "source": [
    "print(tl.count(4))\n",
    "print(id(tl))\n"
   ]
  },
  {
   "cell_type": "code",
   "execution_count": 48,
   "id": "ff822a10",
   "metadata": {},
   "outputs": [],
   "source": [
    "# sys.getsizeof(pi)"
   ]
  },
  {
   "cell_type": "code",
   "execution_count": 49,
   "id": "683d2b0f",
   "metadata": {},
   "outputs": [
    {
     "data": {
      "text/plain": [
       "11"
      ]
     },
     "execution_count": 49,
     "metadata": {},
     "output_type": "execute_result"
    }
   ],
   "source": [
    "len(tl)"
   ]
  },
  {
   "cell_type": "code",
   "execution_count": 69,
   "id": "244fb95b",
   "metadata": {},
   "outputs": [],
   "source": [
    "j= [\"mam\",\"dad\",\"lion\",\"rrr\",\"ooo\"]"
   ]
  },
  {
   "cell_type": "code",
   "execution_count": 72,
   "id": "a845b921",
   "metadata": {},
   "outputs": [],
   "source": [
    "op=[]\n",
    "for i in j:\n",
    "    if i == i[::-1]:\n",
    "        op.append(i)"
   ]
  },
  {
   "cell_type": "code",
   "execution_count": 73,
   "id": "c368de62",
   "metadata": {},
   "outputs": [
    {
     "name": "stdout",
     "output_type": "stream",
     "text": [
      "['ooo', 'rrr', 'dad', 'mam']\n"
     ]
    }
   ],
   "source": [
    "print(op)"
   ]
  },
  {
   "cell_type": "code",
   "execution_count": 53,
   "id": "2793d3e7",
   "metadata": {},
   "outputs": [],
   "source": [
    "ti = (0,1,2,5,4,6,7,8,9,4,5,6,4,5,25)"
   ]
  },
  {
   "cell_type": "markdown",
   "id": "89980939",
   "metadata": {},
   "source": [
    "# len function in tuple:\n"
   ]
  },
  {
   "cell_type": "code",
   "execution_count": 54,
   "id": "16a2aff7",
   "metadata": {},
   "outputs": [
    {
     "data": {
      "text/plain": [
       "15"
      ]
     },
     "execution_count": 54,
     "metadata": {},
     "output_type": "execute_result"
    }
   ],
   "source": [
    "len(ti)"
   ]
  },
  {
   "cell_type": "markdown",
   "id": "9a0f24f5",
   "metadata": {},
   "source": [
    "# max funiction in tuple;"
   ]
  },
  {
   "cell_type": "code",
   "execution_count": 55,
   "id": "4f60c49b",
   "metadata": {},
   "outputs": [
    {
     "data": {
      "text/plain": [
       "25"
      ]
     },
     "execution_count": 55,
     "metadata": {},
     "output_type": "execute_result"
    }
   ],
   "source": [
    "y=max(ti)\n",
    "y"
   ]
  },
  {
   "cell_type": "markdown",
   "id": "d189b256",
   "metadata": {},
   "source": [
    "# min function in tuple;"
   ]
  },
  {
   "cell_type": "code",
   "execution_count": 56,
   "id": "ff0cc722",
   "metadata": {},
   "outputs": [
    {
     "data": {
      "text/plain": [
       "0"
      ]
     },
     "execution_count": 56,
     "metadata": {},
     "output_type": "execute_result"
    }
   ],
   "source": [
    "y1= min(ti)\n",
    "y1"
   ]
  },
  {
   "cell_type": "markdown",
   "id": "aa58f112",
   "metadata": {},
   "source": [
    "# index function in tuple;"
   ]
  },
  {
   "cell_type": "code",
   "execution_count": 57,
   "id": "93947dd4",
   "metadata": {},
   "outputs": [
    {
     "name": "stdout",
     "output_type": "stream",
     "text": [
      "3\n",
      "<class 'int'>\n"
     ]
    }
   ],
   "source": [
    "y2 = ti.index(5)\n",
    "print(y2)\n",
    "print(type(y2))"
   ]
  },
  {
   "cell_type": "markdown",
   "id": "38d71493",
   "metadata": {},
   "source": [
    "# count function in tuple:"
   ]
  },
  {
   "cell_type": "code",
   "execution_count": 58,
   "id": "10ba2673",
   "metadata": {},
   "outputs": [
    {
     "name": "stdout",
     "output_type": "stream",
     "text": [
      "1\n",
      "<class 'int'>\n"
     ]
    }
   ],
   "source": [
    "y3 = ti.count(2)\n",
    "print(y3)\n",
    "print(type(y3))"
   ]
  },
  {
   "cell_type": "markdown",
   "id": "b055e472",
   "metadata": {},
   "source": [
    "# tuple:- its is used to create different types of values into tuple:\n",
    "# convert list into tuple;"
   ]
  },
  {
   "cell_type": "code",
   "execution_count": 59,
   "id": "9d389cdd",
   "metadata": {},
   "outputs": [
    {
     "name": "stdout",
     "output_type": "stream",
     "text": [
      "(1, 2, 6, 7, 8, 9, 4, 5, 6, 4, 5, 1, 2, 3, 6, 4, 5, 7)\n"
     ]
    }
   ],
   "source": [
    "o = [1,2,6,7,8,9,4,5,6,4,5,1,2,3,6,4,5,7]\n",
    "y4 = tuple(o)\n",
    "print(y4)"
   ]
  },
  {
   "cell_type": "markdown",
   "id": "237f667f",
   "metadata": {},
   "source": [
    "# convert into tuple in list:"
   ]
  },
  {
   "cell_type": "code",
   "execution_count": 60,
   "id": "36246e6e",
   "metadata": {},
   "outputs": [
    {
     "name": "stdout",
     "output_type": "stream",
     "text": [
      "[1, 2, 6, 7, 8, 9, 4, 5, 6, 4, 5, 1, 2, 3, 6, 4, 5, 7]\n"
     ]
    }
   ],
   "source": [
    "y5 = list(y4)\n",
    "print(y5)"
   ]
  },
  {
   "cell_type": "markdown",
   "id": "16267a51",
   "metadata": {},
   "source": [
    "# add two tuple in one another tuple;"
   ]
  },
  {
   "cell_type": "code",
   "execution_count": 61,
   "id": "16af439c",
   "metadata": {},
   "outputs": [],
   "source": [
    "h1=(1,2,5,4,5,6,4,5,6,7)\n",
    "h2=(5,6,4,6,4,4,5,4)"
   ]
  },
  {
   "cell_type": "code",
   "execution_count": 62,
   "id": "ce82d4ce",
   "metadata": {},
   "outputs": [],
   "source": [
    "i4 = h1 + h2"
   ]
  },
  {
   "cell_type": "code",
   "execution_count": 63,
   "id": "3e59449d",
   "metadata": {},
   "outputs": [],
   "source": [
    "i4 =(1, 2, 5, 4, 5, 6, 4, 5, 6, 7, 5, 6, 4, 6, 4, 4, 5, 4)"
   ]
  },
  {
   "cell_type": "code",
   "execution_count": 64,
   "id": "2c1fb06d",
   "metadata": {},
   "outputs": [
    {
     "name": "stdout",
     "output_type": "stream",
     "text": [
      "[1, 2, 5, 4, 5, 6, 4, 5, 6, 7, 5, 6, 4, 6, 4, 4, 5, 4]\n"
     ]
    }
   ],
   "source": [
    "i5 = list(i4)\n",
    "print(i5)"
   ]
  },
  {
   "cell_type": "code",
   "execution_count": 65,
   "id": "194a62ec",
   "metadata": {},
   "outputs": [
    {
     "name": "stdout",
     "output_type": "stream",
     "text": [
      "200\n"
     ]
    }
   ],
   "source": [
    "print(sys.getsizeof(i5))"
   ]
  },
  {
   "cell_type": "code",
   "execution_count": 66,
   "id": "aef40f34",
   "metadata": {},
   "outputs": [
    {
     "name": "stdout",
     "output_type": "stream",
     "text": [
      "184\n"
     ]
    }
   ],
   "source": [
    "print(sys.getsizeof(i4))"
   ]
  },
  {
   "cell_type": "code",
   "execution_count": 67,
   "id": "fbaa1afb",
   "metadata": {},
   "outputs": [
    {
     "data": {
      "text/plain": [
       "{1: 1, 2: 1, 5: 5, 4: 6, 6: 4, 7: 1}"
      ]
     },
     "execution_count": 67,
     "metadata": {},
     "output_type": "execute_result"
    }
   ],
   "source": [
    "i1= {}\n",
    "for i in i4:\n",
    "    if i not in i1:\n",
    "        i1[i] = 1\n",
    "    else:\n",
    "        i1[i] += 1\n",
    "i1"
   ]
  },
  {
   "cell_type": "code",
   "execution_count": 68,
   "id": "f5309c9d",
   "metadata": {},
   "outputs": [
    {
     "name": "stdout",
     "output_type": "stream",
     "text": [
      "18\n",
      "<class 'tuple'>\n"
     ]
    }
   ],
   "source": [
    "print(len(i4))\n",
    "print(type(i4))"
   ]
  }
 ],
 "metadata": {
  "kernelspec": {
   "display_name": "Python 3 (ipykernel)",
   "language": "python",
   "name": "python3"
  },
  "language_info": {
   "codemirror_mode": {
    "name": "ipython",
    "version": 3
   },
   "file_extension": ".py",
   "mimetype": "text/x-python",
   "name": "python",
   "nbconvert_exporter": "python",
   "pygments_lexer": "ipython3",
   "version": "3.10.10"
  }
 },
 "nbformat": 4,
 "nbformat_minor": 5
}
