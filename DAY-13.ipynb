{
 "cells": [
  {
   "cell_type": "markdown",
   "id": "b03fa78c",
   "metadata": {},
   "source": [
    "# Update dictionary:"
   ]
  },
  {
   "cell_type": "code",
   "execution_count": 1,
   "id": "ecfb6ec6",
   "metadata": {},
   "outputs": [],
   "source": [
    "fruits = {\n",
    "    \"apple\" : 120,\n",
    "    \"pine-apple\"  : 90,\n",
    "    \"mango\" : 100\n",
    "}"
   ]
  },
  {
   "cell_type": "code",
   "execution_count": 2,
   "id": "38ba13b6",
   "metadata": {},
   "outputs": [
    {
     "name": "stdout",
     "output_type": "stream",
     "text": [
      "{'apple': 120, 'pine-apple': 90, 'mango': 100}\n"
     ]
    }
   ],
   "source": [
    "print(fruits)"
   ]
  },
  {
   "cell_type": "code",
   "execution_count": 3,
   "id": "a581cfd0",
   "metadata": {},
   "outputs": [],
   "source": [
    "fruits[\"apple\"] = {\"small\" : 56 ,\"large\" : 150}"
   ]
  },
  {
   "cell_type": "code",
   "execution_count": 4,
   "id": "4ae7456b",
   "metadata": {},
   "outputs": [
    {
     "data": {
      "text/plain": [
       "{'apple': {'small': 56, 'large': 150}, 'pine-apple': 90, 'mango': 100}"
      ]
     },
     "execution_count": 4,
     "metadata": {},
     "output_type": "execute_result"
    }
   ],
   "source": [
    "fruits"
   ]
  },
  {
   "cell_type": "code",
   "execution_count": 5,
   "id": "2bf0e5df",
   "metadata": {},
   "outputs": [
    {
     "data": {
      "text/plain": [
       "{'small': 56, 'large': 150}"
      ]
     },
     "execution_count": 5,
     "metadata": {},
     "output_type": "execute_result"
    }
   ],
   "source": [
    "fruits[\"apple\"]"
   ]
  },
  {
   "cell_type": "code",
   "execution_count": 6,
   "id": "7d471a02",
   "metadata": {},
   "outputs": [],
   "source": [
    "new = {\"banana\" : 84,\"samosa\":56,\"cherry\" : 98}"
   ]
  },
  {
   "cell_type": "code",
   "execution_count": 7,
   "id": "7a6147af",
   "metadata": {},
   "outputs": [
    {
     "data": {
      "text/plain": [
       "{'apple': {'small': 56, 'large': 150},\n",
       " 'pine-apple': 90,\n",
       " 'mango': 100,\n",
       " 'banana': 84,\n",
       " 'samosa': 56,\n",
       " 'cherry': 98}"
      ]
     },
     "execution_count": 7,
     "metadata": {},
     "output_type": "execute_result"
    }
   ],
   "source": [
    "fruits.update(new)\n",
    "fruits"
   ]
  },
  {
   "cell_type": "markdown",
   "id": "f55a8ba4",
   "metadata": {},
   "source": [
    "# Deletation in dictionary:"
   ]
  },
  {
   "cell_type": "markdown",
   "id": "85444206",
   "metadata": {},
   "source": [
    "# Citizenships in dictionary:"
   ]
  },
  {
   "cell_type": "code",
   "execution_count": 8,
   "id": "48106311",
   "metadata": {},
   "outputs": [
    {
     "data": {
      "text/plain": [
       "True"
      ]
     },
     "execution_count": 8,
     "metadata": {},
     "output_type": "execute_result"
    }
   ],
   "source": [
    "\"apple\" in fruits"
   ]
  },
  {
   "cell_type": "code",
   "execution_count": 9,
   "id": "3a69b046",
   "metadata": {},
   "outputs": [
    {
     "data": {
      "text/plain": [
       "False"
      ]
     },
     "execution_count": 9,
     "metadata": {},
     "output_type": "execute_result"
    }
   ],
   "source": [
    "\"grapes\" in fruits"
   ]
  },
  {
   "cell_type": "markdown",
   "id": "f1afa567",
   "metadata": {},
   "source": [
    "# pop method in dictionary:"
   ]
  },
  {
   "cell_type": "code",
   "execution_count": 10,
   "id": "041b7477",
   "metadata": {},
   "outputs": [
    {
     "data": {
      "text/plain": [
       "56"
      ]
     },
     "execution_count": 10,
     "metadata": {},
     "output_type": "execute_result"
    }
   ],
   "source": [
    "fruits.pop(\"samosa\")"
   ]
  },
  {
   "cell_type": "code",
   "execution_count": 11,
   "id": "cc24d2c1",
   "metadata": {},
   "outputs": [
    {
     "data": {
      "text/plain": [
       "{'small': 56, 'large': 150}"
      ]
     },
     "execution_count": 11,
     "metadata": {},
     "output_type": "execute_result"
    }
   ],
   "source": [
    "fruits.pop(\"apple\")"
   ]
  },
  {
   "cell_type": "code",
   "execution_count": 12,
   "id": "f8e002e4",
   "metadata": {},
   "outputs": [],
   "source": [
    "new ={\n",
    "    \"Apple\" : 150\n",
    "}"
   ]
  },
  {
   "cell_type": "code",
   "execution_count": 13,
   "id": "c6c25dd7",
   "metadata": {},
   "outputs": [],
   "source": [
    "fruits.update(new)"
   ]
  },
  {
   "cell_type": "code",
   "execution_count": 14,
   "id": "0067d778",
   "metadata": {},
   "outputs": [
    {
     "data": {
      "text/plain": [
       "{'pine-apple': 90, 'mango': 100, 'banana': 84, 'cherry': 98, 'Apple': 150}"
      ]
     },
     "execution_count": 14,
     "metadata": {},
     "output_type": "execute_result"
    }
   ],
   "source": [
    "fruits"
   ]
  },
  {
   "cell_type": "markdown",
   "id": "7915073c",
   "metadata": {},
   "source": [
    "# Del mehid in python:"
   ]
  },
  {
   "cell_type": "code",
   "execution_count": 15,
   "id": "f3c5a062",
   "metadata": {},
   "outputs": [],
   "source": [
    "del fruits"
   ]
  },
  {
   "cell_type": "markdown",
   "id": "bab8c43a",
   "metadata": {},
   "source": [
    "# iteration in dictionary:"
   ]
  },
  {
   "cell_type": "code",
   "execution_count": 16,
   "id": "bb2ede1b",
   "metadata": {},
   "outputs": [],
   "source": [
    "new = {\n",
    "    \"Apple\" : 120,\n",
    "    \"mango\" : 47,\n",
    "    \"pine-apple\" : 568,\n",
    "    \"gauva\" : 89\n",
    "}"
   ]
  },
  {
   "cell_type": "code",
   "execution_count": 17,
   "id": "fbc20a28",
   "metadata": {},
   "outputs": [
    {
     "name": "stdout",
     "output_type": "stream",
     "text": [
      "Apple\n",
      "mango\n",
      "pine-apple\n",
      "gauva\n"
     ]
    }
   ],
   "source": [
    "for i in new:\n",
    "    print(i)"
   ]
  },
  {
   "cell_type": "code",
   "execution_count": 18,
   "id": "c9c533a1",
   "metadata": {},
   "outputs": [],
   "source": [
    "fruits = {\n",
    "    \"cherry\" : 568,\n",
    "    \"pikkacho\" : 54\n",
    "}"
   ]
  },
  {
   "cell_type": "code",
   "execution_count": 19,
   "id": "975b96e4",
   "metadata": {},
   "outputs": [],
   "source": [
    "new.update(fruits)"
   ]
  },
  {
   "cell_type": "code",
   "execution_count": null,
   "id": "abf4d3e5",
   "metadata": {},
   "outputs": [],
   "source": []
  },
  {
   "cell_type": "code",
   "execution_count": 42,
   "id": "c39fc63b",
   "metadata": {},
   "outputs": [
    {
     "name": "stdout",
     "output_type": "stream",
     "text": [
      "Apple 120\n",
      "mango 47\n",
      "pine-apple 568\n",
      "gauva 89\n",
      "cherry 568\n",
      "pikkacho 54\n"
     ]
    }
   ],
   "source": [
    "for i in new:\n",
    "    print(i, new[i])"
   ]
  },
  {
   "cell_type": "markdown",
   "id": "816f580c",
   "metadata": {},
   "source": [
    "# Using dict.items:"
   ]
  },
  {
   "cell_type": "code",
   "execution_count": 21,
   "id": "8d488eb8",
   "metadata": {},
   "outputs": [
    {
     "name": "stdout",
     "output_type": "stream",
     "text": [
      "Apple 120\n",
      "mango 47\n",
      "pine-apple 568\n",
      "gauva 89\n",
      "cherry 568\n",
      "pikkacho 54\n"
     ]
    }
   ],
   "source": [
    "for key, value in new.items():\n",
    "    print(key, value)"
   ]
  },
  {
   "cell_type": "code",
   "execution_count": 22,
   "id": "b26e5185",
   "metadata": {},
   "outputs": [
    {
     "name": "stdout",
     "output_type": "stream",
     "text": [
      "cherry 568\n",
      "pikkacho 54\n"
     ]
    }
   ],
   "source": [
    "for key, value in fruits.items():\n",
    "    print(key, value)"
   ]
  },
  {
   "cell_type": "code",
   "execution_count": 23,
   "id": "4719c983",
   "metadata": {},
   "outputs": [
    {
     "data": {
      "text/plain": [
       "dict_items([('Apple', 120), ('mango', 47), ('pine-apple', 568), ('gauva', 89), ('cherry', 568), ('pikkacho', 54)])"
      ]
     },
     "execution_count": 23,
     "metadata": {},
     "output_type": "execute_result"
    }
   ],
   "source": [
    "new.items()"
   ]
  },
  {
   "cell_type": "code",
   "execution_count": 24,
   "id": "16a3f698",
   "metadata": {},
   "outputs": [
    {
     "data": {
      "text/plain": [
       "dict_items([('cherry', 568), ('pikkacho', 54)])"
      ]
     },
     "execution_count": 24,
     "metadata": {},
     "output_type": "execute_result"
    }
   ],
   "source": [
    "fruits.items()"
   ]
  },
  {
   "cell_type": "code",
   "execution_count": null,
   "id": "be7ca23f",
   "metadata": {},
   "outputs": [],
   "source": []
  },
  {
   "cell_type": "markdown",
   "id": "52e3eecf",
   "metadata": {},
   "source": [
    "# More dictinoary method:"
   ]
  },
  {
   "cell_type": "code",
   "execution_count": 25,
   "id": "f48b3d51",
   "metadata": {},
   "outputs": [],
   "source": [
    "jamun = {\n",
    "    \"jamun\" : 55,\n",
    "    \"pink \": 54,\n",
    "    \"samossa\" : 66\n",
    "}"
   ]
  },
  {
   "cell_type": "code",
   "execution_count": 26,
   "id": "6423b1ae",
   "metadata": {},
   "outputs": [
    {
     "data": {
      "text/plain": [
       "dict_keys(['jamun', 'pink ', 'samossa'])"
      ]
     },
     "execution_count": 26,
     "metadata": {},
     "output_type": "execute_result"
    }
   ],
   "source": [
    "jamun.keys()"
   ]
  },
  {
   "cell_type": "code",
   "execution_count": 27,
   "id": "4599dcbf",
   "metadata": {},
   "outputs": [
    {
     "data": {
      "text/plain": [
       "dict_values([55, 54, 66])"
      ]
     },
     "execution_count": 27,
     "metadata": {},
     "output_type": "execute_result"
    }
   ],
   "source": [
    "jamun.values()"
   ]
  },
  {
   "cell_type": "code",
   "execution_count": 28,
   "id": "e6c71d9c",
   "metadata": {},
   "outputs": [
    {
     "data": {
      "text/plain": [
       "dict_items([('jamun', 55), ('pink ', 54), ('samossa', 66)])"
      ]
     },
     "execution_count": 28,
     "metadata": {},
     "output_type": "execute_result"
    }
   ],
   "source": [
    "jamun.items()"
   ]
  },
  {
   "cell_type": "code",
   "execution_count": null,
   "id": "3d2302c3",
   "metadata": {},
   "outputs": [],
   "source": []
  },
  {
   "cell_type": "markdown",
   "id": "76a5ba73",
   "metadata": {},
   "source": [
    "# Challenge :"
   ]
  },
  {
   "cell_type": "code",
   "execution_count": 29,
   "id": "0d658219",
   "metadata": {},
   "outputs": [],
   "source": [
    "gh = [\"Anurag\",\"Anurag\",\"samosa\"]"
   ]
  },
  {
   "cell_type": "code",
   "execution_count": 30,
   "id": "675b7985",
   "metadata": {},
   "outputs": [
    {
     "name": "stdout",
     "output_type": "stream",
     "text": [
      "{'Anurag': 2, 'samosa': 1}\n"
     ]
    }
   ],
   "source": [
    "jh = {}\n",
    "for i in gh:\n",
    "    if i not in jh:\n",
    "        jh[i] = 1\n",
    "    else:\n",
    "        jh[i] += 1\n",
    "print(jh)"
   ]
  },
  {
   "cell_type": "code",
   "execution_count": null,
   "id": "826f193a",
   "metadata": {},
   "outputs": [],
   "source": []
  },
  {
   "cell_type": "code",
   "execution_count": null,
   "id": "7e1e3ffe",
   "metadata": {},
   "outputs": [],
   "source": []
  },
  {
   "cell_type": "code",
   "execution_count": 31,
   "id": "e64b56ca",
   "metadata": {},
   "outputs": [],
   "source": [
    "kh = ['a','a','b','b']"
   ]
  },
  {
   "cell_type": "code",
   "execution_count": 32,
   "id": "823633f5",
   "metadata": {},
   "outputs": [
    {
     "name": "stdout",
     "output_type": "stream",
     "text": [
      "{'a': 2, 'b': 2}\n"
     ]
    }
   ],
   "source": [
    "ml = {}\n",
    "for i in kh:\n",
    "    if i not in ml:\n",
    "        ml[i] = 1\n",
    "    else:\n",
    "        ml[i] += 1\n",
    "print(ml)"
   ]
  },
  {
   "cell_type": "markdown",
   "id": "a7f344bd",
   "metadata": {},
   "source": [
    "# setdefault methd in deictionary:- add(key, value)"
   ]
  },
  {
   "cell_type": "code",
   "execution_count": 33,
   "id": "702b7f18",
   "metadata": {},
   "outputs": [],
   "source": [
    "t = {\n",
    "    \"name\" : \"Anurag\",\n",
    "    \"School\" : \"Browse jobs\",\n",
    "    \"roll no\" : 21\n",
    "}"
   ]
  },
  {
   "cell_type": "code",
   "execution_count": 34,
   "id": "b7269c59",
   "metadata": {},
   "outputs": [
    {
     "name": "stdout",
     "output_type": "stream",
     "text": [
      "{'name': 'Anurag', 'School': 'Browse jobs', 'roll no': 21, 'color': 'black'}\n"
     ]
    }
   ],
   "source": [
    "t.setdefault(\"color\",\"black\")\n",
    "print(t)"
   ]
  },
  {
   "cell_type": "code",
   "execution_count": 35,
   "id": "006f82f3",
   "metadata": {},
   "outputs": [
    {
     "data": {
      "text/plain": [
       "'Anurag'"
      ]
     },
     "execution_count": 35,
     "metadata": {},
     "output_type": "execute_result"
    }
   ],
   "source": [
    "t.setdefault(\"name\")"
   ]
  },
  {
   "cell_type": "code",
   "execution_count": null,
   "id": "7906a18b",
   "metadata": {},
   "outputs": [],
   "source": []
  },
  {
   "cell_type": "code",
   "execution_count": 36,
   "id": "d1b488f0",
   "metadata": {},
   "outputs": [],
   "source": [
    "f = {\n",
    "    \"fruits\" : \"grapes\",\n",
    "    \"color\":\"green\"\n",
    "}"
   ]
  },
  {
   "cell_type": "code",
   "execution_count": 37,
   "id": "67069cc9",
   "metadata": {},
   "outputs": [],
   "source": [
    "g = {\n",
    "    \"fruits1\" : \"oragne\",\n",
    "    \"color1\" : \"red\"\n",
    "}"
   ]
  },
  {
   "cell_type": "code",
   "execution_count": 38,
   "id": "9b635209",
   "metadata": {},
   "outputs": [
    {
     "name": "stdout",
     "output_type": "stream",
     "text": [
      "<class 'dict'>\n",
      "2038109885824\n"
     ]
    }
   ],
   "source": [
    "f.update(g)\n",
    "print(type(f))\n",
    "print(id(f))"
   ]
  },
  {
   "cell_type": "code",
   "execution_count": 39,
   "id": "615b09c7",
   "metadata": {},
   "outputs": [
    {
     "name": "stdout",
     "output_type": "stream",
     "text": [
      "{'fruits': 'grapes', 'color': 'green', 'fruits1': 'oragne', 'color1': 'red'}\n"
     ]
    }
   ],
   "source": [
    "print(f)"
   ]
  },
  {
   "cell_type": "code",
   "execution_count": 40,
   "id": "5eedf03b",
   "metadata": {},
   "outputs": [
    {
     "name": "stdout",
     "output_type": "stream",
     "text": [
      "{'fruits': 'pine-apple', 'color': 'green', 'fruits1': 'oragne', 'color1': 'red'}\n"
     ]
    }
   ],
   "source": [
    "f.update({\"fruits\":\"pine-apple\"})\n",
    "print(f)"
   ]
  },
  {
   "cell_type": "code",
   "execution_count": 41,
   "id": "c7ea4dd0",
   "metadata": {},
   "outputs": [
    {
     "name": "stdout",
     "output_type": "stream",
     "text": [
      "{'fruits': 'gauva', 'color': 'green', 'fruits1': 'oragne', 'color1': 'red'}\n"
     ]
    }
   ],
   "source": [
    "f[\"fruits\"] = \"gauva\"\n",
    "print(f)"
   ]
  },
  {
   "cell_type": "code",
   "execution_count": null,
   "id": "0e63a921",
   "metadata": {},
   "outputs": [],
   "source": []
  },
  {
   "cell_type": "code",
   "execution_count": null,
   "id": "d71e1e30",
   "metadata": {},
   "outputs": [],
   "source": []
  },
  {
   "cell_type": "code",
   "execution_count": null,
   "id": "abf15b06",
   "metadata": {},
   "outputs": [],
   "source": []
  },
  {
   "cell_type": "code",
   "execution_count": null,
   "id": "82371ae0",
   "metadata": {},
   "outputs": [],
   "source": []
  },
  {
   "cell_type": "code",
   "execution_count": null,
   "id": "9bff35f4",
   "metadata": {},
   "outputs": [],
   "source": []
  },
  {
   "cell_type": "code",
   "execution_count": null,
   "id": "9f569600",
   "metadata": {},
   "outputs": [],
   "source": []
  },
  {
   "cell_type": "code",
   "execution_count": null,
   "id": "fb246fdf",
   "metadata": {},
   "outputs": [],
   "source": []
  },
  {
   "cell_type": "code",
   "execution_count": null,
   "id": "0c8b4273",
   "metadata": {},
   "outputs": [],
   "source": []
  },
  {
   "cell_type": "code",
   "execution_count": null,
   "id": "ef05358e",
   "metadata": {},
   "outputs": [],
   "source": []
  },
  {
   "cell_type": "code",
   "execution_count": null,
   "id": "f9242ae7",
   "metadata": {},
   "outputs": [],
   "source": []
  }
 ],
 "metadata": {
  "kernelspec": {
   "display_name": "Python 3 (ipykernel)",
   "language": "python",
   "name": "python3"
  },
  "language_info": {
   "codemirror_mode": {
    "name": "ipython",
    "version": 3
   },
   "file_extension": ".py",
   "mimetype": "text/x-python",
   "name": "python",
   "nbconvert_exporter": "python",
   "pygments_lexer": "ipython3",
   "version": "3.10.10"
  }
 },
 "nbformat": 4,
 "nbformat_minor": 5
}
