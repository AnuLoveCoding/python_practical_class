{
 "cells": [
  {
   "attachments": {},
   "cell_type": "markdown",
   "metadata": {},
   "source": [
    "# CRUD -> Create, Read, Update, Delete :-  CRUD is short-form of four basic operational API's on Database."
   ]
  },
  {
   "cell_type": "code",
   "execution_count": 41,
   "metadata": {},
   "outputs": [],
   "source": [
    "customer_id = 0\n",
    "Db = {}"
   ]
  },
  {
   "cell_type": "code",
   "execution_count": 42,
   "metadata": {},
   "outputs": [],
   "source": [
    "class customer: # (model)\n",
    "    def __init__(self, name, mobile, customer_id):\n",
    "        self.name = name\n",
    "        self.mobile = mobile\n",
    "        self.customer_id = customer_id\n",
    "\n",
    "    def __repr__(self):\n",
    "        return(f\"{self.name}, {self.mobile}, {self.customer_id}\")"
   ]
  },
  {
   "cell_type": "code",
   "execution_count": 43,
   "metadata": {},
   "outputs": [],
   "source": [
    "class website:\n",
    "    def __init__(self, list_customer):\n",
    "        self.list_customer = list_customer\n",
    "\n",
    "    def __repr__(self):\n",
    "        return(f\"{self.list_customer}\")\n"
   ]
  },
  {
   "cell_type": "code",
   "execution_count": 58,
   "metadata": {},
   "outputs": [],
   "source": [
    "class customer_CRUD: # API's Service\n",
    "    @staticmethod\n",
    "    def create(name, mobile):\n",
    "        global customer_id\n",
    "        global Db\n",
    "        customer1 = customer(name, mobile , customer_id)\n",
    "        Db[customer_id] = customer1\n",
    "        customer_id += 1\n",
    "\n",
    "    @staticmethod\n",
    "    def read(customer_id):\n",
    "        if customer_id in Db:\n",
    "            print(Db[customer_id])\n",
    "        else:\n",
    "            print('Customer does not exist;')\n",
    "\n",
    "    @staticmethod\n",
    "    def update(name, mobile, customer_id):\n",
    "        if customer_id in Db:\n",
    "            Db[customer_id] = customer(name, mobile, customer_id)\n",
    "        else:\n",
    "            print(\"I can't update\")\n",
    "\n",
    "    "
   ]
  },
  {
   "cell_type": "code",
   "execution_count": 60,
   "metadata": {},
   "outputs": [
    {
     "name": "stdout",
     "output_type": "stream",
     "text": [
      "Customer does not exist\n"
     ]
    }
   ],
   "source": [
    "customer_CRUD.read(10)"
   ]
  },
  {
   "cell_type": "code",
   "execution_count": 62,
   "metadata": {},
   "outputs": [
    {
     "name": "stdout",
     "output_type": "stream",
     "text": [
      "Anurag, 8595848097, 1\n"
     ]
    }
   ],
   "source": [
    "print(Db[1])"
   ]
  },
  {
   "cell_type": "code",
   "execution_count": null,
   "metadata": {},
   "outputs": [],
   "source": []
  },
  {
   "cell_type": "code",
   "execution_count": null,
   "metadata": {},
   "outputs": [],
   "source": []
  }
 ],
 "metadata": {
  "kernelspec": {
   "display_name": "Python 3",
   "language": "python",
   "name": "python3"
  },
  "language_info": {
   "codemirror_mode": {
    "name": "ipython",
    "version": 3
   },
   "file_extension": ".py",
   "mimetype": "text/x-python",
   "name": "python",
   "nbconvert_exporter": "python",
   "pygments_lexer": "ipython3",
   "version": "3.10.10"
  },
  "orig_nbformat": 4
 },
 "nbformat": 4,
 "nbformat_minor": 2
}
