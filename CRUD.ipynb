{
 "cells": [
  {
   "attachments": {},
   "cell_type": "markdown",
   "metadata": {},
   "source": [
    "# CRUD -> Create, Read, Update, Delete :-  CRUD is short-form of four basic operational API's on Database."
   ]
  },
  {
   "cell_type": "code",
   "execution_count": 70,
   "metadata": {},
   "outputs": [],
   "source": [
    "customer_id = 0\n",
    "Db = {}"
   ]
  },
  {
   "cell_type": "code",
   "execution_count": 88,
   "metadata": {},
   "outputs": [],
   "source": [
    "class customer: # (model)\n",
    "    def __init__(self, name, mobile, customer_id):\n",
    "        self.name = name\n",
    "        self.mobile = mobile\n",
    "        self.customer_id = customer_id\n",
    "\n",
    "    def __repr__(self):\n",
    "        return(f\"{self.name}, {self.mobile}\")"
   ]
  },
  {
   "cell_type": "code",
   "execution_count": 89,
   "metadata": {},
   "outputs": [],
   "source": [
    "class API: # API's Service\n",
    "    @staticmethod\n",
    "    def create(name, mobile):\n",
    "        global customer_id\n",
    "        global Db\n",
    "        customer1 = customer(name, mobile , customer_id)\n",
    "        Db[customer_id] = customer1\n",
    "        customer_id += 1\n",
    "\n",
    "    @staticmethod\n",
    "    def read(customer_id):\n",
    "        if customer_id in Db:\n",
    "            print(Db[customer_id])\n",
    "        else:\n",
    "            print('Customer does not exist;')\n",
    "\n",
    "    @staticmethod\n",
    "    def update(name, mobile, customer_id):\n",
    "        if customer_id in Db:\n",
    "            Db[customer_id] = customer(name, mobile, customer_id)\n",
    "        else:\n",
    "            print(\"I can't update\")\n",
    "\n",
    "    @staticmethod\n",
    "    def delete(customer_id):\n",
    "        if customer_id not in Db:\n",
    "            print(\"customer does not exist\")\n",
    "        else:\n",
    "            del(Db[customer_id])\n",
    "\n",
    "    "
   ]
  },
  {
   "cell_type": "code",
   "execution_count": 95,
   "metadata": {},
   "outputs": [
    {
     "name": "stdout",
     "output_type": "stream",
     "text": [
      "{0: Anurag, 8595848097, 0, 2: manjit, 854974587, 3: manjit, 854974587, 4: golu, 87945122}\n"
     ]
    }
   ],
   "source": [
    "customer_CRUD.create('golu','87945122')\n",
    "print(Db)"
   ]
  }
 ],
 "metadata": {
  "kernelspec": {
   "display_name": "Python 3",
   "language": "python",
   "name": "python3"
  },
  "language_info": {
   "codemirror_mode": {
    "name": "ipython",
    "version": 3
   },
   "file_extension": ".py",
   "mimetype": "text/x-python",
   "name": "python",
   "nbconvert_exporter": "python",
   "pygments_lexer": "ipython3",
   "version": "3.10.10"
  },
  "orig_nbformat": 4
 },
 "nbformat": 4,
 "nbformat_minor": 2
}
