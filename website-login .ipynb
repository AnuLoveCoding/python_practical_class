{
 "cells": [
  {
   "cell_type": "code",
   "execution_count": 1,
   "id": "9554b794",
   "metadata": {},
   "outputs": [],
   "source": [
    "def login(username, password, given):\n",
    "    if username not in given:\n",
    "        print(\"your username is invalid, please try again..\")\n",
    "    elif given[username] == password:\n",
    "        print(\"welcome to the Netflix-failmy\")\n",
    "    else:\n",
    "        print(\"Better luck next time\")\n",
    "        \n",
    "        "
   ]
  },
  {
   "cell_type": "code",
   "execution_count": 2,
   "id": "313496ec",
   "metadata": {},
   "outputs": [],
   "source": [
    "given = {\n",
    "    \"Anurag\" : \"Anur1234\",\n",
    "    \"jeethu\" : \"Jeet564\",\n",
    "    \"panday\" : \"PAND12345\"\n",
    "}"
   ]
  },
  {
   "cell_type": "code",
   "execution_count": 3,
   "id": "ef587d9b",
   "metadata": {},
   "outputs": [],
   "source": [
    "given.update({\"Ankush\" : \"ANKUS1234789\"})"
   ]
  },
  {
   "cell_type": "code",
   "execution_count": 4,
   "id": "c2d52b6e",
   "metadata": {},
   "outputs": [
    {
     "data": {
      "text/plain": [
       "{'Anurag': 'Anur1234',\n",
       " 'jeethu': 'Jeet564',\n",
       " 'panday': 'PAND12345',\n",
       " 'Ankush': 'ANKUS1234789'}"
      ]
     },
     "execution_count": 4,
     "metadata": {},
     "output_type": "execute_result"
    }
   ],
   "source": [
    "given"
   ]
  },
  {
   "cell_type": "code",
   "execution_count": 5,
   "id": "65ddf50b",
   "metadata": {},
   "outputs": [
    {
     "data": {
      "text/plain": [
       "dict_items([('Anurag', 'Anur1234'), ('jeethu', 'Jeet564'), ('panday', 'PAND12345'), ('Ankush', 'ANKUS1234789')])"
      ]
     },
     "execution_count": 5,
     "metadata": {},
     "output_type": "execute_result"
    }
   ],
   "source": [
    "given.keys()\n",
    "given.values()\n",
    "given.items()"
   ]
  },
  {
   "cell_type": "code",
   "execution_count": 6,
   "id": "d929f79f",
   "metadata": {},
   "outputs": [
    {
     "name": "stdout",
     "output_type": "stream",
     "text": [
      "Anurag Anur1234\n",
      "jeethu Jeet564\n",
      "panday PAND12345\n",
      "Ankush ANKUS1234789\n"
     ]
    }
   ],
   "source": [
    "for i in given:\n",
    "    print(i, given[i])"
   ]
  },
  {
   "cell_type": "code",
   "execution_count": 7,
   "id": "d1ab5014",
   "metadata": {},
   "outputs": [
    {
     "name": "stdout",
     "output_type": "stream",
     "text": [
      "welcome to the Netflix-failmy\n"
     ]
    }
   ],
   "source": [
    "login(\"Anurag\",\"Anur1234\",given)"
   ]
  },
  {
   "cell_type": "code",
   "execution_count": null,
   "id": "e4511b24",
   "metadata": {},
   "outputs": [],
   "source": []
  },
  {
   "cell_type": "code",
   "execution_count": null,
   "id": "69d063fb",
   "metadata": {},
   "outputs": [],
   "source": []
  },
  {
   "cell_type": "code",
   "execution_count": null,
   "id": "168fcb39",
   "metadata": {},
   "outputs": [],
   "source": []
  },
  {
   "cell_type": "code",
   "execution_count": null,
   "id": "aada4ddd",
   "metadata": {},
   "outputs": [],
   "source": []
  },
  {
   "cell_type": "code",
   "execution_count": null,
   "id": "d0faed1f",
   "metadata": {},
   "outputs": [],
   "source": []
  },
  {
   "cell_type": "code",
   "execution_count": null,
   "id": "a265af85",
   "metadata": {},
   "outputs": [],
   "source": []
  },
  {
   "cell_type": "code",
   "execution_count": null,
   "id": "6504869e",
   "metadata": {},
   "outputs": [],
   "source": []
  },
  {
   "cell_type": "code",
   "execution_count": null,
   "id": "671d8c92",
   "metadata": {},
   "outputs": [],
   "source": []
  },
  {
   "cell_type": "code",
   "execution_count": null,
   "id": "34453eff",
   "metadata": {},
   "outputs": [],
   "source": []
  },
  {
   "cell_type": "code",
   "execution_count": null,
   "id": "80a1b671",
   "metadata": {},
   "outputs": [],
   "source": []
  },
  {
   "cell_type": "code",
   "execution_count": null,
   "id": "0f9858dd",
   "metadata": {},
   "outputs": [],
   "source": []
  },
  {
   "cell_type": "code",
   "execution_count": null,
   "id": "ad9ab71d",
   "metadata": {},
   "outputs": [],
   "source": []
  },
  {
   "cell_type": "code",
   "execution_count": null,
   "id": "95e15d38",
   "metadata": {},
   "outputs": [],
   "source": []
  },
  {
   "cell_type": "code",
   "execution_count": null,
   "id": "5306941b",
   "metadata": {},
   "outputs": [],
   "source": []
  },
  {
   "cell_type": "code",
   "execution_count": null,
   "id": "7ab7f735",
   "metadata": {},
   "outputs": [],
   "source": []
  },
  {
   "cell_type": "code",
   "execution_count": null,
   "id": "c1996684",
   "metadata": {},
   "outputs": [],
   "source": []
  },
  {
   "cell_type": "code",
   "execution_count": null,
   "id": "66bc8dd5",
   "metadata": {},
   "outputs": [],
   "source": []
  },
  {
   "cell_type": "code",
   "execution_count": null,
   "id": "093f9eea",
   "metadata": {},
   "outputs": [],
   "source": []
  }
 ],
 "metadata": {
  "kernelspec": {
   "display_name": "Python 3 (ipykernel)",
   "language": "python",
   "name": "python3"
  },
  "language_info": {
   "codemirror_mode": {
    "name": "ipython",
    "version": 3
   },
   "file_extension": ".py",
   "mimetype": "text/x-python",
   "name": "python",
   "nbconvert_exporter": "python",
   "pygments_lexer": "ipython3",
   "version": "3.10.10"
  }
 },
 "nbformat": 4,
 "nbformat_minor": 5
}
