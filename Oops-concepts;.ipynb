{
 "cells": [
  {
   "cell_type": "code",
   "execution_count": 1,
   "id": "10dfc449",
   "metadata": {},
   "outputs": [],
   "source": [
    "class mercedes:\n",
    "    def __init__(self,name,color,bullet_proof,iden):\n",
    "        self.name = name\n",
    "        self.color = color\n",
    "        self.bullet_proof = bullet_proof\n",
    "        self.iden = iden\n",
    "        \n",
    "    def __repr__(self):\n",
    "        return f'{self.name},{self.color},{self.bullet_proof},{self.iden}'\n",
    "    \n",
    "    def name_len(self):\n",
    "        return len(self.name)\n",
    "        "
   ]
  },
  {
   "cell_type": "code",
   "execution_count": 2,
   "id": "550c0819",
   "metadata": {},
   "outputs": [],
   "source": [
    "car1 = mercedes('merclss1','blue',False,'merclss1')\n",
    "car2  = mercedes('Alto','red',True,'i10')\n",
    "car3 = mercedes('maruti','light-grey',False,'12000')"
   ]
  },
  {
   "cell_type": "code",
   "execution_count": 3,
   "id": "577a455d",
   "metadata": {},
   "outputs": [],
   "source": [
    "def name_car(car1):\n",
    "    return car1.name_len()"
   ]
  },
  {
   "cell_type": "code",
   "execution_count": 4,
   "id": "88d3f0ac",
   "metadata": {},
   "outputs": [
    {
     "name": "stdout",
     "output_type": "stream",
     "text": [
      "[8, 4, 6]\n"
     ]
    }
   ],
   "source": [
    "ans = list(map(name_car,[car1,car2,car3]))\n",
    "print(ans)"
   ]
  },
  {
   "cell_type": "code",
   "execution_count": 5,
   "id": "2ce7efd1",
   "metadata": {},
   "outputs": [],
   "source": [
    "# print(list(map(lambda car : car.name_len(),[car1,car2] )))"
   ]
  },
  {
   "cell_type": "raw",
   "id": "12811f16",
   "metadata": {},
   "source": []
  },
  {
   "cell_type": "code",
   "execution_count": null,
   "id": "79f62e9a",
   "metadata": {},
   "outputs": [],
   "source": []
  },
  {
   "cell_type": "code",
   "execution_count": null,
   "id": "28958882",
   "metadata": {},
   "outputs": [],
   "source": []
  }
 ],
 "metadata": {
  "kernelspec": {
   "display_name": "Python 3 (ipykernel)",
   "language": "python",
   "name": "python3"
  },
  "language_info": {
   "codemirror_mode": {
    "name": "ipython",
    "version": 3
   },
   "file_extension": ".py",
   "mimetype": "text/x-python",
   "name": "python",
   "nbconvert_exporter": "python",
   "pygments_lexer": "ipython3",
   "version": "3.9.13"
  }
 },
 "nbformat": 4,
 "nbformat_minor": 5
}
