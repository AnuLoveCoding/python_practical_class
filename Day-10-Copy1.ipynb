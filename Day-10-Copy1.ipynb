{
 "cells": [
  {
   "cell_type": "markdown",
   "id": "4098a5f2",
   "metadata": {},
   "source": [
    "# Dictionary:- 1. Dictionary is key:pair data. \n",
    "# 2. Dictionary are ordered;\n",
    "# 3. Does not supporting idexing;\n",
    "# 4. Data can be accessing in useing key;"
   ]
  },
  {
   "cell_type": "code",
   "execution_count": null,
   "id": "a3b93a92",
   "metadata": {},
   "outputs": [],
   "source": []
  },
  {
   "cell_type": "markdown",
   "id": "17301259",
   "metadata": {},
   "source": [
    "# Creating empty dictionaries:"
   ]
  },
  {
   "cell_type": "code",
   "execution_count": 7,
   "id": "208105d4",
   "metadata": {},
   "outputs": [
    {
     "name": "stdout",
     "output_type": "stream",
     "text": [
      "<class 'set'>\n",
      "{4}\n"
     ]
    }
   ],
   "source": [
    "d ={4}\n",
    "print(type(d))\n",
    "print(d)"
   ]
  },
  {
   "cell_type": "code",
   "execution_count": 11,
   "id": "388e022a",
   "metadata": {},
   "outputs": [
    {
     "name": "stdout",
     "output_type": "stream",
     "text": [
      "<class 'dict'>\n",
      "{}\n"
     ]
    }
   ],
   "source": [
    "d1 = dict()\n",
    "print(type(d1))\n",
    "print(d1)"
   ]
  },
  {
   "cell_type": "markdown",
   "id": "5952cca0",
   "metadata": {},
   "source": [
    "# Creating Non-empty dictionaries:-"
   ]
  },
  {
   "cell_type": "code",
   "execution_count": 18,
   "id": "5be06bbf",
   "metadata": {},
   "outputs": [
    {
     "name": "stdout",
     "output_type": "stream",
     "text": [
      "<class 'dict'>\n"
     ]
    }
   ],
   "source": [
    "fruits = {\n",
    "    \"Apple\" : 120,\n",
    "    \"colour\" : \"red\",\n",
    "    \"market\" : \"Boring- road\",\n",
    "    \"price\" : 90,\n",
    "    \"special\" : \"\"\" this is most posperious fruits in the country and its found in kashmir. \"\"\"\n",
    "}\n",
    "\n",
    "print(type(fruits))"
   ]
  },
  {
   "cell_type": "code",
   "execution_count": 22,
   "id": "6b6c2bd7",
   "metadata": {},
   "outputs": [
    {
     "name": "stdout",
     "output_type": "stream",
     "text": [
      "{'Apple': 120, 'colour': 'red', 'market': 'Boring- road', 'price': 90, 'special': ' this is most posperious fruits in the country and its found in kashmir. '}, "
     ]
    }
   ],
   "source": [
    "print(fruits,end =\", \")"
   ]
  },
  {
   "cell_type": "markdown",
   "id": "9730e9a9",
   "metadata": {},
   "source": [
    "# zip method:"
   ]
  },
  {
   "cell_type": "code",
   "execution_count": 25,
   "id": "cf569e0e",
   "metadata": {},
   "outputs": [],
   "source": [
    "name1 =[\"Apple1\",\"Mango1\",\"pineapple1\"]\n",
    "value = [100,200,300]"
   ]
  },
  {
   "cell_type": "code",
   "execution_count": 28,
   "id": "c3eda1bf",
   "metadata": {},
   "outputs": [
    {
     "name": "stdout",
     "output_type": "stream",
     "text": [
      "<class 'dict'>\n"
     ]
    }
   ],
   "source": [
    "dic = dict(zip(name1, value))\n",
    "print(type(dic))"
   ]
  },
  {
   "cell_type": "code",
   "execution_count": null,
   "id": "fcbc0e3c",
   "metadata": {},
   "outputs": [],
   "source": []
  },
  {
   "cell_type": "code",
   "execution_count": 43,
   "id": "5e088811",
   "metadata": {},
   "outputs": [],
   "source": [
    "faal = {\n",
    "    \"gauva\" : 150,\n",
    "    \"raddish\" : 88,\n",
    "    \"panni-faal\" : 97,\n",
    "    \"pikkacho\" : \"This is most favorite fruits one of the\"\n",
    "}"
   ]
  },
  {
   "cell_type": "code",
   "execution_count": 30,
   "id": "23035b1b",
   "metadata": {},
   "outputs": [
    {
     "data": {
      "text/plain": [
       "{'gauva': 150, 'raddish': 88, 'panni-faal': 97}"
      ]
     },
     "execution_count": 30,
     "metadata": {},
     "output_type": "execute_result"
    }
   ],
   "source": [
    "faal"
   ]
  },
  {
   "cell_type": "code",
   "execution_count": 31,
   "id": "102a94b3",
   "metadata": {},
   "outputs": [
    {
     "data": {
      "text/plain": [
       "150"
      ]
     },
     "execution_count": 31,
     "metadata": {},
     "output_type": "execute_result"
    }
   ],
   "source": [
    "faal[\"gauva\"]"
   ]
  },
  {
   "cell_type": "code",
   "execution_count": 33,
   "id": "a60ff97d",
   "metadata": {},
   "outputs": [
    {
     "data": {
      "text/plain": [
       "88"
      ]
     },
     "execution_count": 33,
     "metadata": {},
     "output_type": "execute_result"
    }
   ],
   "source": [
    "faal[\"raddish\"]"
   ]
  },
  {
   "cell_type": "markdown",
   "id": "61a7f16b",
   "metadata": {},
   "source": [
    "# To avoid error in dict : use get method;"
   ]
  },
  {
   "cell_type": "code",
   "execution_count": 38,
   "id": "ccf249c7",
   "metadata": {},
   "outputs": [
    {
     "data": {
      "text/plain": [
       "88"
      ]
     },
     "execution_count": 38,
     "metadata": {},
     "output_type": "execute_result"
    }
   ],
   "source": [
    "faal.get(\"raddish\", \"This fruits is not available\")"
   ]
  },
  {
   "cell_type": "code",
   "execution_count": 44,
   "id": "e4976250",
   "metadata": {},
   "outputs": [
    {
     "data": {
      "text/plain": [
       "'This is most favorite fruits one of the'"
      ]
     },
     "execution_count": 44,
     "metadata": {},
     "output_type": "execute_result"
    }
   ],
   "source": [
    "faal.get(\"pikkacho\",\"No this is not present in dictionary \")"
   ]
  },
  {
   "cell_type": "code",
   "execution_count": null,
   "id": "0d394324",
   "metadata": {},
   "outputs": [],
   "source": []
  },
  {
   "cell_type": "markdown",
   "id": "9b0f47de",
   "metadata": {},
   "source": [
    "# Updating the existing key in dictionary:"
   ]
  }
 ],
 "metadata": {
  "kernelspec": {
   "display_name": "Python 3 (ipykernel)",
   "language": "python",
   "name": "python3"
  },
  "language_info": {
   "codemirror_mode": {
    "name": "ipython",
    "version": 3
   },
   "file_extension": ".py",
   "mimetype": "text/x-python",
   "name": "python",
   "nbconvert_exporter": "python",
   "pygments_lexer": "ipython3",
   "version": "3.9.13"
  }
 },
 "nbformat": 4,
 "nbformat_minor": 5
}
