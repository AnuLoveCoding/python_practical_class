{
 "cells": [
  {
   "cell_type": "code",
   "execution_count": 9,
   "id": "f5d5ded0",
   "metadata": {},
   "outputs": [
    {
     "name": "stdout",
     "output_type": "stream",
     "text": [
      "75000\n"
     ]
    }
   ],
   "source": [
    "class employee:\n",
    "    pass\n",
    "\n",
    "harry = employee()\n",
    "anurag = employee()\n",
    "\n",
    "harry.name = \"Harry\"\n",
    "harry.salary = 155000\n",
    "harry.l_name = \"khan\"\n",
    "\n",
    "\n",
    "anurag.name = \"Anurag\"\n",
    "anurag.l_name = \"Mundara\"\n",
    "anurag.salary = 75000\n",
    "\n",
    "\n",
    "\n",
    "print(anurag.salary)"
   ]
  },
  {
   "attachments": {},
   "cell_type": "markdown",
   "id": "38db7e46",
   "metadata": {},
   "source": [
    "# New class for student, and make their some properties;"
   ]
  },
  {
   "cell_type": "code",
   "execution_count": 10,
   "id": "2274492e",
   "metadata": {},
   "outputs": [],
   "source": [
    "class student:\n",
    "    pass\n",
    "\n",
    "abhi = student()\n",
    "shubham = student()\n",
    "manjit = student()\n"
   ]
  },
  {
   "cell_type": "code",
   "execution_count": 11,
   "id": "ed336ebc",
   "metadata": {},
   "outputs": [],
   "source": [
    "abhi.roll_num = 1160047\n",
    "abhi.bag_color = 'Red'\n",
    "abhi.parent = True\n",
    "abhi.live_in_hostel = True\n",
    "\n",
    "shubham.roll_num = 1160048\n",
    "shubham.bag_color ='Green'\n",
    "shubham.parent = False\n",
    "shubham.live_in_hostel = True\n",
    "\n",
    "manjit.roll_num = 1160049\n",
    "manjit.bag_color = 'pink'\n",
    "manjit.parent = True\n",
    "manjit.live_in_hostel = False\n"
   ]
  },
  {
   "cell_type": "code",
   "execution_count": 19,
   "id": "988ddfa2",
   "metadata": {},
   "outputs": [
    {
     "name": "stdout",
     "output_type": "stream",
     "text": [
      "True\n",
      "False\n",
      "<class 'str'>\n",
      "False\n"
     ]
    }
   ],
   "source": [
    "print(abhi.live_in_hostel)\n",
    "print(manjit.live_in_hostel)\n",
    "print(type(manjit.bag_color))\n",
    "print(shubham.parent)"
   ]
  }
 ],
 "metadata": {
  "kernelspec": {
   "display_name": "Python 3 (ipykernel)",
   "language": "python",
   "name": "python3"
  },
  "language_info": {
   "codemirror_mode": {
    "name": "ipython",
    "version": 3
   },
   "file_extension": ".py",
   "mimetype": "text/x-python",
   "name": "python",
   "nbconvert_exporter": "python",
   "pygments_lexer": "ipython3",
   "version": "3.10.10"
  }
 },
 "nbformat": 4,
 "nbformat_minor": 5
}
