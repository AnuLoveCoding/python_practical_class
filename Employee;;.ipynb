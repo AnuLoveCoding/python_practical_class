{
 "cells": [
  {
   "cell_type": "code",
   "execution_count": 11,
   "id": "f5d5ded0",
   "metadata": {},
   "outputs": [
    {
     "name": "stdout",
     "output_type": "stream",
     "text": [
      "75000\n"
     ]
    }
   ],
   "source": [
    "class employee:\n",
    "    pass\n",
    "\n",
    "harry = employee()\n",
    "anurag = employee()\n",
    "\n",
    "harry.name = \"Harry\"\n",
    "harry.salary = 155000\n",
    "harry.l_name = \"khan\"\n",
    "\n",
    "\n",
    "anurag.name = \"Anurag\"\n",
    "anurag.l_name = \"Mundara\"\n",
    "anurag.salary = 75000\n",
    "\n",
    "\n",
    "\n",
    "print(anurag.salary)"
   ]
  }
 ],
 "metadata": {
  "kernelspec": {
   "display_name": "Python 3 (ipykernel)",
   "language": "python",
   "name": "python3"
  },
  "language_info": {
   "codemirror_mode": {
    "name": "ipython",
    "version": 3
   },
   "file_extension": ".py",
   "mimetype": "text/x-python",
   "name": "python",
   "nbconvert_exporter": "python",
   "pygments_lexer": "ipython3",
   "version": "3.9.13"
  }
 },
 "nbformat": 4,
 "nbformat_minor": 5
}
