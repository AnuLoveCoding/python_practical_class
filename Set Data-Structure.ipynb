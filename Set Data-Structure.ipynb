{
 "cells": [
  {
   "cell_type": "markdown",
   "id": "49c9dde7",
   "metadata": {},
   "source": [
    "# Set Data-Structure:- 1. Uniques collextion\n",
    "# 2. unordered;\n",
    "# 3. unindexed;\n",
    "# 4. Mutable;"
   ]
  },
  {
   "cell_type": "code",
   "execution_count": 1,
   "id": "530e2487",
   "metadata": {},
   "outputs": [
    {
     "data": {
      "text/plain": [
       "dict"
      ]
     },
     "execution_count": 1,
     "metadata": {},
     "output_type": "execute_result"
    }
   ],
   "source": [
    "s = {}\n",
    "type(s)"
   ]
  },
  {
   "cell_type": "code",
   "execution_count": 2,
   "id": "581da9f3",
   "metadata": {},
   "outputs": [
    {
     "data": {
      "text/plain": [
       "set"
      ]
     },
     "execution_count": 2,
     "metadata": {},
     "output_type": "execute_result"
    }
   ],
   "source": [
    "s = set(s)\n",
    "type(s)"
   ]
  },
  {
   "cell_type": "code",
   "execution_count": 6,
   "id": "3471843d",
   "metadata": {},
   "outputs": [],
   "source": [
    "k = {1,2,2,3,1,4,5,6,4,5}"
   ]
  },
  {
   "cell_type": "code",
   "execution_count": 7,
   "id": "24ca5ca8",
   "metadata": {},
   "outputs": [
    {
     "name": "stdout",
     "output_type": "stream",
     "text": [
      "{1, 2, 3, 4, 5, 6}\n"
     ]
    }
   ],
   "source": [
    "# set is remove duplicate item's in set data structure.\n",
    "print(k)"
   ]
  },
  {
   "cell_type": "code",
   "execution_count": 10,
   "id": "fb777a6c",
   "metadata": {},
   "outputs": [
    {
     "name": "stdout",
     "output_type": "stream",
     "text": [
      "{'A', 1, 2, 3, 4, 5, 6, 'n', 'r', 'u', 'g', 'a'}\n"
     ]
    }
   ],
   "source": [
    "name = \"Anurag\"\n",
    "k.update(name)\n",
    "print(k)"
   ]
  },
  {
   "cell_type": "code",
   "execution_count": 11,
   "id": "0a0ff448",
   "metadata": {},
   "outputs": [
    {
     "data": {
      "text/plain": [
       "'A'"
      ]
     },
     "execution_count": 11,
     "metadata": {},
     "output_type": "execute_result"
    }
   ],
   "source": [
    "k.pop()"
   ]
  },
  {
   "cell_type": "code",
   "execution_count": 12,
   "id": "a58b1584",
   "metadata": {},
   "outputs": [
    {
     "name": "stdout",
     "output_type": "stream",
     "text": [
      "{1, 2, 3, 4, 5, 6, 'n', 'r', 'u', 'g', 'a'}\n"
     ]
    }
   ],
   "source": [
    "print(k)"
   ]
  },
  {
   "cell_type": "code",
   "execution_count": null,
   "id": "782068e8",
   "metadata": {},
   "outputs": [],
   "source": []
  },
  {
   "cell_type": "markdown",
   "id": "520835bb",
   "metadata": {},
   "source": [
    "# Intersection;"
   ]
  },
  {
   "cell_type": "code",
   "execution_count": 14,
   "id": "29f128a2",
   "metadata": {},
   "outputs": [],
   "source": [
    "python = {\"Iron-Man\",\"hulk\",\"spidy\",\"Anurag\"}\n",
    "java = {\"Iron-Man\",\"Moon\",\"Anurag\"}"
   ]
  },
  {
   "cell_type": "code",
   "execution_count": 15,
   "id": "77933f6c",
   "metadata": {},
   "outputs": [
    {
     "data": {
      "text/plain": [
       "{'Anurag', 'Iron-Man'}"
      ]
     },
     "execution_count": 15,
     "metadata": {},
     "output_type": "execute_result"
    }
   ],
   "source": [
    "python.intersection(java)"
   ]
  },
  {
   "cell_type": "code",
   "execution_count": 16,
   "id": "c50d50d6",
   "metadata": {},
   "outputs": [
    {
     "data": {
      "text/plain": [
       "{'Anurag', 'Iron-Man'}"
      ]
     },
     "execution_count": 16,
     "metadata": {},
     "output_type": "execute_result"
    }
   ],
   "source": [
    "java.intersection(python)"
   ]
  },
  {
   "cell_type": "markdown",
   "id": "656629c4",
   "metadata": {},
   "source": [
    "# Union"
   ]
  },
  {
   "cell_type": "code",
   "execution_count": 3,
   "id": "618e60c2",
   "metadata": {},
   "outputs": [],
   "source": [
    "python1 = {\"Anurag\",\"Samosa\",\"Cheery\"}\n",
    "java1 = {\"Anurag\",\"Cheery\",\"Kite\"}"
   ]
  },
  {
   "cell_type": "code",
   "execution_count": 4,
   "id": "cbfe2d2f",
   "metadata": {},
   "outputs": [
    {
     "data": {
      "text/plain": [
       "{'Anurag', 'Cheery', 'Kite', 'Samosa'}"
      ]
     },
     "execution_count": 4,
     "metadata": {},
     "output_type": "execute_result"
    }
   ],
   "source": [
    "python1.union(java1)"
   ]
  },
  {
   "cell_type": "code",
   "execution_count": 5,
   "id": "1c9f5bbf",
   "metadata": {},
   "outputs": [
    {
     "data": {
      "text/plain": [
       "{'Anurag', 'Cheery', 'Kite', 'Samosa'}"
      ]
     },
     "execution_count": 5,
     "metadata": {},
     "output_type": "execute_result"
    }
   ],
   "source": [
    "java1.union(python1)"
   ]
  },
  {
   "cell_type": "markdown",
   "id": "38e10c39",
   "metadata": {},
   "source": [
    "# Difference:-"
   ]
  },
  {
   "cell_type": "code",
   "execution_count": 6,
   "id": "4c7fa119",
   "metadata": {},
   "outputs": [
    {
     "data": {
      "text/plain": [
       "{'Samosa'}"
      ]
     },
     "execution_count": 6,
     "metadata": {},
     "output_type": "execute_result"
    }
   ],
   "source": [
    "python1.difference(java1)"
   ]
  },
  {
   "cell_type": "code",
   "execution_count": 7,
   "id": "3a55a88e",
   "metadata": {},
   "outputs": [
    {
     "data": {
      "text/plain": [
       "{'Kite'}"
      ]
     },
     "execution_count": 7,
     "metadata": {},
     "output_type": "execute_result"
    }
   ],
   "source": [
    "java1.difference(python1)"
   ]
  },
  {
   "cell_type": "code",
   "execution_count": 3,
   "id": "38fcc3e4",
   "metadata": {},
   "outputs": [],
   "source": [
    "sent = \"be the change you wish to see in the world\""
   ]
  },
  {
   "cell_type": "code",
   "execution_count": 4,
   "id": "914239a0",
   "metadata": {},
   "outputs": [
    {
     "name": "stdout",
     "output_type": "stream",
     "text": [
      "['be', 'the', 'change', 'you', 'wish', 'to', 'see', 'in', 'the', 'world']\n"
     ]
    }
   ],
   "source": [
    "lst = sent.split()\n",
    "print(lst)"
   ]
  },
  {
   "cell_type": "markdown",
   "id": "1515f0c9",
   "metadata": {},
   "source": [
    "# intersection method"
   ]
  },
  {
   "cell_type": "code",
   "execution_count": 4,
   "id": "96c9bbd4",
   "metadata": {},
   "outputs": [
    {
     "name": "stdout",
     "output_type": "stream",
     "text": [
      "{'Apple', 'cheery'}\n"
     ]
    }
   ],
   "source": [
    "j = {\"Apple\",\"gauva\",\"pine-apple\",\"cheery\"}\n",
    "l = {\"Apple\",\"grapes\",\"orange\",\"cheery\"}\n",
    "\n",
    "print(j.intersection(l))"
   ]
  },
  {
   "cell_type": "markdown",
   "id": "a4d40ad5",
   "metadata": {},
   "source": []
  },
  {
   "cell_type": "markdown",
   "id": "62e1b83c",
   "metadata": {},
   "source": [
    "# discard method"
   ]
  },
  {
   "cell_type": "code",
   "execution_count": 34,
   "id": "37a45a04",
   "metadata": {},
   "outputs": [
    {
     "data": {
      "text/plain": [
       "{'banana', 'mango', 'water-milion'}"
      ]
     },
     "execution_count": 34,
     "metadata": {},
     "output_type": "execute_result"
    }
   ],
   "source": [
    "fruits = {\"mango\",\"banana\",\"water-milion\"}\n",
    "fruits.discard(\"cherry\")\n",
    "fruits"
   ]
  },
  {
   "cell_type": "markdown",
   "id": "d1c1dc01",
   "metadata": {},
   "source": [
    "# disjoint method"
   ]
  },
  {
   "cell_type": "code",
   "execution_count": 17,
   "id": "68804632",
   "metadata": {},
   "outputs": [
    {
     "data": {
      "text/plain": [
       "False"
      ]
     },
     "execution_count": 17,
     "metadata": {},
     "output_type": "execute_result"
    }
   ],
   "source": [
    "b = {\"ktm\",\"royal-enfield\",\"duke\",\"splender\"}\n",
    "c = {\"mango\",\"banana\",\"ktm\"}\n",
    "d = b.isdisjoint(c)\n",
    "d"
   ]
  },
  {
   "cell_type": "markdown",
   "id": "179bcbd0",
   "metadata": {},
   "source": [
    "# subset"
   ]
  },
  {
   "cell_type": "code",
   "execution_count": 1,
   "id": "3c3005a2",
   "metadata": {},
   "outputs": [
    {
     "data": {
      "text/plain": [
       "False"
      ]
     },
     "execution_count": 1,
     "metadata": {},
     "output_type": "execute_result"
    }
   ],
   "source": [
    "x = {\"m\",\"n\",\"o\"}\n",
    "y = {\"p\",\"q\",\"r\",\"s\",\"m\",\"n\",}\n",
    "z =  x.issubset(y)\n",
    "z"
   ]
  },
  {
   "cell_type": "markdown",
   "id": "6894d3f4",
   "metadata": {},
   "source": [
    "# symmetric_deffernce method;"
   ]
  },
  {
   "cell_type": "code",
   "execution_count": 33,
   "id": "ea4c0fdb",
   "metadata": {},
   "outputs": [
    {
     "name": "stdout",
     "output_type": "stream",
     "text": [
      "{'Adobe', 'blachook', 'google', 'ktm'}\n"
     ]
    }
   ],
   "source": [
    "k = {\"apple\",\"ktm\",\"microsoft\",\"google\"}\n",
    "k1  = {\"Adobe\",\"blachook\",\"apple\",\"microsoft\"}\n",
    " \n",
    "z = k.symmetric_difference(k1)\n",
    "print(z)"
   ]
  }
 ],
 "metadata": {
  "kernelspec": {
   "display_name": "Python 3 (ipykernel)",
   "language": "python",
   "name": "python3"
  },
  "language_info": {
   "codemirror_mode": {
    "name": "ipython",
    "version": 3
   },
   "file_extension": ".py",
   "mimetype": "text/x-python",
   "name": "python",
   "nbconvert_exporter": "python",
   "pygments_lexer": "ipython3",
   "version": "3.10.10"
  }
 },
 "nbformat": 4,
 "nbformat_minor": 5
}
