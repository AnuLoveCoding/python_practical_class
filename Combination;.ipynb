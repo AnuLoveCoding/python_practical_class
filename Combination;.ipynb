{
 "cells": [
  {
   "cell_type": "code",
   "execution_count": 6,
   "id": "6514e65c",
   "metadata": {},
   "outputs": [],
   "source": [
    "v = [1,2,3]"
   ]
  },
  {
   "cell_type": "code",
   "execution_count": 7,
   "id": "3353fbe6",
   "metadata": {},
   "outputs": [
    {
     "name": "stdout",
     "output_type": "stream",
     "text": [
      "1 1 1\n",
      "1 1 2\n",
      "1 1 3\n",
      "1 2 1\n",
      "1 2 2\n",
      "1 2 3\n",
      "1 3 1\n",
      "1 3 2\n",
      "1 3 3\n",
      "2 1 1\n",
      "2 1 2\n",
      "2 1 3\n",
      "2 2 1\n",
      "2 2 2\n",
      "2 2 3\n",
      "2 3 1\n",
      "2 3 2\n",
      "2 3 3\n",
      "3 1 1\n",
      "3 1 2\n",
      "3 1 3\n",
      "3 2 1\n",
      "3 2 2\n",
      "3 2 3\n",
      "3 3 1\n",
      "3 3 2\n",
      "3 3 3\n"
     ]
    }
   ],
   "source": [
    "for i in range((len(v))):\n",
    "    for j in range(len(v)):\n",
    "        for k in range(len(v)):\n",
    "            if(i != j, j != k, k != i):\n",
    "                print(v[i],v[j],v[k])"
   ]
  },
  {
   "cell_type": "code",
   "execution_count": null,
   "id": "010b8e52",
   "metadata": {},
   "outputs": [],
   "source": []
  },
  {
   "cell_type": "code",
   "execution_count": 8,
   "id": "0e512b8e",
   "metadata": {},
   "outputs": [
    {
     "name": "stdout",
     "output_type": "stream",
     "text": [
      "Anurag\n"
     ]
    }
   ],
   "source": [
    "print(\"Anurag\")"
   ]
  },
  {
   "cell_type": "code",
   "execution_count": 31,
   "id": "dab4fdb3",
   "metadata": {},
   "outputs": [],
   "source": [
    "l = [125,2,5,4,7,8,9,44,5,1]"
   ]
  },
  {
   "cell_type": "code",
   "execution_count": 32,
   "id": "cff439ec",
   "metadata": {},
   "outputs": [],
   "source": [
    "k = l[0]"
   ]
  },
  {
   "cell_type": "code",
   "execution_count": 36,
   "id": "41aaeb46",
   "metadata": {},
   "outputs": [],
   "source": [
    "for i in l:\n",
    "    if (i % 2) == 0:\n",
    "        k = i"
   ]
  },
  {
   "cell_type": "code",
   "execution_count": 34,
   "id": "e0f5818e",
   "metadata": {},
   "outputs": [
    {
     "name": "stdout",
     "output_type": "stream",
     "text": [
      "44\n"
     ]
    }
   ],
   "source": [
    "print(k)"
   ]
  },
  {
   "cell_type": "code",
   "execution_count": null,
   "id": "7bf7de47",
   "metadata": {},
   "outputs": [],
   "source": []
  },
  {
   "cell_type": "code",
   "execution_count": null,
   "id": "99200672",
   "metadata": {},
   "outputs": [],
   "source": []
  }
 ],
 "metadata": {
  "kernelspec": {
   "display_name": "Python 3 (ipykernel)",
   "language": "python",
   "name": "python3"
  },
  "language_info": {
   "codemirror_mode": {
    "name": "ipython",
    "version": 3
   },
   "file_extension": ".py",
   "mimetype": "text/x-python",
   "name": "python",
   "nbconvert_exporter": "python",
   "pygments_lexer": "ipython3",
   "version": "3.9.13"
  }
 },
 "nbformat": 4,
 "nbformat_minor": 5
}
