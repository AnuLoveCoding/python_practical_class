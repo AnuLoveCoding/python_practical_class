{
 "cells": [
  {
   "cell_type": "code",
   "execution_count": 161,
   "id": "ae927df9",
   "metadata": {},
   "outputs": [],
   "source": [
    "from functools import reduce"
   ]
  },
  {
   "cell_type": "code",
   "execution_count": 20,
   "id": "3d7baced",
   "metadata": {},
   "outputs": [],
   "source": [
    "# 1. Write a Python function to find the Max of three numbers.\n",
    "def max_three(a, b, c):\n",
    "    if a > b and a > c:\n",
    "        return a\n",
    "    elif b > c and b > a:\n",
    "        return b\n",
    "    else:\n",
    "        return c"
   ]
  },
  {
   "cell_type": "code",
   "execution_count": 22,
   "id": "d0e5be2a",
   "metadata": {},
   "outputs": [
    {
     "name": "stdout",
     "output_type": "stream",
     "text": [
      "77\n"
     ]
    }
   ],
   "source": [
    "print(max_three(55,66,77))"
   ]
  },
  {
   "cell_type": "code",
   "execution_count": 57,
   "id": "e0e93ae2",
   "metadata": {},
   "outputs": [
    {
     "name": "stdout",
     "output_type": "stream",
     "text": [
      "98\n"
     ]
    }
   ],
   "source": [
    "print(max_three(88,40,98))"
   ]
  },
  {
   "cell_type": "code",
   "execution_count": 108,
   "id": "3ee3c8f7",
   "metadata": {},
   "outputs": [],
   "source": [
    "op = [45,67,88,84,89,55,107,880]"
   ]
  },
  {
   "cell_type": "code",
   "execution_count": 109,
   "id": "901ff129",
   "metadata": {},
   "outputs": [],
   "source": [
    "def maxofthree(op):\n",
    "    d = 0\n",
    "    \n",
    "    for i in op:\n",
    "        if i > d:\n",
    "            d = i  "
   ]
  },
  {
   "cell_type": "code",
   "execution_count": 110,
   "id": "3f5e425f",
   "metadata": {},
   "outputs": [
    {
     "name": "stdout",
     "output_type": "stream",
     "text": [
      "880\n"
     ]
    }
   ],
   "source": [
    "maxofthree(op)\n",
    "print(d)"
   ]
  },
  {
   "cell_type": "code",
   "execution_count": 52,
   "id": "da223020",
   "metadata": {},
   "outputs": [],
   "source": [
    "# 2. Write a Python function to sum all the numbers in a list."
   ]
  },
  {
   "cell_type": "code",
   "execution_count": 59,
   "id": "4935cc23",
   "metadata": {},
   "outputs": [],
   "source": [
    "ll = [45, 78, 5, 66, 77, 10]"
   ]
  },
  {
   "cell_type": "code",
   "execution_count": 60,
   "id": "e92c961a",
   "metadata": {},
   "outputs": [],
   "source": [
    "k = 0\n",
    "\n",
    "for i in ll:\n",
    "    k += i"
   ]
  },
  {
   "cell_type": "code",
   "execution_count": 63,
   "id": "fd0e66b1",
   "metadata": {},
   "outputs": [
    {
     "name": "stdout",
     "output_type": "stream",
     "text": [
      "281\n",
      "<class 'int'>\n"
     ]
    }
   ],
   "source": [
    "print(k)"
   ]
  },
  {
   "cell_type": "code",
   "execution_count": 168,
   "id": "05baca0d",
   "metadata": {},
   "outputs": [],
   "source": [
    "summ = reduce(lambda a, b : (a + b), [45, 78, 5, 66, 77, 10] )"
   ]
  },
  {
   "cell_type": "code",
   "execution_count": 173,
   "id": "14e2b4c2",
   "metadata": {},
   "outputs": [
    {
     "name": "stdout",
     "output_type": "stream",
     "text": [
      "<built-in function sum>\n"
     ]
    }
   ],
   "source": [
    "print(summ)"
   ]
  },
  {
   "cell_type": "code",
   "execution_count": null,
   "id": "c44fdc70",
   "metadata": {},
   "outputs": [],
   "source": [
    "# 3. Write a Python function to multiply all the numbers in a list."
   ]
  },
  {
   "cell_type": "code",
   "execution_count": 160,
   "id": "33d9ec13",
   "metadata": {},
   "outputs": [],
   "source": [
    "kw = reduce(lambda a,b : a * b ,[12,11,16])"
   ]
  },
  {
   "cell_type": "code",
   "execution_count": 174,
   "id": "11b8a24b",
   "metadata": {},
   "outputs": [
    {
     "name": "stdout",
     "output_type": "stream",
     "text": [
      "2112\n"
     ]
    }
   ],
   "source": [
    "print(kw)"
   ]
  },
  {
   "cell_type": "code",
   "execution_count": null,
   "id": "fdcd3ddc",
   "metadata": {},
   "outputs": [],
   "source": [
    "# 4. Write a Python program to reverse a string."
   ]
  },
  {
   "cell_type": "code",
   "execution_count": 177,
   "id": "6d2757d6",
   "metadata": {},
   "outputs": [],
   "source": [
    "def reverse(k):\n",
    "    print(k[::-1])"
   ]
  },
  {
   "cell_type": "code",
   "execution_count": 178,
   "id": "5b73750c",
   "metadata": {},
   "outputs": [
    {
     "name": "stdout",
     "output_type": "stream",
     "text": [
      "garunA\n"
     ]
    }
   ],
   "source": [
    "reverse(\"Anurag\")"
   ]
  },
  {
   "cell_type": "code",
   "execution_count": 179,
   "id": "91f8630e",
   "metadata": {},
   "outputs": [
    {
     "name": "stdout",
     "output_type": "stream",
     "text": [
      "rikkaj\n"
     ]
    }
   ],
   "source": [
    "reverse(\"jakkir\")"
   ]
  },
  {
   "cell_type": "code",
   "execution_count": 139,
   "id": "c8b13e91",
   "metadata": {},
   "outputs": [],
   "source": [
    "ll = (lambda k : (k[::-1]),\"Taj-mahal\")"
   ]
  },
  {
   "cell_type": "code",
   "execution_count": 141,
   "id": "552ed72c",
   "metadata": {},
   "outputs": [
    {
     "name": "stdout",
     "output_type": "stream",
     "text": [
      "(<function <lambda> at 0x0000021C1F3AB9D0>, 'Taj-mahal')\n"
     ]
    }
   ],
   "source": [
    "print(ll)"
   ]
  },
  {
   "cell_type": "code",
   "execution_count": null,
   "id": "2157145a",
   "metadata": {},
   "outputs": [],
   "source": [
    "# 5. Write a Python function to calculate the factorial of a number (a non-negative integer).\n",
    "# The function accepts the number as an argument."
   ]
  },
  {
   "cell_type": "code",
   "execution_count": 196,
   "id": "d5940164",
   "metadata": {},
   "outputs": [],
   "source": [
    "lm = reduce(lambda a,b : a * b,(range(1,7)))"
   ]
  },
  {
   "cell_type": "code",
   "execution_count": 197,
   "id": "23effde3",
   "metadata": {},
   "outputs": [
    {
     "name": "stdout",
     "output_type": "stream",
     "text": [
      "720\n"
     ]
    }
   ],
   "source": [
    "print(lm)"
   ]
  },
  {
   "cell_type": "code",
   "execution_count": null,
   "id": "cb132ac4",
   "metadata": {},
   "outputs": [],
   "source": [
    "# 9. Write a Python function that takes a number as a parameter and check the number is prime or not."
   ]
  },
  {
   "cell_type": "code",
   "execution_count": 65,
   "id": "0bbf9ac0",
   "metadata": {},
   "outputs": [],
   "source": [
    "def prime(num):\n",
    "    count = 0\n",
    "    for i in range(1, num + 1):\n",
    "        if (num % i) == 0:\n",
    "            count += 1\n",
    "            \n",
    "    if(count == 2):\n",
    "        print(f\"This is a prime number : {num}\")\n",
    "    elif(count == 1):\n",
    "        print(f\"This is co-prime number : {num}\")\n",
    "    else:\n",
    "        print(f\"This is not prime number : {num}\")\n",
    "            "
   ]
  },
  {
   "cell_type": "code",
   "execution_count": 51,
   "id": "810c1824",
   "metadata": {},
   "outputs": [
    {
     "name": "stdout",
     "output_type": "stream",
     "text": [
      "This is a prime number : 5\n"
     ]
    }
   ],
   "source": [
    "prime(5)"
   ]
  },
  {
   "cell_type": "code",
   "execution_count": 64,
   "id": "fd286e75",
   "metadata": {},
   "outputs": [
    {
     "name": "stdout",
     "output_type": "stream",
     "text": [
      "This is not prime number : 44\n"
     ]
    }
   ],
   "source": [
    "prime(44)"
   ]
  },
  {
   "cell_type": "code",
   "execution_count": 66,
   "id": "fcf793c3",
   "metadata": {},
   "outputs": [
    {
     "name": "stdout",
     "output_type": "stream",
     "text": [
      "This is co-prime number : 1\n"
     ]
    }
   ],
   "source": [
    "prime(1)"
   ]
  },
  {
   "cell_type": "code",
   "execution_count": null,
   "id": "2734e530",
   "metadata": {},
   "outputs": [],
   "source": [
    "# 11. Write a Python function to check whether a number is perfect or not."
   ]
  },
  {
   "cell_type": "code",
   "execution_count": 63,
   "id": "cd8fe10a",
   "metadata": {},
   "outputs": [
    {
     "name": "stdout",
     "output_type": "stream",
     "text": [
      "This is not the perfect_number : 8\n"
     ]
    }
   ],
   "source": [
    "num = 8\n",
    "add = 0\n",
    "\n",
    "for i in range(1, num):\n",
    "    if (num % i) == 0:\n",
    "        add += i\n",
    "    \n",
    "    \n",
    "if add == num:\n",
    "    print(f\"This is perfect_number : {num}\")\n",
    "else:\n",
    "    print(f\"This is not the perfect_number : {num}\")"
   ]
  },
  {
   "cell_type": "code",
   "execution_count": 58,
   "id": "94feb504",
   "metadata": {},
   "outputs": [],
   "source": [
    "def perfect_number(num):\n",
    "    add = 0\n",
    "    for i in range(1, num):\n",
    "        if(num % i) == 0:\n",
    "            add += i\n",
    "            \n",
    "    if num == add:\n",
    "        print(f\"This is perfect_number : {num}\")\n",
    "    else:\n",
    "        print(f\"This is not perfect_number : {num}\")"
   ]
  },
  {
   "cell_type": "code",
   "execution_count": 62,
   "id": "6ed38bc7",
   "metadata": {},
   "outputs": [
    {
     "name": "stdout",
     "output_type": "stream",
     "text": [
      "This is not perfect_number : 8\n"
     ]
    }
   ],
   "source": [
    "perfect_number(8)"
   ]
  },
  {
   "cell_type": "code",
   "execution_count": null,
   "id": "0be69fc2",
   "metadata": {},
   "outputs": [],
   "source": [
    "# 12. Write a Python function that checks whether a passed string is palindrome or not. "
   ]
  },
  {
   "cell_type": "code",
   "execution_count": 122,
   "id": "1999d474",
   "metadata": {},
   "outputs": [],
   "source": [
    "x = \"Anurag\""
   ]
  },
  {
   "cell_type": "code",
   "execution_count": 130,
   "id": "103baacf",
   "metadata": {},
   "outputs": [
    {
     "name": "stdout",
     "output_type": "stream",
     "text": [
      "Anurag This is not palindrome \n"
     ]
    }
   ],
   "source": [
    " if x == x[::-1]:\n",
    "        print(x,\"This is palindrome\")\n",
    "else:\n",
    "        print(x,\"This is not palindrome \")"
   ]
  },
  {
   "cell_type": "code",
   "execution_count": 131,
   "id": "8cc44e90",
   "metadata": {},
   "outputs": [],
   "source": [
    "def palindrome(name):\n",
    "    if name == name[::-1]:\n",
    "        print(f\"This is palindorme : {name}\")\n",
    "    else:\n",
    "        print(f\"This is not palindrome : {name}\")"
   ]
  },
  {
   "cell_type": "code",
   "execution_count": 132,
   "id": "1563ce06",
   "metadata": {},
   "outputs": [
    {
     "name": "stdout",
     "output_type": "stream",
     "text": [
      "This is palindorme : RRR\n"
     ]
    }
   ],
   "source": [
    "palindrome(\"RRR\")"
   ]
  },
  {
   "cell_type": "code",
   "execution_count": 95,
   "id": "c48119b4",
   "metadata": {},
   "outputs": [
    {
     "name": "stdout",
     "output_type": "stream",
     "text": [
      "[]\n"
     ]
    }
   ],
   "source": []
  },
  {
   "cell_type": "code",
   "execution_count": null,
   "id": "949fd1b6",
   "metadata": {},
   "outputs": [],
   "source": []
  },
  {
   "cell_type": "code",
   "execution_count": null,
   "id": "5c6e26d1",
   "metadata": {},
   "outputs": [],
   "source": []
  },
  {
   "cell_type": "code",
   "execution_count": null,
   "id": "33ec8f11",
   "metadata": {},
   "outputs": [],
   "source": []
  }
 ],
 "metadata": {
  "kernelspec": {
   "display_name": "Python 3 (ipykernel)",
   "language": "python",
   "name": "python3"
  },
  "language_info": {
   "codemirror_mode": {
    "name": "ipython",
    "version": 3
   },
   "file_extension": ".py",
   "mimetype": "text/x-python",
   "name": "python",
   "nbconvert_exporter": "python",
   "pygments_lexer": "ipython3",
   "version": "3.9.13"
  }
 },
 "nbformat": 4,
 "nbformat_minor": 5
}
