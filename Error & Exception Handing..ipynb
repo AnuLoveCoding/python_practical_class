{
 "cells": [
  {
   "cell_type": "code",
   "execution_count": null,
   "id": "518730ec",
   "metadata": {},
   "outputs": [],
   "source": [
    "# Except Block:\n",
    "\n",
    "# you can tell the kind of error using Exception."
   ]
  },
  {
   "cell_type": "code",
   "execution_count": 5,
   "id": "5e5180da",
   "metadata": {},
   "outputs": [
    {
     "name": "stdout",
     "output_type": "stream",
     "text": [
      "error...\n",
      "Anurag\n"
     ]
    }
   ],
   "source": [
    "a = 10\n",
    "b = 0\n",
    "try:\n",
    "    print(a / b)\n",
    "except:\n",
    "    print(\"error...\")\n",
    "\n",
    "    \n",
    "    \n",
    "print(\"Anurag\")"
   ]
  },
  {
   "cell_type": "code",
   "execution_count": null,
   "id": "60fa4931",
   "metadata": {},
   "outputs": [],
   "source": []
  },
  {
   "cell_type": "code",
   "execution_count": null,
   "id": "7b98f60d",
   "metadata": {},
   "outputs": [],
   "source": [
    "# Finally:-\n",
    "# This block will be excuted in any case.\n",
    "# It is helpful when you want to de-allocate resources.\n",
    "# Like challenge a file, of do connection."
   ]
  },
  {
   "cell_type": "code",
   "execution_count": null,
   "id": "ff1d598e",
   "metadata": {},
   "outputs": [],
   "source": []
  },
  {
   "cell_type": "code",
   "execution_count": null,
   "id": "74e5351d",
   "metadata": {},
   "outputs": [],
   "source": []
  },
  {
   "cell_type": "code",
   "execution_count": null,
   "id": "c0cf85bf",
   "metadata": {},
   "outputs": [],
   "source": []
  },
  {
   "cell_type": "code",
   "execution_count": null,
   "id": "4f384fa8",
   "metadata": {},
   "outputs": [],
   "source": []
  }
 ],
 "metadata": {
  "kernelspec": {
   "display_name": "Python 3 (ipykernel)",
   "language": "python",
   "name": "python3"
  },
  "language_info": {
   "codemirror_mode": {
    "name": "ipython",
    "version": 3
   },
   "file_extension": ".py",
   "mimetype": "text/x-python",
   "name": "python",
   "nbconvert_exporter": "python",
   "pygments_lexer": "ipython3",
   "version": "3.9.13"
  }
 },
 "nbformat": 4,
 "nbformat_minor": 5
}
