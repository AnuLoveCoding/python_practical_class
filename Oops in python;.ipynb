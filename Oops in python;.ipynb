{
 "cells": [
  {
   "cell_type": "markdown",
   "id": "599c23d6",
   "metadata": {},
   "source": [
    "# Creating class :- it's blueprint to create object;\n",
    "# 2 - the class keyword to use create class\n",
    "# 3 - by general convention we start name capiotal letter;\n",
    "# 4 - example float, String, int;"
   ]
  },
  {
   "cell_type": "markdown",
   "id": "c2bf39dc",
   "metadata": {},
   "source": [
    "# Define a car class:-"
   ]
  },
  {
   "cell_type": "code",
   "execution_count": 2,
   "id": "41659234",
   "metadata": {},
   "outputs": [],
   "source": [
    "class car:\n",
    "    pass "
   ]
  },
  {
   "cell_type": "code",
   "execution_count": 3,
   "id": "d1bf9df0",
   "metadata": {},
   "outputs": [],
   "source": [
    "mercedes = car()"
   ]
  },
  {
   "cell_type": "code",
   "execution_count": 5,
   "id": "164656e9",
   "metadata": {
    "scrolled": true
   },
   "outputs": [
    {
     "name": "stdout",
     "output_type": "stream",
     "text": [
      "<class '__main__.car'>\n"
     ]
    }
   ],
   "source": [
    "print(type(mercedes))"
   ]
  },
  {
   "cell_type": "markdown",
   "id": "46a650a6",
   "metadata": {},
   "source": [
    "# Define constructor:- constructor is a special method to use create and  intialize to object in class.\n",
    "\n",
    "# 1 :- A method is defined in the class.\n",
    "\n",
    "# 2 :- the constructor is executed automatically at the time of object in class;\n"
   ]
  },
  {
   "cell_type": "code",
   "execution_count": 47,
   "id": "6e3d8bdd",
   "metadata": {},
   "outputs": [],
   "source": [
    "class Human:\n",
    "    \n",
    "    # I want some properties in human class;\n",
    "    # dunder;\n",
    "\n",
    "    def __init__(self, name, age, hobbies):\n",
    "        self.name = name\n",
    "        self.age = age\n",
    "        self.hobbies = hobbies"
   ]
  },
  {
   "cell_type": "code",
   "execution_count": 67,
   "id": "edf2ebba",
   "metadata": {},
   "outputs": [],
   "source": [
    "anurag = Human(\"Anurag\",22,\"playing chess\")"
   ]
  },
  {
   "cell_type": "code",
   "execution_count": 60,
   "id": "052a5878",
   "metadata": {},
   "outputs": [
    {
     "name": "stdout",
     "output_type": "stream",
     "text": [
      "<__main__.Human object at 0x00000181BBF12AF0>\n"
     ]
    }
   ],
   "source": [
    "print(anurag)"
   ]
  },
  {
   "cell_type": "code",
   "execution_count": 59,
   "id": "c23e8704",
   "metadata": {},
   "outputs": [
    {
     "name": "stdout",
     "output_type": "stream",
     "text": [
      "<class '__main__.Human'>\n"
     ]
    }
   ],
   "source": [
    "print(type(anurag))"
   ]
  },
  {
   "cell_type": "code",
   "execution_count": 52,
   "id": "c965bb95",
   "metadata": {},
   "outputs": [],
   "source": [
    "ansh = Human(\"Ansh\", 22, \"playing goddies\")"
   ]
  },
  {
   "cell_type": "code",
   "execution_count": 61,
   "id": "c723c111",
   "metadata": {},
   "outputs": [
    {
     "name": "stdout",
     "output_type": "stream",
     "text": [
      "<__main__.Human object at 0x00000181BBF12610>\n"
     ]
    }
   ],
   "source": [
    "print(ansh)"
   ]
  },
  {
   "cell_type": "code",
   "execution_count": 62,
   "id": "c62ee81e",
   "metadata": {},
   "outputs": [
    {
     "name": "stdout",
     "output_type": "stream",
     "text": [
      "<class '__main__.Human'>\n"
     ]
    }
   ],
   "source": [
    "print(type(ansh))"
   ]
  },
  {
   "cell_type": "code",
   "execution_count": 63,
   "id": "8c518d5f",
   "metadata": {},
   "outputs": [],
   "source": [
    "khushi = Human(\"khushi\", 18, \"Travelling\")"
   ]
  },
  {
   "cell_type": "code",
   "execution_count": 65,
   "id": "3e8c9694",
   "metadata": {},
   "outputs": [
    {
     "name": "stdout",
     "output_type": "stream",
     "text": [
      "<__main__.Human object at 0x00000181BBF12A60>\n",
      "<class '__main__.Human'>\n"
     ]
    }
   ],
   "source": [
    "print(khushi)\n",
    "print(type(khushi))"
   ]
  },
  {
   "cell_type": "code",
   "execution_count": 68,
   "id": "1f610eca",
   "metadata": {},
   "outputs": [
    {
     "name": "stdout",
     "output_type": "stream",
     "text": [
      "22\n",
      "Anurag\n",
      "playing chess\n"
     ]
    }
   ],
   "source": [
    "print(anurag.age)\n",
    "print(anurag.name)\n",
    "print(anurag.hobbies)"
   ]
  },
  {
   "cell_type": "code",
   "execution_count": 69,
   "id": "5771fee6",
   "metadata": {
    "scrolled": true
   },
   "outputs": [
    {
     "name": "stdout",
     "output_type": "stream",
     "text": [
      "khushi\n",
      "18\n",
      "Travelling\n"
     ]
    }
   ],
   "source": [
    "print(khushi.name)\n",
    "print(khushi.age)\n",
    "print(khushi.hobbies)"
   ]
  },
  {
   "cell_type": "markdown",
   "id": "19dc7b2d",
   "metadata": {},
   "source": [
    "# Methods :- Apart of special methods you can make your custome methods;\n",
    "# Example :- Human can speak, greet, etc;"
   ]
  },
  {
   "cell_type": "code",
   "execution_count": null,
   "id": "aa5e2c40",
   "metadata": {},
   "outputs": [],
   "source": []
  },
  {
   "cell_type": "code",
   "execution_count": null,
   "id": "4297ba21",
   "metadata": {},
   "outputs": [],
   "source": []
  }
 ],
 "metadata": {
  "kernelspec": {
   "display_name": "Python 3 (ipykernel)",
   "language": "python",
   "name": "python3"
  },
  "language_info": {
   "codemirror_mode": {
    "name": "ipython",
    "version": 3
   },
   "file_extension": ".py",
   "mimetype": "text/x-python",
   "name": "python",
   "nbconvert_exporter": "python",
   "pygments_lexer": "ipython3",
   "version": "3.9.13"
  }
 },
 "nbformat": 4,
 "nbformat_minor": 5
}
