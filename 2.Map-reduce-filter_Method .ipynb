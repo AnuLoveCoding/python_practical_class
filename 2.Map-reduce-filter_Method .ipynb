{
 "cells": [
  {
   "cell_type": "code",
   "execution_count": 1,
   "id": "20240c8b",
   "metadata": {},
   "outputs": [],
   "source": [
    "from functools import reduce"
   ]
  },
  {
   "cell_type": "code",
   "execution_count": 2,
   "id": "55f9a11a",
   "metadata": {},
   "outputs": [],
   "source": [
    "number = (1,2,3,4,5,6,6,3)"
   ]
  },
  {
   "cell_type": "code",
   "execution_count": 3,
   "id": "8e698631",
   "metadata": {},
   "outputs": [],
   "source": [
    "ans = map(lambda a : a * a, number)"
   ]
  },
  {
   "cell_type": "code",
   "execution_count": 4,
   "id": "94b9dd6d",
   "metadata": {},
   "outputs": [
    {
     "name": "stdout",
     "output_type": "stream",
     "text": [
      "[1, 4, 9, 16, 25, 36, 36, 9]\n"
     ]
    }
   ],
   "source": [
    "print(list(ans))"
   ]
  },
  {
   "cell_type": "code",
   "execution_count": 5,
   "id": "c3070eb8",
   "metadata": {},
   "outputs": [],
   "source": [
    "num1 = [2,3]"
   ]
  },
  {
   "cell_type": "code",
   "execution_count": 6,
   "id": "ee3de608",
   "metadata": {},
   "outputs": [],
   "source": [
    "def sum1(num1):\n",
    "    return num1[0] + num1[1]  "
   ]
  },
  {
   "cell_type": "code",
   "execution_count": 7,
   "id": "1781dbc4",
   "metadata": {},
   "outputs": [],
   "source": [
    "anss = [[2,3],[3,4],[4,5]]"
   ]
  },
  {
   "cell_type": "code",
   "execution_count": 8,
   "id": "95c7f6fc",
   "metadata": {},
   "outputs": [
    {
     "name": "stdout",
     "output_type": "stream",
     "text": [
      "[5, 7, 9]\n"
     ]
    }
   ],
   "source": [
    " print(list(map(sum1,anss)))"
   ]
  },
  {
   "cell_type": "code",
   "execution_count": 9,
   "id": "e4e89b2f",
   "metadata": {},
   "outputs": [],
   "source": [
    "name = ['Anurag','pilkit','ranjan5555555','manjit']"
   ]
  },
  {
   "cell_type": "code",
   "execution_count": 10,
   "id": "30ca3d3c",
   "metadata": {},
   "outputs": [],
   "source": [
    "def greet(name):\n",
    "    return \"Hii welcome your in Netflix \" + name"
   ]
  },
  {
   "cell_type": "code",
   "execution_count": 11,
   "id": "3b053a71",
   "metadata": {},
   "outputs": [],
   "source": [
    "ans1 = map(greet,name)"
   ]
  },
  {
   "cell_type": "code",
   "execution_count": 12,
   "id": "78632aca",
   "metadata": {},
   "outputs": [
    {
     "name": "stdout",
     "output_type": "stream",
     "text": [
      "('Hii welcome your in Netflix Anurag', 'Hii welcome your in Netflix pilkit', 'Hii welcome your in Netflix ranjan5555555', 'Hii welcome your in Netflix manjit') "
     ]
    }
   ],
   "source": [
    "ans2 = tuple(ans1)\n",
    "print(ans2, end = \" \")"
   ]
  },
  {
   "cell_type": "code",
   "execution_count": 13,
   "id": "ed7e50f8",
   "metadata": {},
   "outputs": [],
   "source": [
    "ans3 = map(lambda name : 'Hi welcome you in Netflix ' + name, name)"
   ]
  },
  {
   "cell_type": "code",
   "execution_count": 14,
   "id": "3e7c0d7a",
   "metadata": {},
   "outputs": [
    {
     "name": "stdout",
     "output_type": "stream",
     "text": [
      "('Hi welcome you in Netflix Anurag', 'Hi welcome you in Netflix pilkit', 'Hi welcome you in Netflix ranjan5555555', 'Hi welcome you in Netflix manjit')\n"
     ]
    }
   ],
   "source": [
    "ans4 = tuple(ans3)\n",
    "print(ans4)"
   ]
  },
  {
   "cell_type": "code",
   "execution_count": 15,
   "id": "899f05d8",
   "metadata": {},
   "outputs": [],
   "source": [
    "def length(name):\n",
    "    return len(name)"
   ]
  },
  {
   "cell_type": "code",
   "execution_count": 16,
   "id": "e3e8ca44",
   "metadata": {},
   "outputs": [
    {
     "data": {
      "text/plain": [
       "6"
      ]
     },
     "execution_count": 16,
     "metadata": {},
     "output_type": "execute_result"
    }
   ],
   "source": [
    "length('anurag')"
   ]
  },
  {
   "cell_type": "code",
   "execution_count": 17,
   "id": "33bf99a5",
   "metadata": {},
   "outputs": [
    {
     "name": "stdout",
     "output_type": "stream",
     "text": [
      "(6, 6, 13, 6)\n"
     ]
    }
   ],
   "source": [
    "ans5 = map(length,name)\n",
    "ans6 = tuple(ans5)\n",
    "print(ans6)"
   ]
  },
  {
   "cell_type": "code",
   "execution_count": 18,
   "id": "4acf3e58",
   "metadata": {},
   "outputs": [
    {
     "name": "stdout",
     "output_type": "stream",
     "text": [
      "(6, 6, 13, 6)\n"
     ]
    }
   ],
   "source": [
    "print(tuple(map(lambda name : len(name), name)))"
   ]
  },
  {
   "cell_type": "code",
   "execution_count": 19,
   "id": "a5886844",
   "metadata": {},
   "outputs": [
    {
     "name": "stdout",
     "output_type": "stream",
     "text": [
      "[36, 49]\n"
     ]
    }
   ],
   "source": [
    "print(list(map(lambda a: a[0] * a[1] , [(6,6),(7,7)])))"
   ]
  },
  {
   "cell_type": "code",
   "execution_count": 20,
   "id": "5db5d02f",
   "metadata": {},
   "outputs": [],
   "source": [
    "# Reduce;"
   ]
  },
  {
   "cell_type": "code",
   "execution_count": 21,
   "id": "f26de2aa",
   "metadata": {},
   "outputs": [
    {
     "data": {
      "text/plain": [
       "48"
      ]
     },
     "execution_count": 21,
     "metadata": {},
     "output_type": "execute_result"
    }
   ],
   "source": [
    "reduce(lambda a,b : a + b,(4,5,6,7,8,9,4,5))"
   ]
  },
  {
   "cell_type": "code",
   "execution_count": 22,
   "id": "17547175",
   "metadata": {},
   "outputs": [
    {
     "data": {
      "text/plain": [
       "1209600"
      ]
     },
     "execution_count": 22,
     "metadata": {},
     "output_type": "execute_result"
    }
   ],
   "source": [
    "reduce(lambda a,b : a * b,[4,5,6,7,8,9,4,5])"
   ]
  },
  {
   "cell_type": "code",
   "execution_count": 23,
   "id": "c892351d",
   "metadata": {},
   "outputs": [],
   "source": [
    "# filter\n"
   ]
  },
  {
   "cell_type": "code",
   "execution_count": 24,
   "id": "d6ccaf3f",
   "metadata": {},
   "outputs": [],
   "source": [
    "number = [5,1,2,3,4,5,6,7,8,9]"
   ]
  },
  {
   "cell_type": "code",
   "execution_count": 25,
   "id": "c9bfa20e",
   "metadata": {},
   "outputs": [],
   "source": [
    "fruits = ['apple','mango','pine-apple','gauva']"
   ]
  },
  {
   "cell_type": "code",
   "execution_count": 26,
   "id": "370f3ce4",
   "metadata": {},
   "outputs": [],
   "source": [
    "def find_e(n):\n",
    "    for i in n:\n",
    "        if i == 'e':\n",
    "            return False\n",
    "    return True"
   ]
  },
  {
   "cell_type": "code",
   "execution_count": 27,
   "id": "3dee575e",
   "metadata": {},
   "outputs": [
    {
     "name": "stdout",
     "output_type": "stream",
     "text": [
      "['mango', 'gauva']\n"
     ]
    }
   ],
   "source": [
    "print(list(filter(find_e,fruits)))"
   ]
  },
  {
   "cell_type": "code",
   "execution_count": 28,
   "id": "ffb4fce0",
   "metadata": {},
   "outputs": [],
   "source": [
    "jh = ['pen','rat','elephat','tiger','goat','kid-lion']"
   ]
  },
  {
   "cell_type": "code",
   "execution_count": 29,
   "id": "841ee7de",
   "metadata": {},
   "outputs": [],
   "source": [
    "def three(n1):\n",
    "    if len(n1) > 3:\n",
    "        return True\n",
    "    else:\n",
    "        return False"
   ]
  },
  {
   "cell_type": "code",
   "execution_count": 30,
   "id": "bb7c160d",
   "metadata": {},
   "outputs": [
    {
     "name": "stdout",
     "output_type": "stream",
     "text": [
      "['elephat', 'tiger', 'goat', 'kid-lion']\n"
     ]
    }
   ],
   "source": [
    "print(list(filter(three, jh)))"
   ]
  },
  {
   "cell_type": "code",
   "execution_count": null,
   "id": "84fca161",
   "metadata": {},
   "outputs": [],
   "source": []
  }
 ],
 "metadata": {
  "kernelspec": {
   "display_name": "Python 3 (ipykernel)",
   "language": "python",
   "name": "python3"
  },
  "language_info": {
   "codemirror_mode": {
    "name": "ipython",
    "version": 3
   },
   "file_extension": ".py",
   "mimetype": "text/x-python",
   "name": "python",
   "nbconvert_exporter": "python",
   "pygments_lexer": "ipython3",
   "version": "3.9.13"
  }
 },
 "nbformat": 4,
 "nbformat_minor": 5
}
