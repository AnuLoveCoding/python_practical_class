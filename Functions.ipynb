{
 "cells": [
  {
   "cell_type": "markdown",
   "id": "7f5ba8d3",
   "metadata": {},
   "source": [
    "# Function:"
   ]
  },
  {
   "cell_type": "code",
   "execution_count": 1,
   "id": "dba1eb50",
   "metadata": {},
   "outputs": [],
   "source": [
    "def greet():\n",
    "    # This is a body function:\n",
    "    print(\"hey, good morning !!\")"
   ]
  },
  {
   "cell_type": "code",
   "execution_count": null,
   "id": "0aa1ae75",
   "metadata": {},
   "outputs": [],
   "source": []
  },
  {
   "cell_type": "code",
   "execution_count": 40,
   "id": "981a252b",
   "metadata": {},
   "outputs": [],
   "source": [
    "def add(a, b, c):\n",
    "    print(a + b * c)"
   ]
  },
  {
   "cell_type": "code",
   "execution_count": 41,
   "id": "397a58a7",
   "metadata": {},
   "outputs": [
    {
     "name": "stdout",
     "output_type": "stream",
     "text": [
      "9\n"
     ]
    }
   ],
   "source": [
    "add(5,2,2)"
   ]
  },
  {
   "cell_type": "code",
   "execution_count": null,
   "id": "cc07b8e2",
   "metadata": {},
   "outputs": [],
   "source": []
  },
  {
   "cell_type": "code",
   "execution_count": 5,
   "id": "8ae067a6",
   "metadata": {},
   "outputs": [],
   "source": [
    "# Returing Multiple values:-"
   ]
  },
  {
   "cell_type": "code",
   "execution_count": 6,
   "id": "d2c427bb",
   "metadata": {},
   "outputs": [],
   "source": [
    "def intro(name, age, hobby):\n",
    "    return name, age, hobby"
   ]
  },
  {
   "cell_type": "code",
   "execution_count": 12,
   "id": "4496b3d1",
   "metadata": {},
   "outputs": [
    {
     "data": {
      "text/plain": [
       "('Anurag', 21, 'Chess')"
      ]
     },
     "execution_count": 12,
     "metadata": {},
     "output_type": "execute_result"
    }
   ],
   "source": [
    " intro(\"Anurag\", 21, \"Chess\")"
   ]
  },
  {
   "cell_type": "code",
   "execution_count": 11,
   "id": "8a1d08a5",
   "metadata": {},
   "outputs": [
    {
     "name": "stdout",
     "output_type": "stream",
     "text": [
      "<class 'function'>\n",
      "1476949031232\n"
     ]
    }
   ],
   "source": [
    "print(type(intro))\n",
    "print(id(intro))"
   ]
  },
  {
   "cell_type": "code",
   "execution_count": null,
   "id": "869a61b6",
   "metadata": {},
   "outputs": [],
   "source": []
  },
  {
   "cell_type": "markdown",
   "id": "3c363c24",
   "metadata": {},
   "source": [
    "# Scope of variable:"
   ]
  },
  {
   "cell_type": "code",
   "execution_count": 16,
   "id": "5be0d175",
   "metadata": {},
   "outputs": [
    {
     "name": "stdout",
     "output_type": "stream",
     "text": [
      "5\n",
      "20\n",
      "5\n"
     ]
    }
   ],
   "source": [
    "# scope of variable;\n",
    "a = 5\n",
    "\n",
    "def func():\n",
    "    a = 20\n",
    "    print(a)\n",
    "\n",
    "print(a)\n",
    "func()\n",
    "print(a)"
   ]
  },
  {
   "cell_type": "code",
   "execution_count": 21,
   "id": "0d14bdee",
   "metadata": {},
   "outputs": [
    {
     "name": "stdout",
     "output_type": "stream",
     "text": [
      "6\n",
      "20\n",
      "20\n"
     ]
    }
   ],
   "source": [
    "# global variable scope\n",
    "b = 6\n",
    "def func():\n",
    "    global b\n",
    "    b = 20\n",
    "    print(b)\n",
    "    \n",
    "print(b)\n",
    "func()\n",
    "print(b)"
   ]
  },
  {
   "cell_type": "markdown",
   "id": "a121ad5e",
   "metadata": {},
   "source": [
    "# Lambda function:- These are mainly used when we used nameless function for a short period of time;"
   ]
  },
  {
   "cell_type": "code",
   "execution_count": 22,
   "id": "6200e355",
   "metadata": {},
   "outputs": [
    {
     "data": {
      "text/plain": [
       "15"
      ]
     },
     "execution_count": 22,
     "metadata": {},
     "output_type": "execute_result"
    }
   ],
   "source": [
    "def add(a,b):\n",
    "    return a * b\n",
    "add(3,5)"
   ]
  },
  {
   "cell_type": "code",
   "execution_count": 1,
   "id": "cc7bddde",
   "metadata": {},
   "outputs": [
    {
     "data": {
      "text/plain": [
       "15"
      ]
     },
     "execution_count": 1,
     "metadata": {},
     "output_type": "execute_result"
    }
   ],
   "source": [
    "(lambda c,d : c * d) (3,5)"
   ]
  },
  {
   "cell_type": "code",
   "execution_count": 25,
   "id": "6eb33e54",
   "metadata": {},
   "outputs": [],
   "source": [
    "func = lambda v , w : v + w"
   ]
  },
  {
   "cell_type": "code",
   "execution_count": 26,
   "id": "c9133924",
   "metadata": {},
   "outputs": [
    {
     "data": {
      "text/plain": [
       "17"
      ]
     },
     "execution_count": 26,
     "metadata": {},
     "output_type": "execute_result"
    }
   ],
   "source": [
    "func(8,9)"
   ]
  },
  {
   "cell_type": "code",
   "execution_count": 27,
   "id": "c213039a",
   "metadata": {},
   "outputs": [
    {
     "data": {
      "text/plain": [
       "function"
      ]
     },
     "execution_count": 27,
     "metadata": {},
     "output_type": "execute_result"
    }
   ],
   "source": [
    "type(func)"
   ]
  },
  {
   "cell_type": "code",
   "execution_count": null,
   "id": "f1ab949c",
   "metadata": {},
   "outputs": [],
   "source": []
  },
  {
   "cell_type": "code",
   "execution_count": 29,
   "id": "5e435e6a",
   "metadata": {},
   "outputs": [
    {
     "data": {
      "text/plain": [
       "99"
      ]
     },
     "execution_count": 29,
     "metadata": {},
     "output_type": "execute_result"
    }
   ],
   "source": [
    "(lambda x, y : x if x > y else y)(78, 99)"
   ]
  },
  {
   "cell_type": "code",
   "execution_count": 32,
   "id": "02b84001",
   "metadata": {},
   "outputs": [],
   "source": [
    "func1 = lambda k, l : k if k < l else l"
   ]
  },
  {
   "cell_type": "code",
   "execution_count": 34,
   "id": "de42f758",
   "metadata": {},
   "outputs": [
    {
     "data": {
      "text/plain": [
       "9"
      ]
     },
     "execution_count": 34,
     "metadata": {},
     "output_type": "execute_result"
    }
   ],
   "source": [
    "func1(9,66)"
   ]
  },
  {
   "cell_type": "markdown",
   "id": "c5590e86",
   "metadata": {},
   "source": [
    "# Arbitrary function:- when number of values you want to pass is not known;\n",
    "# like we pass multiple values in print function;\n",
    "# the values is being stored in tuple;"
   ]
  },
  {
   "cell_type": "code",
   "execution_count": null,
   "id": "4c942e2c",
   "metadata": {},
   "outputs": [],
   "source": []
  },
  {
   "cell_type": "code",
   "execution_count": null,
   "id": "c6ebf53b",
   "metadata": {},
   "outputs": [],
   "source": []
  },
  {
   "cell_type": "code",
   "execution_count": null,
   "id": "4e463694",
   "metadata": {},
   "outputs": [],
   "source": []
  },
  {
   "cell_type": "code",
   "execution_count": 3,
   "id": "1fa41257",
   "metadata": {},
   "outputs": [],
   "source": [
    "def func(a,b):\n",
    "    print(\"addition : \", a + b)\n",
    "    print(\"substraction : \", a- b)\n",
    "    print(\"multiplication : \", a * b)\n",
    "    print(\"divide : \", a / b)"
   ]
  },
  {
   "cell_type": "code",
   "execution_count": 4,
   "id": "5fc61347",
   "metadata": {},
   "outputs": [
    {
     "name": "stdout",
     "output_type": "stream",
     "text": [
      "addition 11\n",
      "substraction -1\n",
      "multiplication 30\n",
      "divide 0.8333333333333334\n"
     ]
    }
   ],
   "source": [
    "func(5,6)"
   ]
  },
  {
   "cell_type": "code",
   "execution_count": null,
   "id": "4dcbeea5",
   "metadata": {},
   "outputs": [],
   "source": []
  },
  {
   "cell_type": "markdown",
   "id": "45f600b6",
   "metadata": {},
   "source": [
    "# parameters\n",
    "\n",
    "# postional Arguments\n",
    "\n",
    "# keyword Arguments."
   ]
  },
  {
   "cell_type": "code",
   "execution_count": 6,
   "id": "3be53b10",
   "metadata": {},
   "outputs": [],
   "source": [
    "# parametrs\n",
    "def func(a, b, c):\n",
    "    print(a * b * c)"
   ]
  },
  {
   "cell_type": "code",
   "execution_count": 8,
   "id": "1c99358f",
   "metadata": {},
   "outputs": [
    {
     "ename": "TypeError",
     "evalue": "func() takes 3 positional arguments but 4 were given",
     "output_type": "error",
     "traceback": [
      "\u001b[1;31m---------------------------------------------------------------------------\u001b[0m",
      "\u001b[1;31mTypeError\u001b[0m                                 Traceback (most recent call last)",
      "\u001b[1;32m~\\AppData\\Local\\Temp\\ipykernel_10852\\2868812557.py\u001b[0m in \u001b[0;36m<module>\u001b[1;34m\u001b[0m\n\u001b[1;32m----> 1\u001b[1;33m \u001b[0mfunc\u001b[0m\u001b[1;33m(\u001b[0m\u001b[1;36m7\u001b[0m\u001b[1;33m,\u001b[0m\u001b[1;36m8\u001b[0m\u001b[1;33m,\u001b[0m\u001b[1;36m8\u001b[0m\u001b[1;33m,\u001b[0m\u001b[1;36m9\u001b[0m\u001b[1;33m)\u001b[0m\u001b[1;33m\u001b[0m\u001b[1;33m\u001b[0m\u001b[0m\n\u001b[0m",
      "\u001b[1;31mTypeError\u001b[0m: func() takes 3 positional arguments but 4 were given"
     ]
    }
   ],
   "source": [
    "func(7,8,8)"
   ]
  },
  {
   "cell_type": "code",
   "execution_count": 10,
   "id": "27741887",
   "metadata": {},
   "outputs": [],
   "source": [
    "# keywords in arguments;\n",
    "def faimly(father, mother, daughter):\n",
    "    print(\"The youngest is\", daughter)"
   ]
  },
  {
   "cell_type": "code",
   "execution_count": 11,
   "id": "4a4319b9",
   "metadata": {},
   "outputs": [
    {
     "name": "stdout",
     "output_type": "stream",
     "text": [
      "The youngest is d\n"
     ]
    }
   ],
   "source": [
    "faimly(father = \"A\", mother = \"b\", daughter = \"d\")"
   ]
  },
  {
   "cell_type": "code",
   "execution_count": 20,
   "id": "6ebfa9e2",
   "metadata": {},
   "outputs": [],
   "source": [
    "# define a function to find max in two number;\n",
    "def max(a, b):\n",
    "    if a >= b:\n",
    "        print(a)\n",
    "    else:\n",
    "        print(b)"
   ]
  },
  {
   "cell_type": "code",
   "execution_count": 21,
   "id": "2d6ff922",
   "metadata": {},
   "outputs": [
    {
     "name": "stdout",
     "output_type": "stream",
     "text": [
      "12\n"
     ]
    }
   ],
   "source": [
    "max(12, 12)"
   ]
  },
  {
   "cell_type": "code",
   "execution_count": 37,
   "id": "5ae0cb3e",
   "metadata": {},
   "outputs": [
    {
     "name": "stdout",
     "output_type": "stream",
     "text": [
      "Enter a number : 4597\n",
      "This is odd number\n"
     ]
    }
   ],
   "source": [
    "num = int(input(\"Enter a number : \"))\n",
    "mod = num % 2 \n",
    "if mod > 0:\n",
    "    print(\"This is odd number\")\n",
    "else:\n",
    "    print(\"This is even number\")"
   ]
  },
  {
   "cell_type": "code",
   "execution_count": 42,
   "id": "73244d84",
   "metadata": {},
   "outputs": [],
   "source": [
    "# checking number is ever or odd;\n",
    "def even(num):\n",
    "    if(num % 2) == 0:\n",
    "        print(\"even\", num)\n",
    "    else:\n",
    "        print(\"odd\", num)"
   ]
  },
  {
   "cell_type": "code",
   "execution_count": null,
   "id": "f7fc8e9d",
   "metadata": {},
   "outputs": [],
   "source": [
    "even(int(input()))"
   ]
  },
  {
   "cell_type": "code",
   "execution_count": null,
   "id": "edbb4936",
   "metadata": {},
   "outputs": [],
   "source": []
  },
  {
   "cell_type": "markdown",
   "id": "13209ce4",
   "metadata": {},
   "source": [
    "# Keyword Arguments;"
   ]
  },
  {
   "cell_type": "code",
   "execution_count": 15,
   "id": "c23285b4",
   "metadata": {},
   "outputs": [],
   "source": [
    "def oops(child1, child2, child3):\n",
    "    \"\"\"this is my first arguments to optimize the concepts in the followings terms\"\"\"\n",
    "    return \"this is my first statemets about the child you know the concepts\" , child3"
   ]
  },
  {
   "cell_type": "code",
   "execution_count": 3,
   "id": "d67c9e63",
   "metadata": {},
   "outputs": [
    {
     "name": "stdout",
     "output_type": "stream",
     "text": [
      "this is my first arguments to optimize the concepts in the followings terms\n"
     ]
    }
   ],
   "source": [
    "print(oops.__doc__)"
   ]
  },
  {
   "cell_type": "code",
   "execution_count": 18,
   "id": "e7f34db6",
   "metadata": {},
   "outputs": [
    {
     "name": "stdout",
     "output_type": "stream",
     "text": [
      "('this is my first statemets about the child you know the concepts', 'pinku')\n"
     ]
    }
   ],
   "source": [
    "print(oops(child1 = 'pinku', child2 = 'sumit', child3 = 'pinku'))"
   ]
  },
  {
   "cell_type": "code",
   "execution_count": 23,
   "id": "14a739c9",
   "metadata": {},
   "outputs": [],
   "source": [
    "def child(child4, child5, child6, child7):\n",
    "    \"these are my childern do you know the cocepts\"\n",
    "    return \"this is whole the kalka the mail express\", child7"
   ]
  },
  {
   "cell_type": "code",
   "execution_count": 21,
   "id": "88bd4549",
   "metadata": {},
   "outputs": [
    {
     "name": "stdout",
     "output_type": "stream",
     "text": [
      "these are my childern do you know the cocepts\n"
     ]
    }
   ],
   "source": [
    "print(child.__doc__)"
   ]
  },
  {
   "cell_type": "code",
   "execution_count": 24,
   "id": "98ed1685",
   "metadata": {},
   "outputs": [
    {
     "name": "stdout",
     "output_type": "stream",
     "text": [
      "('this is whole the kalka the mail express', 'sonu')\n"
     ]
    }
   ],
   "source": [
    "print(child(child4 = 'akshara', child5 = 'pinnku', child6 = 'chal_sala', child7 = 'sonu'))"
   ]
  },
  {
   "cell_type": "code",
   "execution_count": null,
   "id": "1068245e",
   "metadata": {},
   "outputs": [],
   "source": []
  },
  {
   "cell_type": "markdown",
   "id": "b43425bf",
   "metadata": {},
   "source": [
    "# Variable length arguments;"
   ]
  },
  {
   "cell_type": "code",
   "execution_count": 25,
   "id": "af80b0c8",
   "metadata": {},
   "outputs": [],
   "source": [
    "# 1. atribitary arguments(*args);\n",
    "# 2. artibitary keywords(**kwargs);"
   ]
  },
  {
   "cell_type": "code",
   "execution_count": null,
   "id": "c9d2f2ad",
   "metadata": {},
   "outputs": [],
   "source": []
  },
  {
   "cell_type": "code",
   "execution_count": 31,
   "id": "ee0776ef",
   "metadata": {},
   "outputs": [],
   "source": [
    "def beauti(*name):\n",
    "    \"\"\"this is beauti some colourful management and parameters\"\"\"\n",
    "    return \"This beautiful name is some useful that\" , name[3]"
   ]
  },
  {
   "cell_type": "code",
   "execution_count": 27,
   "id": "165507df",
   "metadata": {},
   "outputs": [
    {
     "name": "stdout",
     "output_type": "stream",
     "text": [
      "this is beauti some colourful management and parameters\n"
     ]
    }
   ],
   "source": [
    "print(beauti.__doc__)"
   ]
  },
  {
   "cell_type": "code",
   "execution_count": 32,
   "id": "cf602e6d",
   "metadata": {},
   "outputs": [
    {
     "name": "stdout",
     "output_type": "stream",
     "text": [
      "('This beautiful name is some useful that', 'sonu')\n"
     ]
    }
   ],
   "source": [
    "print(beauti('soumya','anjali','aksahra','sonu'))"
   ]
  },
  {
   "cell_type": "code",
   "execution_count": 36,
   "id": "3333b6c5",
   "metadata": {},
   "outputs": [],
   "source": [
    "def kaliya(*kali):\n",
    "    \"This is most aspiration in that big part of mistake...\"\n",
    "    return \"A budahu this is your last chance most aspiration\",kali[2]"
   ]
  },
  {
   "cell_type": "code",
   "execution_count": 37,
   "id": "eadb7e59",
   "metadata": {},
   "outputs": [
    {
     "name": "stdout",
     "output_type": "stream",
     "text": [
      "This is most aspiration in that big part of mistake...\n"
     ]
    }
   ],
   "source": [
    "print(kaliya.__doc__)"
   ]
  },
  {
   "cell_type": "code",
   "execution_count": 38,
   "id": "04c1d974",
   "metadata": {},
   "outputs": [
    {
     "name": "stdout",
     "output_type": "stream",
     "text": [
      "('A budahu this is your last chance most aspiration', 'pinku')\n"
     ]
    }
   ],
   "source": [
    "print(kaliya('oops','pinku','manjit','shukla','kirti'))"
   ]
  },
  {
   "cell_type": "markdown",
   "id": "c04a48e1",
   "metadata": {},
   "source": [
    "# arbitary keywords(**kwargs)"
   ]
  },
  {
   "cell_type": "code",
   "execution_count": 54,
   "id": "7c532015",
   "metadata": {},
   "outputs": [],
   "source": [
    "def this(**thiss):\n",
    "    \"This is my first own car\"\n",
    "    print(\"This is my first journey \",thiss['location'])"
   ]
  },
  {
   "cell_type": "code",
   "execution_count": 41,
   "id": "3361bf85",
   "metadata": {},
   "outputs": [
    {
     "name": "stdout",
     "output_type": "stream",
     "text": [
      "This is my first own car\n"
     ]
    }
   ],
   "source": [
    "print(this.__doc__)"
   ]
  },
  {
   "cell_type": "code",
   "execution_count": 55,
   "id": "deffb156",
   "metadata": {},
   "outputs": [
    {
     "name": "stdout",
     "output_type": "stream",
     "text": [
      "This is my first journey  New-Delhi\n"
     ]
    }
   ],
   "source": [
    "this(name = 'Anurga' , age = 22, location = 'New-Delhi')"
   ]
  },
  {
   "cell_type": "code",
   "execution_count": 58,
   "id": "e9589ea2",
   "metadata": {},
   "outputs": [],
   "source": [
    "def parm(**param1):\n",
    "    \"This is sceintific some arguments in this why we use.\"\n",
    "    print (\"This is more engage some documents on their moments\", param1['name'])"
   ]
  },
  {
   "cell_type": "code",
   "execution_count": 59,
   "id": "4868c68f",
   "metadata": {},
   "outputs": [
    {
     "name": "stdout",
     "output_type": "stream",
     "text": [
      "This is more engage some documents on their moments Anurag\n"
     ]
    }
   ],
   "source": [
    "parm(name = 'Anurag', age = 22, location = 'New-Delhi')"
   ]
  },
  {
   "cell_type": "code",
   "execution_count": 60,
   "id": "88a5e842",
   "metadata": {},
   "outputs": [],
   "source": [
    "m = 1,2,5,4,6,7,88,89"
   ]
  },
  {
   "cell_type": "code",
   "execution_count": 63,
   "id": "521fbb25",
   "metadata": {},
   "outputs": [
    {
     "name": "stdout",
     "output_type": "stream",
     "text": [
      "[1, 2, 5, 4, 6, 7, 88, 89]\n"
     ]
    }
   ],
   "source": [
    "y = list(m)\n",
    "print(y)"
   ]
  },
  {
   "cell_type": "code",
   "execution_count": 74,
   "id": "20456ab2",
   "metadata": {},
   "outputs": [],
   "source": [
    "k = []\n",
    "for i in y:\n",
    "    if i not in k:\n",
    "        k.append(i)"
   ]
  },
  {
   "cell_type": "code",
   "execution_count": 75,
   "id": "65258601",
   "metadata": {},
   "outputs": [],
   "source": [
    "n = tuple(k)"
   ]
  },
  {
   "cell_type": "code",
   "execution_count": 76,
   "id": "9329deb4",
   "metadata": {},
   "outputs": [
    {
     "data": {
      "text/plain": [
       "(1, 2, 5, 4, 6, 7, 88, 89)"
      ]
     },
     "execution_count": 76,
     "metadata": {},
     "output_type": "execute_result"
    }
   ],
   "source": [
    "n"
   ]
  },
  {
   "cell_type": "code",
   "execution_count": 79,
   "id": "a2101ca4",
   "metadata": {},
   "outputs": [],
   "source": [
    "uu = min(n)"
   ]
  },
  {
   "cell_type": "code",
   "execution_count": 80,
   "id": "8a4a2b81",
   "metadata": {},
   "outputs": [
    {
     "name": "stdout",
     "output_type": "stream",
     "text": [
      "1\n"
     ]
    }
   ],
   "source": [
    "print(uu)"
   ]
  },
  {
   "cell_type": "code",
   "execution_count": null,
   "id": "5f3151e7",
   "metadata": {},
   "outputs": [],
   "source": []
  },
  {
   "cell_type": "code",
   "execution_count": null,
   "id": "d0478227",
   "metadata": {},
   "outputs": [],
   "source": []
  }
 ],
 "metadata": {
  "kernelspec": {
   "display_name": "Python 3 (ipykernel)",
   "language": "python",
   "name": "python3"
  },
  "language_info": {
   "codemirror_mode": {
    "name": "ipython",
    "version": 3
   },
   "file_extension": ".py",
   "mimetype": "text/x-python",
   "name": "python",
   "nbconvert_exporter": "python",
   "pygments_lexer": "ipython3",
   "version": "3.10.10"
  }
 },
 "nbformat": 4,
 "nbformat_minor": 5
}
