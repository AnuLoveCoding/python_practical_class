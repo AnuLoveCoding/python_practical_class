{
 "cells": [
  {
   "cell_type": "code",
   "execution_count": 1,
   "metadata": {},
   "outputs": [],
   "source": [
    "import time"
   ]
  },
  {
   "cell_type": "code",
   "execution_count": 2,
   "metadata": {},
   "outputs": [],
   "source": [
    "# decoraters;"
   ]
  },
  {
   "cell_type": "code",
   "execution_count": 3,
   "metadata": {},
   "outputs": [],
   "source": [
    "# inside this function;\n",
    "def itself(pri):\n",
    "    def greet(*name,**name1):\n",
    "        print(\"Inside this function\")\n",
    "        pri(*name,**name1)\n",
    "    return greet"
   ]
  },
  {
   "cell_type": "code",
   "execution_count": 4,
   "metadata": {},
   "outputs": [],
   "source": [
    "@itself\n",
    "def pri(name):\n",
    "    print (f\"This is your name {name}\")"
   ]
  },
  {
   "cell_type": "code",
   "execution_count": 5,
   "metadata": {},
   "outputs": [
    {
     "name": "stdout",
     "output_type": "stream",
     "text": [
      "Inside this function\n",
      "This is your name Anurag\n"
     ]
    }
   ],
   "source": [
    "pri('Anurag')"
   ]
  },
  {
   "cell_type": "code",
   "execution_count": 6,
   "metadata": {},
   "outputs": [],
   "source": [
    "#  add two numbers\n",
    "@itself\n",
    "def add(a,b):\n",
    "    print(a + b)"
   ]
  },
  {
   "cell_type": "code",
   "execution_count": 7,
   "metadata": {},
   "outputs": [
    {
     "name": "stdout",
     "output_type": "stream",
     "text": [
      "Inside this function\n",
      "13\n"
     ]
    }
   ],
   "source": [
    "add(8,5)"
   ]
  },
  {
   "cell_type": "code",
   "execution_count": 8,
   "metadata": {},
   "outputs": [],
   "source": [
    "def mul_itself(mul):\n",
    "    def mull(*n, **nn):\n",
    "        print(f\"This is my new funtion\")\n",
    "        mul(*n , **nn)\n",
    "    return mull\n"
   ]
  },
  {
   "cell_type": "code",
   "execution_count": 9,
   "metadata": {},
   "outputs": [],
   "source": [
    "@mul_itself\n",
    "def mul(c , d):\n",
    "    print(c * d)"
   ]
  },
  {
   "cell_type": "code",
   "execution_count": 10,
   "metadata": {},
   "outputs": [
    {
     "name": "stdout",
     "output_type": "stream",
     "text": [
      "This is my new funtion\n",
      "64\n"
     ]
    }
   ],
   "source": [
    "mul(8,8)"
   ]
  },
  {
   "cell_type": "code",
   "execution_count": 11,
   "metadata": {},
   "outputs": [],
   "source": [
    "def sub(add1):\n",
    "    def sub1(*nw, **wn):\n",
    "        print(nw[0] + nw[1] + nw[2],**wn)\n",
    "        add1(*nw,**wn)\n",
    "    return sub1"
   ]
  },
  {
   "cell_type": "code",
   "execution_count": 12,
   "metadata": {},
   "outputs": [],
   "source": [
    "@sub\n",
    "def add1(d, f,m):\n",
    "    print(d + f * m)\n"
   ]
  },
  {
   "cell_type": "code",
   "execution_count": 13,
   "metadata": {},
   "outputs": [
    {
     "name": "stdout",
     "output_type": "stream",
     "text": [
      "27\n",
      "61\n"
     ]
    }
   ],
   "source": [
    "add1(13,8,6)"
   ]
  },
  {
   "cell_type": "code",
   "execution_count": 14,
   "metadata": {},
   "outputs": [],
   "source": [
    "# Time find exceution time,"
   ]
  },
  {
   "cell_type": "code",
   "execution_count": 15,
   "metadata": {},
   "outputs": [],
   "source": [
    "def time_exe(exe_func):\n",
    "    def nested(*n , **nn):\n",
    "        start_time = time.time()\n",
    "        exe_func(*n, **nn)\n",
    "        end_time = time.time()\n",
    "        print(end_time - start_time)\n",
    "    return nested"
   ]
  },
  {
   "cell_type": "code",
   "execution_count": 16,
   "metadata": {},
   "outputs": [],
   "source": [
    "@time_exe\n",
    "def sum_range(num):\n",
    "    ans = 0\n",
    "    for i in range(1, num + 1):\n",
    "        ans += i\n",
    "    print(ans)  "
   ]
  },
  {
   "cell_type": "code",
   "execution_count": 17,
   "metadata": {},
   "outputs": [
    {
     "name": "stdout",
     "output_type": "stream",
     "text": [
      "55\n",
      "0.0\n"
     ]
    }
   ],
   "source": [
    "sum_range(10)"
   ]
  },
  {
   "cell_type": "code",
   "execution_count": 18,
   "metadata": {},
   "outputs": [],
   "source": [
    "@time_exe\n",
    "def pattern(num):\n",
    "    for i in range(1,num + 1):\n",
    "        for j in range(1, i + 1):\n",
    "            print('*' , end = \" \")\n",
    "        print()"
   ]
  },
  {
   "cell_type": "code",
   "execution_count": 19,
   "metadata": {},
   "outputs": [
    {
     "name": "stdout",
     "output_type": "stream",
     "text": [
      "* \n",
      "* * \n",
      "* * * \n",
      "* * * * \n",
      "* * * * * \n",
      "0.0\n"
     ]
    }
   ],
   "source": [
    "pattern(5)"
   ]
  },
  {
   "cell_type": "code",
   "execution_count": 20,
   "metadata": {},
   "outputs": [],
   "source": [
    "def num():\n",
    "    \"\"\"this is doc_string.\"\"\"\n",
    "    return(f\"name is rahul\")"
   ]
  },
  {
   "cell_type": "code",
   "execution_count": 21,
   "metadata": {},
   "outputs": [
    {
     "name": "stdout",
     "output_type": "stream",
     "text": [
      "this is doc_string.\n"
     ]
    }
   ],
   "source": [
    "print(num.__doc__)"
   ]
  },
  {
   "cell_type": "code",
   "execution_count": 42,
   "metadata": {},
   "outputs": [],
   "source": [
    "def itself11(factorial):\n",
    "    def add(*n, **nn):\n",
    "        print()\n",
    "        factorial(*n, **nn)\n",
    "    return add"
   ]
  },
  {
   "cell_type": "code",
   "execution_count": 47,
   "metadata": {},
   "outputs": [],
   "source": [
    "# factorial\n",
    "@itself11\n",
    "def factorial(num):\n",
    "    ans = 1\n",
    "    for i in range(1, num + 1):\n",
    "        ans *= i\n",
    "    print(ans)"
   ]
  },
  {
   "cell_type": "code",
   "execution_count": 48,
   "metadata": {},
   "outputs": [
    {
     "name": "stdout",
     "output_type": "stream",
     "text": [
      "This is your number\n",
      "120\n"
     ]
    }
   ],
   "source": [
    "factorial(5)"
   ]
  },
  {
   "cell_type": "code",
   "execution_count": 67,
   "metadata": {},
   "outputs": [],
   "source": [
    "def num_prime(prime_number):\n",
    "    def is_number(*n , **mm):\n",
    "        print(f\"These are the prime_numbers between {n[0]} range\")\n",
    "        prime_number(n[0], **mm)\n",
    "    return is_number"
   ]
  },
  {
   "cell_type": "code",
   "execution_count": 68,
   "metadata": {},
   "outputs": [],
   "source": [
    "@num_prime\n",
    "def prime_number(num):\n",
    "    ans = 0\n",
    "    for i in range(2, num + 1):\n",
    "        count = 0\n",
    "        for j in range(1, i + 1):\n",
    "            if i % j == 0:\n",
    "                count += 1\n",
    "        if count == 2:\n",
    "            ans += 1\n",
    "    print(ans)"
   ]
  },
  {
   "cell_type": "code",
   "execution_count": 69,
   "metadata": {},
   "outputs": [
    {
     "name": "stdout",
     "output_type": "stream",
     "text": [
      "These are the prime_numbers between 10 range\n",
      "4\n"
     ]
    }
   ],
   "source": [
    "prime_number(10)"
   ]
  },
  {
   "cell_type": "code",
   "execution_count": 2,
   "metadata": {},
   "outputs": [],
   "source": [
    "list1 = [2,3,2,5]"
   ]
  },
  {
   "cell_type": "code",
   "execution_count": 5,
   "metadata": {},
   "outputs": [],
   "source": [
    "k = {}\n",
    "for i in list1:\n",
    "    if i not in k:\n",
    "        k[i] = 1\n",
    "    else:\n",
    "        k[i] += 1"
   ]
  },
  {
   "cell_type": "code",
   "execution_count": 7,
   "metadata": {},
   "outputs": [
    {
     "name": "stdout",
     "output_type": "stream",
     "text": [
      "{2: 2, 3: 1, 5: 1}\n",
      "3\n"
     ]
    }
   ],
   "source": [
    "print(k)\n",
    "print(len(k))"
   ]
  },
  {
   "cell_type": "code",
   "execution_count": 35,
   "metadata": {},
   "outputs": [
    {
     "name": "stdout",
     "output_type": "stream",
     "text": [
      "10\n"
     ]
    }
   ],
   "source": [
    "# difference between global and local variable.\n",
    "a = 10\n",
    "def opp():\n",
    "    b = 15\n",
    "    print(b)\n",
    "print(a)"
   ]
  },
  {
   "cell_type": "code",
   "execution_count": 36,
   "metadata": {},
   "outputs": [
    {
     "name": "stdout",
     "output_type": "stream",
     "text": [
      "15\n",
      "None\n"
     ]
    }
   ],
   "source": [
    "print(opp())"
   ]
  },
  {
   "cell_type": "code",
   "execution_count": 61,
   "metadata": {},
   "outputs": [],
   "source": [
    "def pattern_print(num):\n",
    "    for i in range(1, num + 1):\n",
    "        for j in range(1, num + 1):\n",
    "            print('#', end =\" \")\n",
    "        print()"
   ]
  },
  {
   "cell_type": "code",
   "execution_count": 62,
   "metadata": {},
   "outputs": [
    {
     "name": "stdout",
     "output_type": "stream",
     "text": [
      "# # # # # # # # # # \n",
      "# # # # # # # # # # \n",
      "# # # # # # # # # # \n",
      "# # # # # # # # # # \n",
      "# # # # # # # # # # \n",
      "# # # # # # # # # # \n",
      "# # # # # # # # # # \n",
      "# # # # # # # # # # \n",
      "# # # # # # # # # # \n",
      "# # # # # # # # # # \n"
     ]
    }
   ],
   "source": [
    "pattern_print(10)"
   ]
  }
 ],
 "metadata": {
  "kernelspec": {
   "display_name": "Python 3",
   "language": "python",
   "name": "python3"
  },
  "language_info": {
   "codemirror_mode": {
    "name": "ipython",
    "version": 3
   },
   "file_extension": ".py",
   "mimetype": "text/x-python",
   "name": "python",
   "nbconvert_exporter": "python",
   "pygments_lexer": "ipython3",
   "version": "3.10.10"
  },
  "orig_nbformat": 4
 },
 "nbformat": 4,
 "nbformat_minor": 2
}
