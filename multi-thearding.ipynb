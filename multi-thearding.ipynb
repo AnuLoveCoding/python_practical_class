{
 "cells": [
  {
   "cell_type": "code",
   "execution_count": 5,
   "id": "9310f944",
   "metadata": {},
   "outputs": [],
   "source": [
    "# multi_therading : It excutes the multiple theards in same time."
   ]
  },
  {
   "cell_type": "code",
   "execution_count": 6,
   "id": "926cc219",
   "metadata": {},
   "outputs": [],
   "source": [
    "class A:\n",
    "    def run(self):\n",
    "        for i in range(5):\n",
    "            print(\"Anurag\")\n",
    "        "
   ]
  },
  {
   "cell_type": "code",
   "execution_count": 7,
   "id": "12c8db8f",
   "metadata": {},
   "outputs": [],
   "source": [
    "class B:\n",
    "    def run(self):\n",
    "        for i in range(5):\n",
    "            print(\"Mundra\")"
   ]
  },
  {
   "cell_type": "code",
   "execution_count": 8,
   "id": "70689171",
   "metadata": {},
   "outputs": [],
   "source": [
    "t1 = A()\n",
    "t2 = B()"
   ]
  },
  {
   "cell_type": "code",
   "execution_count": 9,
   "id": "163d2083",
   "metadata": {},
   "outputs": [
    {
     "name": "stdout",
     "output_type": "stream",
     "text": [
      "Anurag\n",
      "Anurag\n",
      "Anurag\n",
      "Anurag\n",
      "Anurag\n",
      "Mundra\n",
      "Mundra\n",
      "Mundra\n",
      "Mundra\n",
      "Mundra\n"
     ]
    }
   ],
   "source": [
    "t1.run()\n",
    "t2.run()"
   ]
  },
  {
   "cell_type": "code",
   "execution_count": null,
   "id": "2f8dc6a2",
   "metadata": {},
   "outputs": [],
   "source": []
  },
  {
   "cell_type": "code",
   "execution_count": null,
   "id": "3160b4fe",
   "metadata": {},
   "outputs": [],
   "source": []
  },
  {
   "cell_type": "code",
   "execution_count": null,
   "id": "d93df4b6",
   "metadata": {},
   "outputs": [],
   "source": []
  },
  {
   "cell_type": "code",
   "execution_count": null,
   "id": "98f72b3c",
   "metadata": {},
   "outputs": [],
   "source": []
  }
 ],
 "metadata": {
  "kernelspec": {
   "display_name": "Python 3 (ipykernel)",
   "language": "python",
   "name": "python3"
  },
  "language_info": {
   "codemirror_mode": {
    "name": "ipython",
    "version": 3
   },
   "file_extension": ".py",
   "mimetype": "text/x-python",
   "name": "python",
   "nbconvert_exporter": "python",
   "pygments_lexer": "ipython3",
   "version": "3.11.1"
  }
 },
 "nbformat": 4,
 "nbformat_minor": 5
}
