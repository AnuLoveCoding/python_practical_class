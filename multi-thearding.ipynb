{
 "cells": [
  {
   "cell_type": "code",
   "execution_count": 51,
   "id": "9310f944",
   "metadata": {},
   "outputs": [],
   "source": [
    "# multi_therading : It excutes the multiple theards in same time."
   ]
  },
  {
   "cell_type": "code",
   "execution_count": 52,
   "id": "66a2355f",
   "metadata": {},
   "outputs": [],
   "source": [
    "from time import sleep\n",
    "from threading import Thread"
   ]
  },
  {
   "cell_type": "code",
   "execution_count": 53,
   "id": "926cc219",
   "metadata": {},
   "outputs": [],
   "source": [
    "class A(Thread):\n",
    "    def run1(self):\n",
    "        for i in range(5):\n",
    "            print(\"Anurag\")\n",
    "            sleep(1)\n",
    "        "
   ]
  },
  {
   "cell_type": "code",
   "execution_count": 54,
   "id": "12c8db8f",
   "metadata": {},
   "outputs": [],
   "source": [
    "class B(Thread):\n",
    "    def run2(self):\n",
    "        for i in range(5):\n",
    "            print(\"Mundra\")\n",
    "            sleep(1)"
   ]
  },
  {
   "cell_type": "code",
   "execution_count": 55,
   "id": "70689171",
   "metadata": {},
   "outputs": [],
   "source": [
    "t1 = A()\n",
    "t2 = B()"
   ]
  },
  {
   "cell_type": "code",
   "execution_count": 57,
   "id": "163d2083",
   "metadata": {},
   "outputs": [
    {
     "ename": "RuntimeError",
     "evalue": "threads can only be started once",
     "output_type": "error",
     "traceback": [
      "\u001b[1;31m---------------------------------------------------------------------------\u001b[0m",
      "\u001b[1;31mRuntimeError\u001b[0m                              Traceback (most recent call last)",
      "Cell \u001b[1;32mIn[57], line 1\u001b[0m\n\u001b[1;32m----> 1\u001b[0m t1\u001b[39m.\u001b[39;49mstart()\n\u001b[0;32m      2\u001b[0m t2\u001b[39m.\u001b[39mstart()\n",
      "File \u001b[1;32mc:\\Users\\PC\\AppData\\Local\\Programs\\Python\\Python311\\Lib\\threading.py:952\u001b[0m, in \u001b[0;36mThread.start\u001b[1;34m(self)\u001b[0m\n\u001b[0;32m    949\u001b[0m     \u001b[39mraise\u001b[39;00m \u001b[39mRuntimeError\u001b[39;00m(\u001b[39m\"\u001b[39m\u001b[39mthread.__init__() not called\u001b[39m\u001b[39m\"\u001b[39m)\n\u001b[0;32m    951\u001b[0m \u001b[39mif\u001b[39;00m \u001b[39mself\u001b[39m\u001b[39m.\u001b[39m_started\u001b[39m.\u001b[39mis_set():\n\u001b[1;32m--> 952\u001b[0m     \u001b[39mraise\u001b[39;00m \u001b[39mRuntimeError\u001b[39;00m(\u001b[39m\"\u001b[39m\u001b[39mthreads can only be started once\u001b[39m\u001b[39m\"\u001b[39m)\n\u001b[0;32m    954\u001b[0m \u001b[39mwith\u001b[39;00m _active_limbo_lock:\n\u001b[0;32m    955\u001b[0m     _limbo[\u001b[39mself\u001b[39m] \u001b[39m=\u001b[39m \u001b[39mself\u001b[39m\n",
      "\u001b[1;31mRuntimeError\u001b[0m: threads can only be started once"
     ]
    }
   ],
   "source": [
    "t1.start()\n",
    "t2.start()"
   ]
  },
  {
   "cell_type": "code",
   "execution_count": null,
   "id": "2f8dc6a2",
   "metadata": {},
   "outputs": [],
   "source": []
  },
  {
   "cell_type": "code",
   "execution_count": null,
   "id": "3160b4fe",
   "metadata": {},
   "outputs": [],
   "source": []
  },
  {
   "cell_type": "code",
   "execution_count": null,
   "id": "d93df4b6",
   "metadata": {},
   "outputs": [],
   "source": []
  },
  {
   "cell_type": "code",
   "execution_count": null,
   "id": "98f72b3c",
   "metadata": {},
   "outputs": [],
   "source": []
  }
 ],
 "metadata": {
  "kernelspec": {
   "display_name": "Python 3 (ipykernel)",
   "language": "python",
   "name": "python3"
  },
  "language_info": {
   "codemirror_mode": {
    "name": "ipython",
    "version": 3
   },
   "file_extension": ".py",
   "mimetype": "text/x-python",
   "name": "python",
   "nbconvert_exporter": "python",
   "pygments_lexer": "ipython3",
   "version": "3.11.1"
  }
 },
 "nbformat": 4,
 "nbformat_minor": 5
}
