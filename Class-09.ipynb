{
 "cells": [
  {
   "cell_type": "markdown",
   "id": "5f067c36",
   "metadata": {},
   "source": [
    "# Tuples :- semi-flexible:- Immutable, ordered, Hetrogenous, Allow Duplicates,\n",
    "# use case : where we canno't change the data;\n",
    "# denoation :- ();\n"
   ]
  },
  {
   "cell_type": "code",
   "execution_count": 6,
   "id": "c4a27076",
   "metadata": {},
   "outputs": [],
   "source": [
    "import sys"
   ]
  },
  {
   "cell_type": "code",
   "execution_count": 3,
   "id": "ccebf452",
   "metadata": {},
   "outputs": [],
   "source": [
    "tl = (1,2,3,4,5,6,7,8,9)"
   ]
  },
  {
   "cell_type": "code",
   "execution_count": 10,
   "id": "d64eecdd",
   "metadata": {},
   "outputs": [
    {
     "name": "stdout",
     "output_type": "stream",
     "text": [
      "112\n",
      "<class 'tuple'>\n"
     ]
    }
   ],
   "source": [
    "print(sys.getsizeof(tl))\n",
    "print(type(tl))"
   ]
  },
  {
   "cell_type": "code",
   "execution_count": 4,
   "id": "6167bd2f",
   "metadata": {},
   "outputs": [
    {
     "data": {
      "text/plain": [
       "tuple"
      ]
     },
     "execution_count": 4,
     "metadata": {},
     "output_type": "execute_result"
    }
   ],
   "source": [
    "type(tl)"
   ]
  },
  {
   "cell_type": "code",
   "execution_count": 17,
   "id": "6a710716",
   "metadata": {},
   "outputs": [],
   "source": [
    "lt = {1,2,3,4,5,6,7,8,9}"
   ]
  },
  {
   "cell_type": "code",
   "execution_count": 19,
   "id": "b22f5307",
   "metadata": {},
   "outputs": [
    {
     "name": "stdout",
     "output_type": "stream",
     "text": [
      "728\n",
      "<class 'set'>\n"
     ]
    }
   ],
   "source": [
    "print(sys.getsizeof(lt))\n",
    "print(type(lt))"
   ]
  },
  {
   "cell_type": "code",
   "execution_count": 12,
   "id": "eed1a8ca",
   "metadata": {},
   "outputs": [],
   "source": [
    "p = 4,5,4,6,7,8,9,7"
   ]
  },
  {
   "cell_type": "code",
   "execution_count": 18,
   "id": "1812e2bf",
   "metadata": {},
   "outputs": [
    {
     "data": {
      "text/plain": [
       "tuple"
      ]
     },
     "execution_count": 18,
     "metadata": {},
     "output_type": "execute_result"
    }
   ],
   "source": [
    "p\n",
    "type(p)"
   ]
  },
  {
   "cell_type": "code",
   "execution_count": 24,
   "id": "bf48d41e",
   "metadata": {},
   "outputs": [],
   "source": [
    "tl=(1,2,5,4,6,7,8,9,7,4,4)"
   ]
  },
  {
   "cell_type": "code",
   "execution_count": 57,
   "id": "a91edb80",
   "metadata": {
    "scrolled": true
   },
   "outputs": [],
   "source": [
    "tl.sort()\n",
    "tl.append(66)"
   ]
  },
  {
   "cell_type": "code",
   "execution_count": 39,
   "id": "18cfaf56",
   "metadata": {},
   "outputs": [],
   "source": [
    "k={}\n",
    "for i in tl:\n",
    "    if i not in k:\n",
    "        k[i] = 1\n",
    "    else:\n",
    "        k[i] += 1"
   ]
  },
  {
   "cell_type": "code",
   "execution_count": 56,
   "id": "0a20a101",
   "metadata": {},
   "outputs": [
    {
     "name": "stdout",
     "output_type": "stream",
     "text": [
      "{1: 1, 2: 1, 4: 3, 5: 1, 6: 1, 7: 2, 8: 1, 9: 1, 66: 1}\n",
      "<class 'dict'>\n"
     ]
    }
   ],
   "source": [
    "print(k)\n",
    "print(type(k))"
   ]
  },
  {
   "cell_type": "code",
   "execution_count": 27,
   "id": "705405fc",
   "metadata": {},
   "outputs": [
    {
     "name": "stdout",
     "output_type": "stream",
     "text": [
      "3\n",
      "1869356814912\n"
     ]
    }
   ],
   "source": [
    "print(tl.count(4))\n",
    "print(id(tl))\n"
   ]
  },
  {
   "cell_type": "code",
   "execution_count": 17,
   "id": "ff822a10",
   "metadata": {},
   "outputs": [
    {
     "data": {
      "text/plain": [
       "152"
      ]
     },
     "execution_count": 17,
     "metadata": {},
     "output_type": "execute_result"
    }
   ],
   "source": [
    "sys.getsizeof(pi)"
   ]
  },
  {
   "cell_type": "code",
   "execution_count": 25,
   "id": "683d2b0f",
   "metadata": {},
   "outputs": [
    {
     "data": {
      "text/plain": [
       "11"
      ]
     },
     "execution_count": 25,
     "metadata": {},
     "output_type": "execute_result"
    }
   ],
   "source": [
    "len(tl)"
   ]
  },
  {
   "cell_type": "code",
   "execution_count": 46,
   "id": "244fb95b",
   "metadata": {},
   "outputs": [],
   "source": [
    "j= [\"mam\",\"dad\",\"lion\",\"rrr\",\"ooo\"]"
   ]
  },
  {
   "cell_type": "code",
   "execution_count": 54,
   "id": "a845b921",
   "metadata": {},
   "outputs": [],
   "source": [
    "op=[]\n",
    "for i in j:\n",
    "    if j.reverse():\n",
    "        op.append(i)"
   ]
  },
  {
   "cell_type": "code",
   "execution_count": 55,
   "id": "c368de62",
   "metadata": {},
   "outputs": [
    {
     "name": "stdout",
     "output_type": "stream",
     "text": [
      "[]\n"
     ]
    }
   ],
   "source": [
    "print(op)"
   ]
  },
  {
   "cell_type": "code",
   "execution_count": 84,
   "id": "2793d3e7",
   "metadata": {},
   "outputs": [],
   "source": [
    "ti = (0,1,2,5,4,6,7,8,9,4,5,6,4,5,25)"
   ]
  },
  {
   "cell_type": "markdown",
   "id": "7889d90d",
   "metadata": {},
   "source": [
    "# len function in tuple:\n"
   ]
  },
  {
   "cell_type": "code",
   "execution_count": 85,
   "id": "d9e4c681",
   "metadata": {},
   "outputs": [
    {
     "data": {
      "text/plain": [
       "15"
      ]
     },
     "execution_count": 85,
     "metadata": {},
     "output_type": "execute_result"
    }
   ],
   "source": [
    "len(ti)"
   ]
  },
  {
   "cell_type": "markdown",
   "id": "11781b05",
   "metadata": {},
   "source": [
    "# max funiction in tuple;"
   ]
  },
  {
   "cell_type": "code",
   "execution_count": 86,
   "id": "9d15cc7d",
   "metadata": {},
   "outputs": [
    {
     "data": {
      "text/plain": [
       "25"
      ]
     },
     "execution_count": 86,
     "metadata": {},
     "output_type": "execute_result"
    }
   ],
   "source": [
    "y=max(ti)\n",
    "y"
   ]
  },
  {
   "cell_type": "markdown",
   "id": "f2aa7cab",
   "metadata": {},
   "source": [
    "# min function in tuple;"
   ]
  },
  {
   "cell_type": "code",
   "execution_count": 87,
   "id": "c8b88aee",
   "metadata": {},
   "outputs": [
    {
     "data": {
      "text/plain": [
       "0"
      ]
     },
     "execution_count": 87,
     "metadata": {},
     "output_type": "execute_result"
    }
   ],
   "source": [
    "y1= min(ti)\n",
    "y1"
   ]
  },
  {
   "cell_type": "markdown",
   "id": "1d7f1910",
   "metadata": {},
   "source": [
    "# index function in tuple;"
   ]
  },
  {
   "cell_type": "code",
   "execution_count": 91,
   "id": "651fe912",
   "metadata": {},
   "outputs": [
    {
     "name": "stdout",
     "output_type": "stream",
     "text": [
      "3\n",
      "<class 'int'>\n"
     ]
    }
   ],
   "source": [
    "y2 = ti.index(5)\n",
    "print(y2)\n",
    "print(type(y2))"
   ]
  },
  {
   "cell_type": "markdown",
   "id": "dba7f387",
   "metadata": {},
   "source": [
    "# count function in tuple:"
   ]
  },
  {
   "cell_type": "code",
   "execution_count": 94,
   "id": "c5da7616",
   "metadata": {},
   "outputs": [
    {
     "name": "stdout",
     "output_type": "stream",
     "text": [
      "1\n",
      "<class 'int'>\n"
     ]
    }
   ],
   "source": [
    "y3 = ti.count(2)\n",
    "print(y3)\n",
    "print(type(y3))"
   ]
  },
  {
   "cell_type": "markdown",
   "id": "36c9896e",
   "metadata": {},
   "source": [
    "# tuple:- its is used to create different types of values into tuple:\n",
    "# convert list into tuple;"
   ]
  },
  {
   "cell_type": "code",
   "execution_count": 95,
   "id": "11a9d8fe",
   "metadata": {},
   "outputs": [
    {
     "name": "stdout",
     "output_type": "stream",
     "text": [
      "(1, 2, 6, 7, 8, 9, 4, 5, 6, 4, 5, 1, 2, 3, 6, 4, 5, 7)\n"
     ]
    }
   ],
   "source": [
    "o = [1,2,6,7,8,9,4,5,6,4,5,1,2,3,6,4,5,7]\n",
    "y4 = tuple(o)\n",
    "print(y4)"
   ]
  },
  {
   "cell_type": "markdown",
   "id": "bf881d87",
   "metadata": {},
   "source": [
    "# convert into tuple in list:"
   ]
  },
  {
   "cell_type": "code",
   "execution_count": 96,
   "id": "dd11fa9e",
   "metadata": {},
   "outputs": [
    {
     "name": "stdout",
     "output_type": "stream",
     "text": [
      "[1, 2, 6, 7, 8, 9, 4, 5, 6, 4, 5, 1, 2, 3, 6, 4, 5, 7]\n"
     ]
    }
   ],
   "source": [
    "y5 = list(y4)\n",
    "print(y5)"
   ]
  },
  {
   "cell_type": "code",
   "execution_count": 1,
   "id": "d9976c32",
   "metadata": {},
   "outputs": [],
   "source": [
    "j = (2,6,4,5,7,8,9)"
   ]
  },
  {
   "cell_type": "code",
   "execution_count": 3,
   "id": "7697af82",
   "metadata": {},
   "outputs": [
    {
     "name": "stdout",
     "output_type": "stream",
     "text": [
      "[2, 6, 4, 5, 7, 8, 9]\n"
     ]
    }
   ],
   "source": [
    "hh = list(j)\n",
    "print(hh)"
   ]
  },
  {
   "cell_type": "markdown",
   "id": "41df0d92",
   "metadata": {},
   "source": [
    "# add two tuple in one another tuple;"
   ]
  },
  {
   "cell_type": "code",
   "execution_count": 98,
   "id": "8a5b7217",
   "metadata": {},
   "outputs": [],
   "source": [
    "h1=(1,2,5,4,5,6,4,5,6,7)\n",
    "h2=(5,6,4,6,4,4,5,4)"
   ]
  },
  {
   "cell_type": "code",
   "execution_count": 108,
   "id": "5d100ada",
   "metadata": {},
   "outputs": [],
   "source": [
    "i4 = h1 + h2"
   ]
  },
  {
   "cell_type": "code",
   "execution_count": 110,
   "id": "36e55f3f",
   "metadata": {},
   "outputs": [],
   "source": [
    "i4 =(1, 2, 5, 4, 5, 6, 4, 5, 6, 7, 5, 6, 4, 6, 4, 4, 5, 4)"
   ]
  },
  {
   "cell_type": "code",
   "execution_count": 119,
   "id": "1952e67f",
   "metadata": {},
   "outputs": [
    {
     "name": "stdout",
     "output_type": "stream",
     "text": [
      "[1, 2, 5, 4, 5, 6, 4, 5, 6, 7, 5, 6, 4, 6, 4, 4, 5, 4]\n"
     ]
    }
   ],
   "source": [
    "i5 = list(i4)\n",
    "print(i5)"
   ]
  },
  {
   "cell_type": "code",
   "execution_count": 120,
   "id": "c3cad2fc",
   "metadata": {},
   "outputs": [
    {
     "name": "stdout",
     "output_type": "stream",
     "text": [
      "200\n"
     ]
    }
   ],
   "source": [
    "print(sys.getsizeof(i5))"
   ]
  },
  {
   "cell_type": "code",
   "execution_count": 118,
   "id": "f4bffce5",
   "metadata": {},
   "outputs": [
    {
     "name": "stdout",
     "output_type": "stream",
     "text": [
      "184\n"
     ]
    }
   ],
   "source": [
    "print(sys.getsizeof(i4))"
   ]
  },
  {
   "cell_type": "code",
   "execution_count": 113,
   "id": "7535c212",
   "metadata": {},
   "outputs": [
    {
     "data": {
      "text/plain": [
       "{1: 1, 2: 1, 5: 5, 4: 6, 6: 4, 7: 1}"
      ]
     },
     "execution_count": 113,
     "metadata": {},
     "output_type": "execute_result"
    }
   ],
   "source": [
    "i1= {}\n",
    "for i in i4:\n",
    "    if i not in i1:\n",
    "        i1[i] = 1\n",
    "    else:\n",
    "        i1[i] += 1\n",
    "i1"
   ]
  },
  {
   "cell_type": "code",
   "execution_count": 116,
   "id": "63dc175e",
   "metadata": {},
   "outputs": [
    {
     "name": "stdout",
     "output_type": "stream",
     "text": [
      "18\n",
      "<class 'tuple'>\n"
     ]
    }
   ],
   "source": [
    "print(len(i4))\n",
    "print(type(i4))"
   ]
  },
  {
   "cell_type": "code",
   "execution_count": 1,
   "id": "c3c9ebe1",
   "metadata": {},
   "outputs": [
    {
     "name": "stdout",
     "output_type": "stream",
     "text": [
      "('A', 'N', 'U', 'R', 'A', 'G')\n"
     ]
    }
   ],
   "source": [
    "t5 = tuple(\"ANURAG\")\n",
    "print(t5)"
   ]
  },
  {
   "cell_type": "code",
   "execution_count": 2,
   "id": "3b70c22f",
   "metadata": {},
   "outputs": [
    {
     "data": {
      "text/plain": [
       "6"
      ]
     },
     "execution_count": 2,
     "metadata": {},
     "output_type": "execute_result"
    }
   ],
   "source": [
    "len(t5)"
   ]
  },
  {
   "attachments": {},
   "cell_type": "markdown",
   "id": "227910d5",
   "metadata": {},
   "source": [
    "This is my final code to write here."
   ]
  },
  {
   "cell_type": "code",
   "execution_count": 1,
   "id": "074c2e2f",
   "metadata": {},
   "outputs": [
    {
     "name": "stdout",
     "output_type": "stream",
     "text": [
      "['A', 'n', 'u', 'r', 'a', 'g']\n"
     ]
    }
   ],
   "source": [
    "it = list('Anurag')\n",
    "print(it)"
   ]
  },
  {
   "cell_type": "markdown",
   "id": "ea9e71f1",
   "metadata": {},
   "source": [
    "# unpacking of tuple:-\n"
   ]
  },
  {
   "cell_type": "code",
   "execution_count": 5,
   "id": "4480e23d",
   "metadata": {},
   "outputs": [
    {
     "name": "stdout",
     "output_type": "stream",
     "text": [
      "2 3 8 4\n"
     ]
    }
   ],
   "source": [
    "a, b, c, d, = 2, 3, 4, 8\n",
    "print(a,b,d,c)"
   ]
  },
  {
   "cell_type": "markdown",
   "id": "9d8f4c78",
   "metadata": {},
   "source": [
    "# Tuple Operations:-"
   ]
  },
  {
   "cell_type": "code",
   "execution_count": 13,
   "id": "c4b8425d",
   "metadata": {},
   "outputs": [
    {
     "data": {
      "text/plain": [
       "0"
      ]
     },
     "execution_count": 13,
     "metadata": {},
     "output_type": "execute_result"
    }
   ],
   "source": [
    "# Count;\n",
    "t22 = (1,5,2,4,51,6,9,8,7,4)\n",
    "t22.count(89)"
   ]
  },
  {
   "cell_type": "markdown",
   "id": "d7c9246c",
   "metadata": {},
   "source": [
    "# indexing in tuple;"
   ]
  },
  {
   "cell_type": "code",
   "execution_count": 14,
   "id": "4a368099",
   "metadata": {},
   "outputs": [
    {
     "data": {
      "text/plain": [
       "4"
      ]
     },
     "execution_count": 14,
     "metadata": {},
     "output_type": "execute_result"
    }
   ],
   "source": [
    "t22.index(51)"
   ]
  },
  {
   "cell_type": "markdown",
   "id": "cac411f4",
   "metadata": {},
   "source": [
    "# Iteration in tuple;"
   ]
  },
  {
   "cell_type": "code",
   "execution_count": 18,
   "id": "3e29593e",
   "metadata": {},
   "outputs": [
    {
     "name": "stdout",
     "output_type": "stream",
     "text": [
      "1, 125, 8, 64, 132651, 216, 729, 512, 343, 64, "
     ]
    }
   ],
   "source": [
    "for i in t22:\n",
    "    print(i ** 3, end = \", \")"
   ]
  },
  {
   "cell_type": "code",
   "execution_count": null,
   "id": "2275565c",
   "metadata": {},
   "outputs": [],
   "source": []
  },
  {
   "cell_type": "markdown",
   "id": "1b70f7dc",
   "metadata": {},
   "source": [
    "# Concatenation(+, *):-"
   ]
  }
 ],
 "metadata": {
  "kernelspec": {
   "display_name": "Python 3 (ipykernel)",
   "language": "python",
   "name": "python3"
  },
  "language_info": {
   "codemirror_mode": {
    "name": "ipython",
    "version": 3
   },
   "file_extension": ".py",
   "mimetype": "text/x-python",
   "name": "python",
   "nbconvert_exporter": "python",
   "pygments_lexer": "ipython3",
   "version": "3.10.10"
  }
 },
 "nbformat": 4,
 "nbformat_minor": 5
}
