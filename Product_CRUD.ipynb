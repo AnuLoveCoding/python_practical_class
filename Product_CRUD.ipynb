{
 "cells": [
  {
   "cell_type": "code",
   "execution_count": 2,
   "metadata": {},
   "outputs": [],
   "source": [
    "import pickle"
   ]
  },
  {
   "cell_type": "code",
   "execution_count": 3,
   "metadata": {},
   "outputs": [],
   "source": [
    "product_id = 784591\n",
    "store_inventry = {}"
   ]
  },
  {
   "cell_type": "code",
   "execution_count": 4,
   "metadata": {},
   "outputs": [],
   "source": [
    "class product:\n",
    "    def __init__(self, name, price, product_id):\n",
    "        self.name = name\n",
    "        self.price = price\n",
    "        self.product_id = product_id\n",
    "\n",
    "    def __repr__(self):\n",
    "        return (f\"{self.name} , {self.price}\")"
   ]
  },
  {
   "cell_type": "code",
   "execution_count": 5,
   "metadata": {},
   "outputs": [],
   "source": [
    "class product_CRUD:\n",
    "    @staticmethod\n",
    "    def create(name, price):\n",
    "        global product_id\n",
    "        global store_inventry\n",
    "        bag = product(name, price, product_id)\n",
    "        store_inventry[product_id] = bag\n",
    "        product_id += 67\n",
    "\n",
    "    @staticmethod\n",
    "    def read(product_id):\n",
    "        if product_id in store_inventry:\n",
    "            print(store_inventry[product_id])\n",
    "        else:\n",
    "            print('Product does not exist')\n",
    "\n",
    "    @staticmethod\n",
    "    def update(name, price, product_id):\n",
    "        if product_id in store_inventry:\n",
    "            store_inventry[product_id] = product(name, price,product_id)\n",
    "        else:\n",
    "            print(\"I can't unbale to update the product\")\n",
    "\n",
    "    @staticmethod\n",
    "    def delete(product_id):\n",
    "        if product_id not in store_inventry:\n",
    "            print(\"Product does not exist\")\n",
    "        else:\n",
    "            del(store_inventry[product_id])\n",
    "\n"
   ]
  },
  {
   "cell_type": "code",
   "execution_count": 15,
   "metadata": {},
   "outputs": [
    {
     "name": "stdout",
     "output_type": "stream",
     "text": [
      "{784591: life-buoy , 88, 784658: wheel , 120, 784725: mango_juice , 89, 784792: apple_juice , 157}\n"
     ]
    }
   ],
   "source": [
    "pr"
   ]
  }
 ],
 "metadata": {
  "kernelspec": {
   "display_name": "Python 3",
   "language": "python",
   "name": "python3"
  },
  "language_info": {
   "codemirror_mode": {
    "name": "ipython",
    "version": 3
   },
   "file_extension": ".py",
   "mimetype": "text/x-python",
   "name": "python",
   "nbconvert_exporter": "python",
   "pygments_lexer": "ipython3",
   "version": "3.10.10"
  },
  "orig_nbformat": 4
 },
 "nbformat": 4,
 "nbformat_minor": 2
}
