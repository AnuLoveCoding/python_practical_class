{
 "cells": [
  {
   "cell_type": "code",
   "execution_count": 52,
   "metadata": {},
   "outputs": [],
   "source": [
    "n = 4"
   ]
  },
  {
   "cell_type": "code",
   "execution_count": 53,
   "metadata": {},
   "outputs": [],
   "source": [
    "# 1 2 3 4 5\n",
    "# 1 - - - 5\n",
    "# 1 - - - 5\n",
    "# 1 - - - 5\n",
    "# 1 2 3 4 5"
   ]
  },
  {
   "cell_type": "code",
   "execution_count": 54,
   "metadata": {},
   "outputs": [
    {
     "name": "stdout",
     "output_type": "stream",
     "text": [
      "1 2 3 4 \n",
      "1 - - 4 \n",
      "1 - - 4 \n",
      "1 2 3 4 \n"
     ]
    }
   ],
   "source": [
    "for i in range(n):\n",
    "    for j in range(1 , n + 1):\n",
    "        if i % (n - 1) == 0 or j == 1 or j == n:\n",
    "            print(j, end = \" \")\n",
    "        else:\n",
    "            print('-', end = \" \")\n",
    "    \n",
    "    print()\n",
    "        \n"
   ]
  },
  {
   "cell_type": "code",
   "execution_count": 55,
   "metadata": {},
   "outputs": [
    {
     "name": "stdout",
     "output_type": "stream",
     "text": [
      "1 2 3 4 \n",
      "1 - - 4 \n",
      "1 - - 4 \n",
      "1 2 3 4 \n"
     ]
    }
   ],
   "source": [
    "for i in range(n):\n",
    "    if i % (n - 1) == 0:\n",
    "        for j in range(1 , n + 1):\n",
    "            print(j , end =\" \")\n",
    "    else:\n",
    "        print(1, end = \" \")\n",
    "        for j in range(1, n - 1):\n",
    "            print('-', end = \" \")\n",
    "        print(n , end = ' ')\n",
    "\n",
    "    print()"
   ]
  },
  {
   "cell_type": "code",
   "execution_count": 56,
   "metadata": {},
   "outputs": [],
   "source": [
    "# - - - - -\n",
    "# - 1 2 3 -\n",
    "# - 1 2 3 -\n",
    "# - 1 2 3 -\n",
    "# - - - - -"
   ]
  },
  {
   "cell_type": "code",
   "execution_count": 57,
   "metadata": {},
   "outputs": [
    {
     "name": "stdout",
     "output_type": "stream",
     "text": [
      "- - - - \n",
      "- 1 2 - \n",
      "- 1 2 - \n",
      "- - - - \n"
     ]
    }
   ],
   "source": [
    "for i in range(n):\n",
    "    if i % (n - 1) == 0:\n",
    "        for j in range(n):\n",
    "            print('-', end = \" \")\n",
    "    else:\n",
    "        print('-', end = \" \")\n",
    "        for j in range(1, n - 1):\n",
    "            print(j, end = ' ')\n",
    "        print('-', end = \" \")\n",
    "    print()"
   ]
  },
  {
   "cell_type": "code",
   "execution_count": 58,
   "metadata": {},
   "outputs": [],
   "source": [
    "# * * * * * * * \n",
    "# - * * * * * -\n",
    "# - - * * * - -\n",
    "# - - - * - - -\n",
    "# - - * * * - -\n",
    "# - * * * * * -\n",
    "# * * * * * * *"
   ]
  },
  {
   "cell_type": "code",
   "execution_count": 59,
   "metadata": {},
   "outputs": [],
   "source": [
    "o = 4\n",
    "m = 7"
   ]
  },
  {
   "cell_type": "code",
   "execution_count": 78,
   "metadata": {},
   "outputs": [
    {
     "name": "stdout",
     "output_type": "stream",
     "text": [
      "* * * * * * * \n",
      "  * * * * * \n",
      "    * * * \n",
      "      * \n"
     ]
    }
   ],
   "source": [
    "for i in range(o):\n",
    "    for j in range(i):\n",
    "        print(' ', end =\" \")\n",
    "\n",
    "    for j in range(m - 2*i):\n",
    "        print('*', end = \" \")\n",
    "    print()"
   ]
  },
  {
   "cell_type": "code",
   "execution_count": 89,
   "metadata": {},
   "outputs": [
    {
     "name": "stdout",
     "output_type": "stream",
     "text": [
      "    * * * \n",
      "  * * * * * \n",
      "* * * * * * * \n"
     ]
    }
   ],
   "source": [
    "for i in range(o - 2, -1, -1):\n",
    "    for j in range(i):\n",
    "        print(' ', end =\" \")\n",
    "\n",
    "    for j in range(m - 2*i):\n",
    "        print('*', end = \" \")\n",
    "    print()"
   ]
  },
  {
   "cell_type": "code",
   "execution_count": 90,
   "metadata": {},
   "outputs": [
    {
     "name": "stdout",
     "output_type": "stream",
     "text": [
      "* * * * * * * \n",
      "  * * * * * \n",
      "    * * * \n",
      "      * \n",
      "    * * * \n",
      "  * * * * * \n",
      "* * * * * * * \n"
     ]
    }
   ],
   "source": [
    "for i in range(o):\n",
    "    for j in range(i):\n",
    "        print(' ', end =\" \")\n",
    "\n",
    "    for j in range(m - 2*i):\n",
    "        print('*', end = \" \")\n",
    "    print()\n",
    "\n",
    "for i in range(o - 2, -1, -1):\n",
    "    for j in range(i):\n",
    "        print(' ', end =\" \")\n",
    "\n",
    "    for j in range(m - 2*i):\n",
    "        print('*', end = \" \")\n",
    "    print()"
   ]
  }
 ],
 "metadata": {
  "kernelspec": {
   "display_name": "Python 3",
   "language": "python",
   "name": "python3"
  },
  "language_info": {
   "codemirror_mode": {
    "name": "ipython",
    "version": 3
   },
   "file_extension": ".py",
   "mimetype": "text/x-python",
   "name": "python",
   "nbconvert_exporter": "python",
   "pygments_lexer": "ipython3",
   "version": "3.10.10"
  },
  "orig_nbformat": 4
 },
 "nbformat": 4,
 "nbformat_minor": 2
}
