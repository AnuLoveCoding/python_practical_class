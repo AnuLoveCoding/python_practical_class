{
 "cells": [
  {
   "cell_type": "code",
   "execution_count": null,
   "id": "7cadfbea",
   "metadata": {},
   "outputs": [],
   "source": [
    "# DocString:"
   ]
  },
  {
   "cell_type": "code",
   "execution_count": 12,
   "id": "7225f09e",
   "metadata": {},
   "outputs": [],
   "source": [
    "def name():\n",
    "    '''this is my first string name'''\n",
    "    print(\"Anurag\")"
   ]
  },
  {
   "cell_type": "code",
   "execution_count": 13,
   "id": "d913b4d5",
   "metadata": {},
   "outputs": [
    {
     "name": "stdout",
     "output_type": "stream",
     "text": [
      "this is my first string name\n"
     ]
    }
   ],
   "source": [
    "print(name.__doc__)"
   ]
  },
  {
   "cell_type": "code",
   "execution_count": 16,
   "id": "c685617b",
   "metadata": {},
   "outputs": [],
   "source": [
    "def add(n1, n2):\n",
    "    \"\"\"This is my first addition between two numbers...\"\"\"\n",
    "    return n1 + n2"
   ]
  },
  {
   "cell_type": "code",
   "execution_count": 17,
   "id": "b1b46790",
   "metadata": {},
   "outputs": [
    {
     "name": "stdout",
     "output_type": "stream",
     "text": [
      "This is my first addition between two numbers...\n"
     ]
    }
   ],
   "source": [
    "print(add.__doc__)"
   ]
  },
  {
   "cell_type": "code",
   "execution_count": 18,
   "id": "55d62d6c",
   "metadata": {},
   "outputs": [
    {
     "name": "stdout",
     "output_type": "stream",
     "text": [
      "17\n"
     ]
    }
   ],
   "source": [
    "print(add(8,9))"
   ]
  },
  {
   "cell_type": "code",
   "execution_count": 19,
   "id": "c4171b7f",
   "metadata": {},
   "outputs": [
    {
     "name": "stdout",
     "output_type": "stream",
     "text": [
      "Help on function add in module __main__:\n",
      "\n",
      "add(n1, n2)\n",
      "    This is my first addition between two numbers...\n",
      "\n"
     ]
    }
   ],
   "source": [
    "help(add)"
   ]
  },
  {
   "cell_type": "code",
   "execution_count": 20,
   "id": "cf4bac0c",
   "metadata": {},
   "outputs": [
    {
     "name": "stdout",
     "output_type": "stream",
     "text": [
      "Help on built-in function len in module builtins:\n",
      "\n",
      "len(obj, /)\n",
      "    Return the number of items in a container.\n",
      "\n"
     ]
    }
   ],
   "source": [
    "help(len)"
   ]
  },
  {
   "cell_type": "code",
   "execution_count": null,
   "id": "6abe82c6",
   "metadata": {},
   "outputs": [],
   "source": []
  },
  {
   "cell_type": "code",
   "execution_count": null,
   "id": "8e6899b2",
   "metadata": {},
   "outputs": [],
   "source": []
  },
  {
   "cell_type": "code",
   "execution_count": null,
   "id": "114bd914",
   "metadata": {},
   "outputs": [],
   "source": []
  }
 ],
 "metadata": {
  "kernelspec": {
   "display_name": "Python 3 (ipykernel)",
   "language": "python",
   "name": "python3"
  },
  "language_info": {
   "codemirror_mode": {
    "name": "ipython",
    "version": 3
   },
   "file_extension": ".py",
   "mimetype": "text/x-python",
   "name": "python",
   "nbconvert_exporter": "python",
   "pygments_lexer": "ipython3",
   "version": "3.9.13"
  }
 },
 "nbformat": 4,
 "nbformat_minor": 5
}
