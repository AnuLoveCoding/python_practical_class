{
 "cells": [
  {
   "cell_type": "code",
   "execution_count": 14,
   "id": "8f2f1cff",
   "metadata": {},
   "outputs": [],
   "source": [
    "class girl:\n",
    "    def __init__(self, eye, nose, long_hair, legs, name, sound):\n",
    "        self.eye = eye\n",
    "        self.nose = nose\n",
    "        self.long_hair = long_hair\n",
    "        self.legs = legs\n",
    "        self.name = name\n",
    "        self.sound = sound\n",
    "        \n",
    "    def __repr__(self):\n",
    "        return f\"{self.eye},{self.nose},{self.long_hair},{self.legs},{self.name},{self.sound}\"\n",
    "        "
   ]
  },
  {
   "cell_type": "code",
   "execution_count": 15,
   "id": "ec0f4cdd",
   "metadata": {},
   "outputs": [],
   "source": [
    "girl1 = girl(2, 2, 'yes', 2,'margelin','cook')\n",
    "girl2 = girl(1, 1 , 'No', 1, 'kite','mee - mee')"
   ]
  },
  {
   "cell_type": "code",
   "execution_count": 4,
   "id": "b8661012",
   "metadata": {},
   "outputs": [
    {
     "name": "stdout",
     "output_type": "stream",
     "text": [
      "2,2,yes,2,margelin\n"
     ]
    }
   ],
   "source": [
    "print(girl1)"
   ]
  },
  {
   "cell_type": "code",
   "execution_count": 16,
   "id": "38087482",
   "metadata": {},
   "outputs": [
    {
     "name": "stdout",
     "output_type": "stream",
     "text": [
      "1,1,No,1,kite,mee - mee\n"
     ]
    }
   ],
   "source": [
    "print(girl2)"
   ]
  },
  {
   "cell_type": "code",
   "execution_count": 11,
   "id": "cd31c0a9",
   "metadata": {},
   "outputs": [
    {
     "name": "stdout",
     "output_type": "stream",
     "text": [
      "2,2,yes,2,margelin   1,1,No,1,kite\n"
     ]
    }
   ],
   "source": [
    "print(girl1 , \" \" , girl2)"
   ]
  },
  {
   "cell_type": "code",
   "execution_count": 12,
   "id": "46641496",
   "metadata": {},
   "outputs": [],
   "source": [
    "gg = [girl1 , \" \", girl2]"
   ]
  },
  {
   "cell_type": "code",
   "execution_count": 13,
   "id": "046d7dae",
   "metadata": {},
   "outputs": [
    {
     "name": "stdout",
     "output_type": "stream",
     "text": [
      "[2,2,yes,2,margelin, ' ', 1,1,No,1,kite]\n"
     ]
    }
   ],
   "source": [
    "print(gg)"
   ]
  },
  {
   "cell_type": "code",
   "execution_count": null,
   "id": "7f05b019",
   "metadata": {},
   "outputs": [],
   "source": []
  },
  {
   "cell_type": "code",
   "execution_count": null,
   "id": "46dd0736",
   "metadata": {},
   "outputs": [],
   "source": []
  }
 ],
 "metadata": {
  "kernelspec": {
   "display_name": "Python 3 (ipykernel)",
   "language": "python",
   "name": "python3"
  },
  "language_info": {
   "codemirror_mode": {
    "name": "ipython",
    "version": 3
   },
   "file_extension": ".py",
   "mimetype": "text/x-python",
   "name": "python",
   "nbconvert_exporter": "python",
   "pygments_lexer": "ipython3",
   "version": "3.9.13"
  }
 },
 "nbformat": 4,
 "nbformat_minor": 5
}
