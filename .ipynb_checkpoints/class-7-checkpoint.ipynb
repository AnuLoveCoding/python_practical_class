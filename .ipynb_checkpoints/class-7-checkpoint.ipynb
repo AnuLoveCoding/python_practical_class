{
 "cells": [
  {
   "cell_type": "markdown",
   "id": "b87b3079",
   "metadata": {},
   "source": [
    "# repeat in number in list;"
   ]
  },
  {
   "cell_type": "code",
   "execution_count": 1,
   "id": "6ed558f8",
   "metadata": {},
   "outputs": [
    {
     "data": {
      "text/plain": [
       "[1, 1, 2, 4, 5, 4, 1, 2, 4, 5, 6, 4, 3]"
      ]
     },
     "execution_count": 1,
     "metadata": {},
     "output_type": "execute_result"
    }
   ],
   "source": [
    "m = [1,1,2,4,5,4,1,2,4,5,6,4,3]\n",
    "m"
   ]
  },
  {
   "cell_type": "code",
   "execution_count": 2,
   "id": "31fd588f",
   "metadata": {
    "scrolled": true
   },
   "outputs": [
    {
     "data": {
      "text/plain": [
       "{1: 3, 2: 2, 4: 4, 5: 2, 6: 1, 3: 1}"
      ]
     },
     "execution_count": 2,
     "metadata": {},
     "output_type": "execute_result"
    }
   ],
   "source": [
    "x= {}\n",
    "for i in m:\n",
    "    if i not in x:\n",
    "        x[i] = 1\n",
    "    else:\n",
    "        x[i] += 1\n",
    "x"
   ]
  },
  {
   "cell_type": "code",
   "execution_count": null,
   "id": "5f09cb31",
   "metadata": {},
   "outputs": [],
   "source": []
  },
  {
   "cell_type": "code",
   "execution_count": 2,
   "id": "1adc3672",
   "metadata": {},
   "outputs": [
    {
     "data": {
      "text/plain": [
       "['apple', 'samosa', 'apple', 'cherry', 'pine-apple', 'cherry']"
      ]
     },
     "execution_count": 2,
     "metadata": {},
     "output_type": "execute_result"
    }
   ],
   "source": [
    "lk = [\"apple\",\"samosa\",\"apple\",\"cherry\",\"pine-apple\",\"cherry\"]"
   ]
  },
  {
   "cell_type": "code",
   "execution_count": 4,
   "id": "339be16a",
   "metadata": {},
   "outputs": [],
   "source": [
    "kl={}\n",
    "for i in lk:\n",
    "    if i not in kl:\n",
    "        kl[i] = 1\n",
    "    else:\n",
    "        kl[i] += 2"
   ]
  },
  {
   "cell_type": "code",
   "execution_count": 5,
   "id": "e7a03412",
   "metadata": {},
   "outputs": [
    {
     "name": "stdout",
     "output_type": "stream",
     "text": [
      "{'apple': 3, 'samosa': 1, 'cherry': 3, 'pine-apple': 1}\n"
     ]
    }
   ],
   "source": [
    "print(kl)"
   ]
  },
  {
   "cell_type": "code",
   "execution_count": null,
   "id": "fa4a472a",
   "metadata": {},
   "outputs": [],
   "source": []
  },
  {
   "cell_type": "markdown",
   "id": "6162acf4",
   "metadata": {},
   "source": [
    "# swapping the list;"
   ]
  },
  {
   "cell_type": "code",
   "execution_count": 2,
   "id": "54ddcc85",
   "metadata": {},
   "outputs": [],
   "source": [
    "o = [0,2,3,5,4,6,7,8,9,7,8,4,5,6]\n",
    "o[2],o[6]=o[6],o[2]"
   ]
  },
  {
   "cell_type": "code",
   "execution_count": 15,
   "id": "052cdfba",
   "metadata": {},
   "outputs": [
    {
     "data": {
      "text/plain": [
       "[8, 7, 9, 8, 45, 1, 2, 36, 6, 4, 7]"
      ]
     },
     "execution_count": 15,
     "metadata": {},
     "output_type": "execute_result"
    }
   ],
   "source": [
    "pp=[8,9,7,8,45,1,2,36,6,4,7]\n",
    "pp[2],pp[1]=pp[1],pp[2]\n",
    "pp"
   ]
  },
  {
   "cell_type": "code",
   "execution_count": null,
   "id": "c472b0c6",
   "metadata": {},
   "outputs": [],
   "source": []
  },
  {
   "cell_type": "markdown",
   "id": "7be3cc51",
   "metadata": {},
   "source": [
    "# sorted the list in ascending order:"
   ]
  },
  {
   "cell_type": "code",
   "execution_count": 17,
   "id": "421b4223",
   "metadata": {},
   "outputs": [
    {
     "data": {
      "text/plain": [
       "[0, 2, 3, 4, 4, 5, 5, 6, 6, 7, 7, 8, 8, 9]"
      ]
     },
     "execution_count": 17,
     "metadata": {},
     "output_type": "execute_result"
    }
   ],
   "source": [
    "for i in range(len(o)):\n",
    "    for j in range(i + 1,len(o)):\n",
    "        if o[i] > o[j]:\n",
    "            o[i],o[j] = o[j],o[i]"
   ]
  },
  {
   "cell_type": "code",
   "execution_count": 5,
   "id": "9f5629a4",
   "metadata": {},
   "outputs": [
    {
     "name": "stdout",
     "output_type": "stream",
     "text": [
      "[0, 2, 7, 5, 4, 6, 3, 8, 9, 7, 8, 4, 5, 6]\n",
      "<class 'list'>\n",
      "2367940095936\n"
     ]
    }
   ],
   "source": [
    "print(o)\n",
    "print(type(o))\n",
    "print(id(o))"
   ]
  },
  {
   "cell_type": "code",
   "execution_count": 40,
   "id": "dc0f4069",
   "metadata": {},
   "outputs": [],
   "source": [
    "po=[1,2,4,5,6,7,8,0,0,5,1,2,3,5,4,]\n",
    "\n",
    "for i in range(len(po)):\n",
    "    for j in range(i + 1, len(po)):\n",
    "        if po[i] > po[j]:\n",
    "            po[i],po[j] = po[j],po[i]\n",
    "            "
   ]
  },
  {
   "cell_type": "code",
   "execution_count": 41,
   "id": "32217b0d",
   "metadata": {},
   "outputs": [
    {
     "name": "stdout",
     "output_type": "stream",
     "text": [
      "[0, 0, 1, 1, 2, 2, 3, 4, 4, 5, 5, 5, 6, 7, 8]\n"
     ]
    }
   ],
   "source": [
    "print(po)"
   ]
  },
  {
   "cell_type": "code",
   "execution_count": null,
   "id": "64a9b42a",
   "metadata": {},
   "outputs": [],
   "source": []
  },
  {
   "cell_type": "code",
   "execution_count": 13,
   "id": "403772f9",
   "metadata": {},
   "outputs": [],
   "source": [
    "lo = [0,2,4,5,6,4,7,8,9,4,5,1,3,412,4,45,5,24,]\n",
    "\n",
    "for i in range(len(lo)):\n",
    "    for j in range(i + 1, len(lo)):\n",
    "        if lo[i] > lo[j]:\n",
    "            lo[i],lo[j] = lo[j],lo[i]"
   ]
  },
  {
   "cell_type": "code",
   "execution_count": 14,
   "id": "a2451ae9",
   "metadata": {},
   "outputs": [
    {
     "data": {
      "text/plain": [
       "[0, 1, 2, 3, 4, 4, 4, 4, 5, 5, 5, 6, 7, 8, 9, 24, 45, 412]"
      ]
     },
     "execution_count": 14,
     "metadata": {},
     "output_type": "execute_result"
    }
   ],
   "source": [
    "lo"
   ]
  },
  {
   "cell_type": "code",
   "execution_count": null,
   "id": "ecedaffe",
   "metadata": {},
   "outputs": [],
   "source": []
  },
  {
   "cell_type": "code",
   "execution_count": null,
   "id": "8be2692a",
   "metadata": {},
   "outputs": [],
   "source": []
  },
  {
   "cell_type": "code",
   "execution_count": null,
   "id": "d79e32fa",
   "metadata": {},
   "outputs": [],
   "source": []
  }
 ],
 "metadata": {
  "kernelspec": {
   "display_name": "Python 3 (ipykernel)",
   "language": "python",
   "name": "python3"
  },
  "language_info": {
   "codemirror_mode": {
    "name": "ipython",
    "version": 3
   },
   "file_extension": ".py",
   "mimetype": "text/x-python",
   "name": "python",
   "nbconvert_exporter": "python",
   "pygments_lexer": "ipython3",
   "version": "3.9.13"
  }
 },
 "nbformat": 4,
 "nbformat_minor": 5
}
