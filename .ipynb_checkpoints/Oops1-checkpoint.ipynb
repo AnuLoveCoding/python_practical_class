{
 "cells": [
  {
   "cell_type": "code",
   "execution_count": 54,
   "id": "3ee95d91",
   "metadata": {},
   "outputs": [],
   "source": [
    "# let's write a class for car:\n",
    "class car:\n",
    "    def __init__(self,model,xtype,color):\n",
    "        self.model = model\n",
    "        self.xtype = xtype\n",
    "        self.color = color\n",
    "        \n",
    "    def __str__(self):\n",
    "            return f\"{self.model},{self.xtype},{self.color}\""
   ]
  },
  {
   "cell_type": "code",
   "execution_count": 55,
   "id": "c8369702",
   "metadata": {},
   "outputs": [],
   "source": [
    "mercedes = car(\"clss5\", \"mercedes\", 'blue-grey')\n",
    "bmw = car(\"class3\",\"bm66\",\"red-white\")\n",
    "farrari = car('frr2','fclss','red')"
   ]
  },
  {
   "cell_type": "code",
   "execution_count": 56,
   "id": "6429a6d0",
   "metadata": {},
   "outputs": [
    {
     "name": "stdout",
     "output_type": "stream",
     "text": [
      "frr2,fclss,red\n"
     ]
    }
   ],
   "source": [
    "print(farrari)"
   ]
  },
  {
   "cell_type": "code",
   "execution_count": 53,
   "id": "10ca41ca",
   "metadata": {},
   "outputs": [],
   "source": [
    "class bike:  \n",
    "    def __init__(self, model, color, company):\n",
    "        self.model = model\n",
    "        self.color = color\n",
    "        self.company = company\n",
    "        \n",
    "    def __str__(self):\n",
    "        return f\"{self.model},{self.color},{self.company}\""
   ]
  },
  {
   "cell_type": "code",
   "execution_count": 50,
   "id": "c95f6f9e",
   "metadata": {},
   "outputs": [],
   "source": [
    "pulsar = bike('pul666', 'red-black', 'bajaj')"
   ]
  },
  {
   "cell_type": "code",
   "execution_count": 51,
   "id": "c7d222c7",
   "metadata": {},
   "outputs": [
    {
     "name": "stdout",
     "output_type": "stream",
     "text": [
      "pul666,red-black,bajaj\n"
     ]
    }
   ],
   "source": [
    "print(pulsar)"
   ]
  },
  {
   "cell_type": "code",
   "execution_count": 98,
   "id": "e56ee7d4",
   "metadata": {},
   "outputs": [],
   "source": [
    "class bikee:\n",
    "    def __init__(self, name, color, model):\n",
    "        self.name = name\n",
    "        self.color = color\n",
    "        self.model = model\n",
    "        \n",
    "    def __repr__(self):\n",
    "        return f\"{self.name},{self.color},{self.model}\""
   ]
  },
  {
   "cell_type": "code",
   "execution_count": 99,
   "id": "bff7cb17",
   "metadata": {},
   "outputs": [],
   "source": [
    "buy = bikee('pulasr', 'red-blue', 'pulasr260')\n",
    "buy2 = bikee('ktm', 'orange-black', 'ktm190')"
   ]
  },
  {
   "cell_type": "code",
   "execution_count": 100,
   "id": "a3346a71",
   "metadata": {},
   "outputs": [
    {
     "name": "stdout",
     "output_type": "stream",
     "text": [
      "pulasr,red-blue,pulasr260   ktm,orange-black,ktm190\n"
     ]
    }
   ],
   "source": [
    "print(buy,\" \", buy2)"
   ]
  },
  {
   "cell_type": "code",
   "execution_count": 101,
   "id": "8dd29ce5",
   "metadata": {},
   "outputs": [],
   "source": [
    "l = [buy,\" \" ,buy2]"
   ]
  },
  {
   "cell_type": "code",
   "execution_count": 102,
   "id": "fa44e32d",
   "metadata": {},
   "outputs": [
    {
     "name": "stdout",
     "output_type": "stream",
     "text": [
      "[pulasr,red-blue,pulasr260, ' ', ktm,orange-black,ktm190]\n"
     ]
    }
   ],
   "source": [
    "print(l)"
   ]
  },
  {
   "cell_type": "code",
   "execution_count": null,
   "id": "15cc8c05",
   "metadata": {},
   "outputs": [],
   "source": []
  },
  {
   "cell_type": "code",
   "execution_count": null,
   "id": "c62fd708",
   "metadata": {},
   "outputs": [],
   "source": []
  },
  {
   "cell_type": "code",
   "execution_count": null,
   "id": "b6c6a441",
   "metadata": {},
   "outputs": [],
   "source": []
  },
  {
   "cell_type": "code",
   "execution_count": null,
   "id": "cab19159",
   "metadata": {},
   "outputs": [],
   "source": []
  },
  {
   "cell_type": "code",
   "execution_count": null,
   "id": "c3ac5bcf",
   "metadata": {},
   "outputs": [],
   "source": []
  },
  {
   "cell_type": "code",
   "execution_count": null,
   "id": "6923c896",
   "metadata": {},
   "outputs": [],
   "source": []
  },
  {
   "cell_type": "code",
   "execution_count": null,
   "id": "f6736885",
   "metadata": {},
   "outputs": [],
   "source": []
  },
  {
   "cell_type": "code",
   "execution_count": null,
   "id": "c714d7f9",
   "metadata": {},
   "outputs": [],
   "source": []
  }
 ],
 "metadata": {
  "kernelspec": {
   "display_name": "Python 3 (ipykernel)",
   "language": "python",
   "name": "python3"
  },
  "language_info": {
   "codemirror_mode": {
    "name": "ipython",
    "version": 3
   },
   "file_extension": ".py",
   "mimetype": "text/x-python",
   "name": "python",
   "nbconvert_exporter": "python",
   "pygments_lexer": "ipython3",
   "version": "3.9.13"
  }
 },
 "nbformat": 4,
 "nbformat_minor": 5
}
