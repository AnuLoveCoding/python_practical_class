{
 "cells": [
  {
   "cell_type": "markdown",
   "id": "8da62112",
   "metadata": {},
   "source": [
    "# File Handling is a container in computer System for storing in data\n",
    "# Data is permanentely stored;"
   ]
  },
  {
   "cell_type": "markdown",
   "id": "e3952bef",
   "metadata": {},
   "source": [
    "# Types of files;\n",
    "# Text.\n",
    "# Binary."
   ]
  },
  {
   "cell_type": "markdown",
   "id": "879ec925",
   "metadata": {},
   "source": [
    "# Modes of opening of file:\n",
    "# 'r'  : read-only\n",
    "# 'w'  : write-only\n",
    "# 'a'  : appending the data when opening the file\n",
    "# 'wt' : write-text\n",
    "# 'wb' : write-binary\n",
    "# 'rb' : read-binary\n",
    "# 'rt' : read-text"
   ]
  },
  {
   "cell_type": "markdown",
   "id": "c448f5ca",
   "metadata": {},
   "source": [
    "# with open:-\n",
    "# most common way to perform operaton on file;\n",
    "# it's close the file after performing operation."
   ]
  },
  {
   "cell_type": "markdown",
   "id": "3825fc5a",
   "metadata": {},
   "source": [
    "# writing a file;\n",
    "# you can write both text and binary;\n",
    "# you can either write or append in a file."
   ]
  },
  {
   "cell_type": "markdown",
   "id": "09fdad47",
   "metadata": {},
   "source": [
    "# Reading :- # 1. using read method() we can read the file.\n",
    "# 2. it opens in read only format."
   ]
  },
  {
   "cell_type": "code",
   "execution_count": null,
   "id": "35d3532c",
   "metadata": {},
   "outputs": [],
   "source": []
  },
  {
   "cell_type": "code",
   "execution_count": null,
   "id": "a8179355",
   "metadata": {},
   "outputs": [],
   "source": []
  },
  {
   "cell_type": "code",
   "execution_count": null,
   "id": "ef07675d",
   "metadata": {},
   "outputs": [],
   "source": []
  },
  {
   "cell_type": "code",
   "execution_count": null,
   "id": "27331a67",
   "metadata": {},
   "outputs": [],
   "source": []
  },
  {
   "cell_type": "code",
   "execution_count": null,
   "id": "138f4808",
   "metadata": {},
   "outputs": [],
   "source": []
  },
  {
   "cell_type": "code",
   "execution_count": null,
   "id": "115c2db6",
   "metadata": {},
   "outputs": [],
   "source": []
  },
  {
   "cell_type": "code",
   "execution_count": null,
   "id": "05889c17",
   "metadata": {},
   "outputs": [],
   "source": []
  },
  {
   "cell_type": "code",
   "execution_count": null,
   "id": "9622fee7",
   "metadata": {},
   "outputs": [],
   "source": []
  },
  {
   "cell_type": "code",
   "execution_count": null,
   "id": "ed9f9125",
   "metadata": {},
   "outputs": [],
   "source": []
  },
  {
   "cell_type": "code",
   "execution_count": null,
   "id": "5b1585f2",
   "metadata": {},
   "outputs": [],
   "source": []
  },
  {
   "cell_type": "code",
   "execution_count": null,
   "id": "efe9b5fd",
   "metadata": {},
   "outputs": [],
   "source": []
  },
  {
   "cell_type": "code",
   "execution_count": null,
   "id": "2fee5973",
   "metadata": {},
   "outputs": [],
   "source": []
  },
  {
   "cell_type": "code",
   "execution_count": null,
   "id": "99fc734e",
   "metadata": {},
   "outputs": [],
   "source": []
  },
  {
   "cell_type": "code",
   "execution_count": null,
   "id": "2455386d",
   "metadata": {},
   "outputs": [],
   "source": []
  }
 ],
 "metadata": {
  "kernelspec": {
   "display_name": "Python 3 (ipykernel)",
   "language": "python",
   "name": "python3"
  },
  "language_info": {
   "codemirror_mode": {
    "name": "ipython",
    "version": 3
   },
   "file_extension": ".py",
   "mimetype": "text/x-python",
   "name": "python",
   "nbconvert_exporter": "python",
   "pygments_lexer": "ipython3",
   "version": "3.9.13"
  }
 },
 "nbformat": 4,
 "nbformat_minor": 5
}
