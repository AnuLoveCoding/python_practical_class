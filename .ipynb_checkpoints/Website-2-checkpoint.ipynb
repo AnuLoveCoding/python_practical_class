{
 "cells": [
  {
   "cell_type": "code",
   "execution_count": 1,
   "id": "cd7d20a7",
   "metadata": {},
   "outputs": [],
   "source": [
    "# create a login function for Netfilx website;"
   ]
  },
  {
   "cell_type": "code",
   "execution_count": 2,
   "id": "f43865ba",
   "metadata": {},
   "outputs": [],
   "source": [
    "user = {\n",
    "    \"Anurag\" : \"Anur124567\",\n",
    "    \"Rohit\"  : \"ROH0202\",\n",
    "    \"Virat\"  : \"VIR@546\"\n",
    "}"
   ]
  },
  {
   "cell_type": "code",
   "execution_count": 6,
   "id": "526e2d53",
   "metadata": {},
   "outputs": [],
   "source": [
    "def login(username, password, user):\n",
    "    if username not in user:\n",
    "         return (\"Sorry.. you username are invaild try again\")\n",
    "    elif user[username] == password:\n",
    "        return (\"Welcome to the Netflix-Faimly\")\n",
    "    else:\n",
    "        return (\"Your password in not-correct \")"
   ]
  },
  {
   "cell_type": "code",
   "execution_count": 9,
   "id": "05ddef33",
   "metadata": {},
   "outputs": [],
   "source": [
    "user.update({\"rahul\" : \"Raghu8790\"})"
   ]
  },
  {
   "cell_type": "code",
   "execution_count": 10,
   "id": "1252a02d",
   "metadata": {},
   "outputs": [
    {
     "data": {
      "text/plain": [
       "dict_keys(['Anurag', 'Rohit', 'Virat', 'rahul'])"
      ]
     },
     "execution_count": 10,
     "metadata": {},
     "output_type": "execute_result"
    }
   ],
   "source": [
    "user.keys()"
   ]
  },
  {
   "cell_type": "code",
   "execution_count": 12,
   "id": "c985b7e3",
   "metadata": {},
   "outputs": [
    {
     "data": {
      "text/plain": [
       "'Your password in not-correct '"
      ]
     },
     "execution_count": 12,
     "metadata": {},
     "output_type": "execute_result"
    }
   ],
   "source": [
    "login(\"Anurag\", \"Anur4567\", user)"
   ]
  },
  {
   "cell_type": "code",
   "execution_count": null,
   "id": "7959d8b2",
   "metadata": {},
   "outputs": [],
   "source": []
  },
  {
   "cell_type": "code",
   "execution_count": null,
   "id": "1a251c07",
   "metadata": {},
   "outputs": [],
   "source": []
  },
  {
   "cell_type": "code",
   "execution_count": null,
   "id": "0364dc85",
   "metadata": {},
   "outputs": [],
   "source": []
  },
  {
   "cell_type": "code",
   "execution_count": null,
   "id": "970ee55f",
   "metadata": {},
   "outputs": [],
   "source": []
  },
  {
   "cell_type": "code",
   "execution_count": null,
   "id": "a441f248",
   "metadata": {},
   "outputs": [],
   "source": []
  },
  {
   "cell_type": "code",
   "execution_count": null,
   "id": "0f78c685",
   "metadata": {},
   "outputs": [],
   "source": []
  }
 ],
 "metadata": {
  "kernelspec": {
   "display_name": "Python 3 (ipykernel)",
   "language": "python",
   "name": "python3"
  },
  "language_info": {
   "codemirror_mode": {
    "name": "ipython",
    "version": 3
   },
   "file_extension": ".py",
   "mimetype": "text/x-python",
   "name": "python",
   "nbconvert_exporter": "python",
   "pygments_lexer": "ipython3",
   "version": "3.9.13"
  }
 },
 "nbformat": 4,
 "nbformat_minor": 5
}
