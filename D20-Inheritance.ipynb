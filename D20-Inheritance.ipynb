{
 "cells": [
  {
   "cell_type": "markdown",
   "id": "c3642d32",
   "metadata": {},
   "source": [
    "# Inheritance:- when we define a class that inherits all the properties of other class is called as inheritance"
   ]
  },
  {
   "cell_type": "markdown",
   "id": "b1cb4134",
   "metadata": {},
   "source": [
    "# Types of Inheritance:- 1. single inheritance.\n",
    "# 2. multi inheritance.\n",
    "# 3. multi-level inheritance.\n",
    "# 4. hierarchical inheritance.\n",
    "# 5. hybrid inheritance."
   ]
  },
  {
   "cell_type": "markdown",
   "id": "97e29329",
   "metadata": {},
   "source": [
    "# Single Inheritance:- single inheritance is nothing but contains only one parent's class and only one child class;"
   ]
  },
  {
   "cell_type": "code",
   "execution_count": 16,
   "id": "ee6c5ff4",
   "metadata": {},
   "outputs": [],
   "source": [
    "class parents:\n",
    "    def lands(self):\n",
    "        return(\"This is my successor properties\")\n",
    "    def jwellers(self):\n",
    "        return(\"This is presious jwellers\")\n",
    "    \n",
    "    \n",
    "class child(parents):\n",
    "    def money(self):\n",
    "        return (\"This is my personal earning i didn't share the properties\")"
   ]
  },
  {
   "cell_type": "code",
   "execution_count": 17,
   "id": "d39682cb",
   "metadata": {},
   "outputs": [
    {
     "name": "stdout",
     "output_type": "stream",
     "text": [
      "This is presious jwellers\n",
      "This is my successor properties\n",
      "This is my personal earning i didn't share the properties\n"
     ]
    }
   ],
   "source": [
    "c = child()\n",
    "print(c.jwellers())\n",
    "print(c.lands())\n",
    "print(c.money())"
   ]
  },
  {
   "cell_type": "markdown",
   "id": "692eb165",
   "metadata": {},
   "source": [
    "# Multi-Inheritance:- inheritance which contains more parent's class and only one child class is called as Multi-Inheritance."
   ]
  },
  {
   "cell_type": "code",
   "execution_count": 20,
   "id": "3b22245b",
   "metadata": {},
   "outputs": [],
   "source": [
    "class parents1:\n",
    "    def lands(self):\n",
    "        return \"This is my whole life income and properties\"\n",
    "    \n",
    "class parents2:\n",
    "    def jwellers(self):\n",
    "        return \"This is my life-time income jwellers.\"\n",
    "    \n",
    "class parents3:\n",
    "    def power(self):\n",
    "        return \"This is my biggest income which i earn my reputation in my life.\"\n",
    "    \n",
    "    \n",
    "class child1(parents1, parents2, parents3):\n",
    "    def inheri(self):\n",
    "        return \"This is my whole properties, which our parents are earn in life.\""
   ]
  },
  {
   "cell_type": "code",
   "execution_count": 22,
   "id": "508398a3",
   "metadata": {},
   "outputs": [
    {
     "name": "stdout",
     "output_type": "stream",
     "text": [
      "This is my biggest income which i earn my reputation in my life.\n",
      "This is my whole life income and properties\n",
      "This is my life-time income jwellers.\n",
      "This is my whole properties, which our parents are earn in life.\n"
     ]
    }
   ],
   "source": [
    "boy = child1()\n",
    "print(boy.power())\n",
    "print(boy.lands())\n",
    "print(boy.jwellers())\n",
    "print(boy.inheri())"
   ]
  },
  {
   "cell_type": "markdown",
   "id": "67a97f6c",
   "metadata": {},
   "source": [
    "# Multi-level-Inheritance:- In this inheritance one parent and multiple child class;"
   ]
  },
  {
   "cell_type": "code",
   "execution_count": 33,
   "id": "caa31931",
   "metadata": {},
   "outputs": [],
   "source": [
    "class parent:\n",
    "    def lands(self):\n",
    "        return \"My land properties for only my own blood.\"\n",
    "    \n",
    "class child1(parent):\n",
    "    def dis1(self):\n",
    "        return \"My share is 25% in all of properties.\"\n",
    "    \n",
    "class child2(child1):\n",
    "    def dis2(self):\n",
    "        return \"My share dis2 is 25% in all of properties.\"\n",
    "    \n",
    "class child3(child2):\n",
    "    def dis3(self):\n",
    "        return \"My share is 50% in all of properties.\""
   ]
  },
  {
   "cell_type": "code",
   "execution_count": 34,
   "id": "305f5081",
   "metadata": {},
   "outputs": [
    {
     "name": "stdout",
     "output_type": "stream",
     "text": [
      "My land properties for only my own blood.\n",
      "My share is 50% in all of properties.\n",
      "My share dis2 is 25% in all of properties.\n"
     ]
    }
   ],
   "source": [
    "boy = child3()\n",
    "print(boy.lands())\n",
    "print(boy.dis3())\n",
    "print(boy.dis2())"
   ]
  },
  {
   "cell_type": "code",
   "execution_count": 28,
   "id": "5ed69978",
   "metadata": {},
   "outputs": [
    {
     "name": "stdout",
     "output_type": "stream",
     "text": [
      "My share is 25% in all of properties.\n",
      "My land properties for only my own blood.\n"
     ]
    }
   ],
   "source": [
    "boy1 = child1()\n",
    "print(boy1.dis1())\n",
    "print(boy1.lands())"
   ]
  },
  {
   "cell_type": "code",
   "execution_count": null,
   "id": "5c40d711",
   "metadata": {},
   "outputs": [],
   "source": []
  },
  {
   "cell_type": "code",
   "execution_count": null,
   "id": "3ad37214",
   "metadata": {},
   "outputs": [],
   "source": []
  }
 ],
 "metadata": {
  "kernelspec": {
   "display_name": "Python 3 (ipykernel)",
   "language": "python",
   "name": "python3"
  },
  "language_info": {
   "codemirror_mode": {
    "name": "ipython",
    "version": 3
   },
   "file_extension": ".py",
   "mimetype": "text/x-python",
   "name": "python",
   "nbconvert_exporter": "python",
   "pygments_lexer": "ipython3",
   "version": "3.9.13"
  }
 },
 "nbformat": 4,
 "nbformat_minor": 5
}
