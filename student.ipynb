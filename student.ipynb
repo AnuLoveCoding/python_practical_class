{
 "cells": [
  {
   "cell_type": "code",
   "execution_count": 42,
   "metadata": {},
   "outputs": [],
   "source": [
    "roll_number = 400\n",
    "student_Db = {}"
   ]
  },
  {
   "cell_type": "code",
   "execution_count": 43,
   "metadata": {},
   "outputs": [],
   "source": [
    "class student:\n",
    "    def __init__(self, name, classs, gender, Live_in_hostel, roll_number):\n",
    "        self.name = name\n",
    "        self.classs = classs\n",
    "        self.gender = gender\n",
    "        self.Live_in_hostel = Live_in_hostel\n",
    "        self.roll_number = roll_number\n",
    "\n",
    "    def __repr__(self):\n",
    "        return(f\" is {self.name}, of class {self.classs}, Lives in Hostel : {self.Live_in_hostel}\")"
   ]
  },
  {
   "cell_type": "code",
   "execution_count": 44,
   "metadata": {},
   "outputs": [],
   "source": [
    "class student_CRUD:\n",
    "    @staticmethod\n",
    "    def create(name, classs, gender, Live_in_hostel):\n",
    "        global roll_number\n",
    "        global student_Db\n",
    "        student1 = student(name, classs, gender, Live_in_hostel, roll_number)\n",
    "        student_Db[roll_number] = student1\n",
    "        roll_number += 1\n",
    "\n",
    "    @staticmethod\n",
    "    def read(roll_number):\n",
    "        if roll_number in student_Db:\n",
    "            print (student_Db[roll_number],end = \" \")\n",
    "        else:\n",
    "            print (\"Student does not exist\")\n",
    "\n",
    "    @staticmethod\n",
    "    def update(name, classs,gender,Live_in_hostel,roll_number):\n",
    "        if roll_number in student_Db:\n",
    "            student_Db[roll_number] = student(name,classs, gender, Live_in_hostel, roll_number)\n",
    "        else:\n",
    "            print (\"we can't update your profile \")\n",
    "\n",
    "    @staticmethod\n",
    "    def delete(roll_number):\n",
    "        if roll_number not in student_Db:\n",
    "            print(\"we can't delete this profile\")\n",
    "        else:\n",
    "            del(student_Db[roll_number])\n",
    "\n"
   ]
  },
  {
   "cell_type": "code",
   "execution_count": 45,
   "metadata": {},
   "outputs": [],
   "source": [
    "student_CRUD.create('Anurag',8,'Male','Yes')"
   ]
  },
  {
   "cell_type": "code",
   "execution_count": 46,
   "metadata": {},
   "outputs": [],
   "source": [
    "student_CRUD.create('Pinku',12,'Male','No')"
   ]
  },
  {
   "cell_type": "code",
   "execution_count": 47,
   "metadata": {},
   "outputs": [
    {
     "name": "stdout",
     "output_type": "stream",
     "text": [
      " is Pinku, of class 12, Lives in Hostel : No "
     ]
    }
   ],
   "source": [
    "student_CRUD.read(401)"
   ]
  }
 ],
 "metadata": {
  "kernelspec": {
   "display_name": "Python 3",
   "language": "python",
   "name": "python3"
  },
  "language_info": {
   "codemirror_mode": {
    "name": "ipython",
    "version": 3
   },
   "file_extension": ".py",
   "mimetype": "text/x-python",
   "name": "python",
   "nbconvert_exporter": "python",
   "pygments_lexer": "ipython3",
   "version": "3.10.10"
  },
  "orig_nbformat": 4
 },
 "nbformat": 4,
 "nbformat_minor": 2
}
