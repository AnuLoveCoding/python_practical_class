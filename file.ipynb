{
 "cells": [
  {
   "cell_type": "code",
   "execution_count": 28,
   "metadata": {},
   "outputs": [],
   "source": [
    "g = open('file.txt','r')"
   ]
  },
  {
   "cell_type": "code",
   "execution_count": 29,
   "metadata": {},
   "outputs": [
    {
     "name": "stdout",
     "output_type": "stream",
     "text": [
      "6 6 6 8 8 7 3 4 6 4 0 "
     ]
    }
   ],
   "source": [
    "# check each line to vowels and count it also.\n",
    "for l in g:\n",
    "    l = l.lower()\n",
    "    ans = 0\n",
    "    for j in l:\n",
    "        # if j == 'a' or j == 'e' or j == 'i' or j== 'o' or j == 'u':\n",
    "        if j in 'aeiou':\n",
    "            ans += 1\n",
    "    print(ans, end = \" \")"
   ]
  },
  {
   "cell_type": "code",
   "execution_count": 30,
   "metadata": {},
   "outputs": [],
   "source": [
    "g.close()"
   ]
  }
 ],
 "metadata": {
  "kernelspec": {
   "display_name": "Python 3",
   "language": "python",
   "name": "python3"
  },
  "language_info": {
   "codemirror_mode": {
    "name": "ipython",
    "version": 3
   },
   "file_extension": ".py",
   "mimetype": "text/x-python",
   "name": "python",
   "nbconvert_exporter": "python",
   "pygments_lexer": "ipython3",
   "version": "3.10.10"
  },
  "orig_nbformat": 4
 },
 "nbformat": 4,
 "nbformat_minor": 2
}
