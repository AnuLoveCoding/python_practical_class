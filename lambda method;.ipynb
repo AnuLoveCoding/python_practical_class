{
 "cells": [
  {
   "cell_type": "code",
   "execution_count": 22,
   "id": "4bebde47",
   "metadata": {},
   "outputs": [],
   "source": [
    "def add(a,b):\n",
    "    '''This is my number choice'''\n",
    "    return a + b"
   ]
  },
  {
   "cell_type": "code",
   "execution_count": 24,
   "id": "028c447e",
   "metadata": {},
   "outputs": [
    {
     "name": "stdout",
     "output_type": "stream",
     "text": [
      "This is my number choice\n"
     ]
    }
   ],
   "source": [
    "# docString function\n",
    "print(add.__doc__)"
   ]
  },
  {
   "cell_type": "code",
   "execution_count": 6,
   "id": "87329558",
   "metadata": {},
   "outputs": [
    {
     "name": "stdout",
     "output_type": "stream",
     "text": [
      "72\n"
     ]
    }
   ],
   "source": [
    "print((lambda a,b : a * b)(8,9))"
   ]
  },
  {
   "cell_type": "code",
   "execution_count": 21,
   "id": "2a99827f",
   "metadata": {},
   "outputs": [],
   "source": [
    "ans = (lambda **a : a['name'])"
   ]
  },
  {
   "cell_type": "code",
   "execution_count": 20,
   "id": "b66ef108",
   "metadata": {},
   "outputs": [
    {
     "data": {
      "text/plain": [
       "'Anurag'"
      ]
     },
     "execution_count": 20,
     "metadata": {},
     "output_type": "execute_result"
    }
   ],
   "source": [
    "ans(name = 'Anurag', age = 22,location = 'nangloi')"
   ]
  },
  {
   "cell_type": "code",
   "execution_count": null,
   "id": "5da6a09c",
   "metadata": {},
   "outputs": [],
   "source": []
  },
  {
   "cell_type": "code",
   "execution_count": 27,
   "id": "faca052d",
   "metadata": {},
   "outputs": [],
   "source": [
    "n = (lambda **nn : nn['age'])"
   ]
  },
  {
   "cell_type": "code",
   "execution_count": 28,
   "id": "d4c248f7",
   "metadata": {},
   "outputs": [
    {
     "name": "stdout",
     "output_type": "stream",
     "text": [
      "22\n"
     ]
    }
   ],
   "source": [
    "print(n(name = 'Anurag', age = 22 ,location = 'nangloi'))"
   ]
  }
 ],
 "metadata": {
  "kernelspec": {
   "display_name": "Python 3 (ipykernel)",
   "language": "python",
   "name": "python3"
  },
  "language_info": {
   "codemirror_mode": {
    "name": "ipython",
    "version": 3
   },
   "file_extension": ".py",
   "mimetype": "text/x-python",
   "name": "python",
   "nbconvert_exporter": "python",
   "pygments_lexer": "ipython3",
   "version": "3.9.13"
  }
 },
 "nbformat": 4,
 "nbformat_minor": 5
}
