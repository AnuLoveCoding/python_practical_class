{
 "cells": [
  {
   "cell_type": "code",
   "execution_count": null,
   "id": "dd132919",
   "metadata": {},
   "outputs": [],
   "source": [
    "# person-class;"
   ]
  },
  {
   "cell_type": "code",
   "execution_count": 1,
   "id": "eb09d575",
   "metadata": {},
   "outputs": [],
   "source": [
    "class person:\n",
    "    def __init__(self, name, age, color, sex):\n",
    "        self.name = name\n",
    "        self.age = age\n",
    "        self.color = color\n",
    "        self.sex = sex"
   ]
  },
  {
   "cell_type": "code",
   "execution_count": 10,
   "id": "6e4b7634",
   "metadata": {},
   "outputs": [],
   "source": [
    "person1 = person(\"Anurag\", 22 , \"white\", \"male\")\n",
    "person2 = person(\"Hritik\", 18, \"black\", \"male\")\n",
    "person3 = person(\"Manish\",16, \"might-black\",\"male\")"
   ]
  },
  {
   "cell_type": "code",
   "execution_count": 9,
   "id": "1656ec20",
   "metadata": {},
   "outputs": [
    {
     "data": {
      "text/plain": [
       "'Anurag'"
      ]
     },
     "execution_count": 9,
     "metadata": {},
     "output_type": "execute_result"
    }
   ],
   "source": [
    "person1.name"
   ]
  },
  {
   "cell_type": "code",
   "execution_count": 12,
   "id": "6ea0db26",
   "metadata": {},
   "outputs": [
    {
     "data": {
      "text/plain": [
       "'black'"
      ]
     },
     "execution_count": 12,
     "metadata": {},
     "output_type": "execute_result"
    }
   ],
   "source": [
    "person2.age\n",
    "person2.color"
   ]
  }
 ],
 "metadata": {
  "kernelspec": {
   "display_name": "Python 3 (ipykernel)",
   "language": "python",
   "name": "python3"
  },
  "language_info": {
   "codemirror_mode": {
    "name": "ipython",
    "version": 3
   },
   "file_extension": ".py",
   "mimetype": "text/x-python",
   "name": "python",
   "nbconvert_exporter": "python",
   "pygments_lexer": "ipython3",
   "version": "3.9.13"
  }
 },
 "nbformat": 4,
 "nbformat_minor": 5
}
